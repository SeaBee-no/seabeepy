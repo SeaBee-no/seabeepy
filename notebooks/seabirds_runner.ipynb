{
 "cells": [
  {
   "cell_type": "code",
   "execution_count": null,
   "id": "9474261c-1d26-46f8-8611-75a5c857e64c",
   "metadata": {
    "tags": []
   },
   "outputs": [],
   "source": [
    "import datetime as dt\n",
    "import logging\n",
    "import os\n",
    "import time\n",
    "import requests\n",
    "from glob import glob\n",
    "from typing import List, Dict\n",
    "\n",
    "import yaml\n",
    "from config import SETTINGS\n",
    "from pyodm import Node\n",
    "\n",
    "import seabeepy as sb"
   ]
  },
  {
   "cell_type": "markdown",
   "id": "329555be-74b8-4d1a-aa06-7e8d8e9c2b06",
   "metadata": {},
   "source": [
    "# NINA seabird surveys 2023\n",
    "\n",
    "Initial notebook for processing data from Sindre's fieldwork campaign during spring/summer 2023. The code performs the following operations:\n",
    "\n",
    " 1. Mosics raw RGB images (in JPEG format) to create orthophotos using NodeODM.\n",
    " \n",
    " 2. Optimises the orthophotos for display on GeoNode.\n",
    " \n",
    " 3. Adds the optimised orthophotos to GeoServer, publishes them to GeoNode, and adds (very) basic metadata.\n",
    " \n",
    " 4. A log file recording progress and any errors is saved to `temp_dir`.\n",
    "\n",
    "Assumptions:\n",
    "\n",
    " * Mission folders are named `Region_Area_YYYYMMDD` or `Region_Area_YYYYMMDDhhmm`.\n",
    " \n",
    " * Raw JPEG images are contained in a subfolder named `images`.\n",
    " \n",
    " * The total number of files expected in the `images` folder is specified in the `nfiles` attribute of `config.yaml`, which is located in the top level of the mission folder. To ensure all data has finished uploading before starting any processing, the code first checks that the number of files in `images` is equal to the value specified in `config.yaml`. \n",
    " \n",
    " * If the mission folder already contains a folder named `orthophoto`, the code skips ahead to the next mission (i.e. it assumes the folder has already been processed).\n",
    " \n",
    " * If available, ground control points must be stored in a subfolder named `./gcp/gcp_list-ODM.txt`.\n",
    " \n",
    "**To do:** It looks like Sindre's most recent uploads also include multi-spectral data in TIFF format (also in the `images` folder). The script here should be extended to process these too, if desired."
   ]
  },
  {
   "cell_type": "code",
   "execution_count": null,
   "id": "89cd5a5b-53c4-43cb-b3c3-99a3fd308b21",
   "metadata": {
    "tags": []
   },
   "outputs": [],
   "source": [
    "# User input\n",
    "pc_quality = \"high\"\n",
    "feature_quality = \"high\"\n",
    "shared_dir = \"/home/notebook/shared-seabee-ns9879k\"\n",
    "nodeodm_workdir = shared_dir + \"/nodeodm-workdir\"\n",
    "base_dir = r\"/home/notebook/shared-seabee-ns9879k/seabirds/2023/\"\n",
    "temp_dir = r\"/home/notebook/cogs/\""
   ]
  },
  {
   "cell_type": "code",
   "execution_count": null,
   "id": "828e729f-e923-4bb5-906a-ba1ca1b07cd6",
   "metadata": {
    "tags": []
   },
   "outputs": [],
   "source": [
    "def check_folder_structure(dir_path):\n",
    "    \"\"\"Check whether folder should be processed.\n",
    "\n",
    "    Args\n",
    "        dir_path: Str. Path to mission folder.\n",
    "\n",
    "    Returns\n",
    "        Bool. True if folder can be processed, else False.\n",
    "    \"\"\"\n",
    "    if os.path.isdir(os.path.join(dir_path, \"orthophoto\")):\n",
    "        msg = \"Skipping. 'orthophoto' subdirectory already exists.\"\n",
    "        print(msg)\n",
    "\n",
    "        return False\n",
    "\n",
    "    elif not os.path.isdir(os.path.join(dir_path, \"images\")):\n",
    "        msg = \"Skipping. Could not identify 'images' subdirectory.\"\n",
    "        print(msg)\n",
    "        logging.warning(msg)\n",
    "\n",
    "        return False\n",
    "\n",
    "    elif not os.path.isfile(os.path.join(dir_path, \"config.yaml\")):\n",
    "        msg = \"Skipping. Could not find file 'config.yaml'.\"\n",
    "        print(msg)\n",
    "        logging.error(msg)\n",
    "\n",
    "        return False\n",
    "\n",
    "    else:\n",
    "        return True\n",
    "\n",
    "\n",
    "def is_publish_ready(dir_path: str):\n",
    "    \"\"\"Check if nodeodm result is ready for publish\n",
    "    \n",
    "    Check if nodeomd result have been uploaded to minio and we can create standaridized tif and publish to geonode\n",
    "    \n",
    "    \"\"\"\n",
    "    mission_name = dir_path.split(\"/\")[-1]\n",
    "    return os.path.isdir(os.path.join(dir_path, \"orthophoto\")) and not os.path.isfile(os.path.join(dir_path, \"orthophoto\", f\"{mission_name}.tif\"))\n",
    "\n",
    "\n",
    "def parse_mission_data(mission_name):\n",
    "    \"\"\"Extract region, area and date from folder name.\n",
    "\n",
    "    Args\n",
    "        mission_name: Str. Name of mission folder\n",
    "\n",
    "    Returns\n",
    "        Tuple or Bool. (region, area, date) if name can be parsed, else False.\n",
    "    \"\"\"\n",
    "    try:\n",
    "        region, area, date = mission_name.split(\"_\")\n",
    "    except ValueError:\n",
    "        msg = f\"Skipping. Could not parse mission name '{mission_name}' (expected 'region_area_date')\"\n",
    "        print(msg)\n",
    "        logging.error(msg)\n",
    "\n",
    "        return False\n",
    "\n",
    "    try:\n",
    "        date = dt.datetime.strptime(date, \"%Y%m%d\")\n",
    "    except ValueError:\n",
    "        try:\n",
    "            date = dt.datetime.strptime(date, \"%Y%m%d%H%M\")\n",
    "        except ValueError:\n",
    "            msg = f\"Skipping. Could not parse date '{date}' (expected 'YYYYMMDD' or 'YYYYMMDDhhmm')\"\n",
    "            print(msg)\n",
    "            logging.error(msg)\n",
    "\n",
    "            return False\n",
    "\n",
    "    msg = f\"Data collected at {area} ({region}) on {date}.\"\n",
    "    print(msg)\n",
    "\n",
    "    return (region, area, date)\n",
    "\n",
    "\n",
    "def check_file_count(dir_path):\n",
    "    \"\"\"Count the number of files in 'image_fold' and check it agrees with\n",
    "    the value in 'config.yaml'.\n",
    "\n",
    "    Args\n",
    "        dir_path: Str. Path to mission folder.\n",
    "\n",
    "    Returns\n",
    "        Bool. True if count agrees, else False.\n",
    "    \"\"\"\n",
    "    image_fold = os.path.join(dir_path, \"images\")\n",
    "    nfiles_found = len(\n",
    "        [\n",
    "            name\n",
    "            for name in os.listdir(image_fold)\n",
    "            if os.path.isfile(os.path.join(image_fold, name))\n",
    "        ]\n",
    "    )\n",
    "\n",
    "    config_path = os.path.join(dir_path, \"config.yaml\")\n",
    "    with open(config_path, \"r\") as stream:\n",
    "        data = yaml.safe_load(stream)\n",
    "    nfiles_expected = data[\"nfiles\"]\n",
    "\n",
    "    if nfiles_found == nfiles_expected:\n",
    "        return True\n",
    "    else:\n",
    "        msg = \"Skipping. Number of files in 'images' does not match 'config.yaml'.\"\n",
    "        print(msg)\n",
    "        logging.error(msg)\n",
    "\n",
    "        return False\n",
    "\n",
    "\n",
    "def get_nodeodm_tasks(node_client):\n",
    "    \"\"\"Get nodeodm task\"\"\"\n",
    "    \n",
    "    nodeodm_task_ids = node_client.get(\"task/list\")\n",
    "    return [node_client.get_task(t[\"uuid\"]) for t in nodeodm_task_ids]"
   ]
  },
  {
   "cell_type": "code",
   "execution_count": null,
   "id": "80500a8a-c135-41be-bf0d-5203c73af01b",
   "metadata": {
    "tags": []
   },
   "outputs": [],
   "source": [
    "# Check NodeODM is available\n",
    "node = Node.from_url(\"http://nodeodm\")\n",
    "max_node_tasks = node.info().max_parallel_tasks"
   ]
  },
  {
   "cell_type": "code",
   "execution_count": null,
   "id": "873a2a78-74f6-41ae-834b-d1b13fe9a817",
   "metadata": {
    "tags": []
   },
   "outputs": [],
   "source": [
    "# Login to MinIO\n",
    "minio_client = sb.storage.minio_login(\n",
    "    user=SETTINGS.MINIO_ACCESS_ID, password=SETTINGS.MINIO_SECRET_KEY\n",
    ")"
   ]
  },
  {
   "cell_type": "code",
   "execution_count": null,
   "id": "7add8e10-de90-45ba-9ed7-b1032ab425e6",
   "metadata": {
    "tags": []
   },
   "outputs": [],
   "source": [
    "# Setup logging\n",
    "log_date = dt.datetime.today()\n",
    "start_time = time.time()\n",
    "msg = f\"\"\"\n",
    "Processing started: {log_date}\n",
    "    \n",
    "User options\n",
    "base_dir:           {base_dir}\n",
    "temp_dir:           {temp_dir}\n",
    "pc_quality:         {pc_quality}\n",
    "feature_quality:    {feature_quality}        \n",
    "\"\"\"\n",
    "print(msg)"
   ]
  },
  {
   "cell_type": "markdown",
   "id": "41e71293",
   "metadata": {},
   "source": [
    "# Create pyodm task"
   ]
  },
  {
   "cell_type": "code",
   "execution_count": null,
   "id": "16225430-a110-4174-83ef-1b5cfc0dd0f3",
   "metadata": {
    "tags": []
   },
   "outputs": [],
   "source": [
    "nodeodm_options = {\n",
    "    \"dsm\": True,\n",
    "    \"dtm\": True,\n",
    "    \"cog\": True,\n",
    "    \"orthophoto-compression\": \"LZW\",\n",
    "    \"orthophoto-resolution\": 0.1,  # cm/pixel. If set very small, output will be auto-limited by data to max sensible value\n",
    "    \"dem-resolution\": 0.1,  # cm/pixel. If set very small, output will be auto-limited by data to max sensible value\n",
    "    \"max-concurrency\": 16,\n",
    "    \"auto-boundary\": True,\n",
    "    \"use-3dmesh\": True,\n",
    "    \"fast-orthophoto\": False,\n",
    "    # \"split\": 100,\n",
    "    # \"split-overlap\": 50,\n",
    "    \"feature-quality\": feature_quality,  # ultra | high | medium | low | lowest\n",
    "    \"pc-quality\": pc_quality,  # ultra | high | medium | low | lowest\n",
    "}"
   ]
  },
  {
   "cell_type": "code",
   "execution_count": null,
   "id": "931f53cf-b83b-47cb-a8c2-d8d89a029aec",
   "metadata": {
    "tags": []
   },
   "outputs": [],
   "source": [
    "nodeodm_tasks = get_nodeodm_tasks(node)\n",
    "# just ignoring all that we have tried processing\n",
    "existing_task_paths = [t.info().name for t in nodeodm_tasks]"
   ]
  },
  {
   "cell_type": "code",
   "execution_count": null,
   "id": "44e0859e-b19a-44e0-8e65-54010ee72c0a",
   "metadata": {
    "tags": []
   },
   "outputs": [],
   "source": [
    "dir_list = [f for f in os.scandir(base_dir) if f.is_dir()]\n",
    "mission_list = [f for f in dir_list if check_folder_structure(f.path) and check_file_count(f.path)]\n",
    "print(f\"Preparing to process {len(mission_list)} mission\")"
   ]
  },
  {
   "cell_type": "code",
   "execution_count": null,
   "id": "34fe8911-33de-4d85-b3d4-32484f382313",
   "metadata": {
    "execution": {
     "iopub.execute_input": "2023-05-26T10:00:41.630263Z",
     "iopub.status.busy": "2023-05-26T10:00:41.629556Z",
     "iopub.status.idle": "2023-05-26T10:01:10.121337Z",
     "shell.execute_reply": "2023-05-26T10:01:10.120246Z"
    }
   },
   "outputs": [],
   "source": [
    "# Process missions \n",
    "for mission_entry in mission_list:\n",
    "    mission_fold = mission_entry.path\n",
    "    mission_name = mission_entry.name\n",
    "    mission_data = parse_mission_data(mission_name)\n",
    "    # Check whether folder can be processed\n",
    "    if mission_fold in existing_task_paths:\n",
    "        # could have some logic for retrying failed tasks, but not doing that now\n",
    "        print(f\"Skipping {mission_name} it has already been queued\")\n",
    "    elif mission_data:\n",
    "        print(f\"\\n################\\nProcessing: {mission_name}\")\n",
    "        region, area, date = mission_data\n",
    "        # Check that data upload is complete\n",
    "        print(\"Orthomosaicing.\")\n",
    "        # Get images to process\n",
    "        image_fold = os.path.join(mission_fold, \"images\")\n",
    "        image_files = sb.ortho.list_images(image_fold, ext=\"JPG\", verbose=False)\n",
    "        \n",
    "        print(f\"{len(image_files)} images to process.\")\n",
    "        # Get GCPs, if available\n",
    "        gcp_path = os.path.join(mission_fold, \"gcp\", \"gcp_list-ODM.txt\")\n",
    "        if os.path.isfile(gcp_path):\n",
    "            gcps = gcp_path\n",
    "            print(\"GCP file identified.\")\n",
    "        else:\n",
    "            gcps = None\n",
    "            print(\"GCP file not found.\")\n",
    "        # Send task to NodeODM. Options are documented here:\n",
    "        # https://docs.opendronemap.org/arguments/\n",
    "        # using mission folder as name so lookup is easier for publishing\n",
    "        nodeodm_options[\"gcps\"] = gcps\n",
    "        task = node.create_task(\n",
    "            image_files,\n",
    "            nodeodm_options,\n",
    "            name=mission_fold\n",
    "        )\n",
    "        print(f\"pyodm task created {task.info().uuid}\")\n",
    "        print(f\"pyodm task created {task.info().progress}\")\n",
    "            "
   ]
  },
  {
   "cell_type": "markdown",
   "id": "5658c1c4-0559-4b1e-954e-5fb94fce39b0",
   "metadata": {},
   "source": [
    "# Store nodeodm results to minio\n",
    "\n",
    "nodeodm actually supports s3, but for now just read from disk:)"
   ]
  },
  {
   "cell_type": "code",
   "execution_count": null,
   "id": "6c1b8c22-e088-4ae8-9e11-11d4eec2f32d",
   "metadata": {},
   "outputs": [],
   "source": [
    "nodeodm_tasks = get_nodeodm_tasks(node)\n",
    "misson_folders = [m.path for m in mission_list]\n",
    "# See https://pyodm.readthedocs.io/en/latest/#pyodm.types.TaskStatus\n",
    "finished_tasks = [t for t in nodeodm_tasks if str(t.info().status) == \"TaskStatus.COMPLETED\"]\n",
    "# This exludes tasks/folders where ortophoto folder already exists\n",
    "upload_tasks = [t for t in finished_tasks if t.info().name in misson_folders]"
   ]
  },
  {
   "cell_type": "code",
   "execution_count": null,
   "id": "76aa22a4-eb90-40df-bf75-afe2d9d8843f",
   "metadata": {},
   "outputs": [],
   "source": [
    "# upload finished nodeom tasks\n",
    "for task in upload_tasks:\n",
    "    # Get pyodm finished tasks\n",
    "    task_id = task.info().uuid\n",
    "    mission_fold = task.info().name\n",
    "    mission = os.path.basename(mission_fold)\n",
    "    region, area, date = parse_mission_data(mission)\n",
    "    sb.storage.copy_nodeodm_results(task_id, mission_fold, minio_client)\n",
    "    #delete task after storing to minio\n",
    "    task.remove()"
   ]
  },
  {
   "cell_type": "markdown",
   "id": "c2fdd613",
   "metadata": {},
   "source": [
    "# Publish finished pyodm tasks"
   ]
  },
  {
   "cell_type": "code",
   "execution_count": null,
   "id": "c54e8aed-c6de-47bf-b9b8-9cf74b96ddfa",
   "metadata": {
    "tags": []
   },
   "outputs": [],
   "source": [
    "publish_list = [f for f in dir_list if is_publish_ready(f.path)]\n",
    "publish_list"
   ]
  },
  {
   "cell_type": "code",
   "execution_count": null,
   "id": "7c750e85",
   "metadata": {
    "execution": {
     "iopub.execute_input": "2023-05-26T10:01:10.452073Z",
     "iopub.status.busy": "2023-05-26T10:01:10.451394Z",
     "iopub.status.idle": "2023-05-26T10:08:17.243371Z",
     "shell.execute_reply": "2023-05-26T10:08:17.242390Z"
    }
   },
   "outputs": [],
   "source": [
    "# Process mission data in 'base_dir'\n",
    "for mission_entry in publish_list:\n",
    "    # Get pyodm finished tasks\n",
    "    mission_fold = mission_entry.path\n",
    "    mission = os.path.basename(mission_fold)\n",
    "    region, area, date = parse_mission_data(mission)\n",
    "    print(\"Preparing orthophoto for publishing.\")\n",
    "    # Standardise and save locally\n",
    "    ortho_path = os.path.join(\n",
    "        mission_fold, \"orthophoto\", \"odm_orthophoto.original.tif\"\n",
    "    )\n",
    "    temp_path = os.path.join(temp_dir, mission + \".tif\")\n",
    "    sb.geo.standardise_orthophoto(\n",
    "        ortho_path,\n",
    "        temp_path,\n",
    "        red_band=1,\n",
    "        green_band=2,\n",
    "        blue_band=3,\n",
    "        nodata=255,\n",
    "    )\n",
    "    # Copy to MinIo and delete local version\n",
    "    stan_path = os.path.join(\n",
    "        mission_fold, \"orthophoto\", mission + \".tif\"\n",
    "    )\n",
    "    sb.storage.copy_file(\n",
    "        temp_path, stan_path, minio_client, overwrite=False\n",
    "    )\n",
    "    os.remove(temp_path)\n",
    "    print(\"Uploading to GeoServer.\")\n",
    "    layer_name = sb.geo.upload_raster_to_geoserver(\n",
    "        stan_path,\n",
    "        SETTINGS.GEOSERVER_USER,\n",
    "        SETTINGS.GEOSERVER_PASSWORD,\n",
    "        workspace=\"geonode\",\n",
    "    ) \n",
    "    print(\"Publishing to GeoNode.\")\n",
    "    sb.geo.publish_to_geonode(\n",
    "        layer_name,\n",
    "        SETTINGS.GEONODE_USER,\n",
    "        SETTINGS.GEONODE_PASSWORD,\n",
    "        workspace=\"geonode\",\n",
    "    )\n",
    "    print(\"Updating metadata.\")\n",
    "    metadata = {\n",
    "        \"abstract\": f\"RGB mosaic collected by NINA at {area} ({region}) on {date}.\",\n",
    "        \"date\": date.isoformat(),\n",
    "        \"date_type\": \"creation\",\n",
    "        \"attribution\": \"SeaBee\",\n",
    "    }\n",
    "    sb.geo.update_geonode_metadata(\n",
    "        layer_name,\n",
    "        SETTINGS.GEONODE_USER,\n",
    "        SETTINGS.GEONODE_PASSWORD,\n",
    "        metadata,\n",
    "    )\n",
    "    end_time = time.time()\n",
    "    elapsed = dt.timedelta(seconds=end_time - start_time)\n",
    "    print(f\"Finished in {elapsed}.\")"
   ]
  },
  {
   "cell_type": "markdown",
   "id": "006e66ae-cada-4901-b380-bd10e01aee86",
   "metadata": {},
   "source": [
    "# Failed tasks\n",
    "\n",
    "Check these tasks, and if we can process them delete them from nodeodm. Note that nodeodm will also delete the tasks after a while"
   ]
  },
  {
   "cell_type": "code",
   "execution_count": null,
   "id": "0eb625ab-698f-463c-bac8-0b6685b5357a",
   "metadata": {
    "execution": {
     "iopub.execute_input": "2023-05-26T10:08:17.246577Z",
     "iopub.status.busy": "2023-05-26T10:08:17.246205Z",
     "iopub.status.idle": "2023-05-26T10:08:17.492736Z",
     "shell.execute_reply": "2023-05-26T10:08:17.491656Z"
    }
   },
   "outputs": [],
   "source": [
    "for task in nodeodm_tasks:\n",
    "    if str(task.info().status) == \"TaskStatus.FAILED\":\n",
    "        print(task.info().name)"
   ]
  }
 ],
 "metadata": {
  "kernelspec": {
   "display_name": "Python 3 (ipykernel)",
   "language": "python",
   "name": "python3"
  },
  "language_info": {
   "codemirror_mode": {
    "name": "ipython",
    "version": 3
   },
   "file_extension": ".py",
   "mimetype": "text/x-python",
   "name": "python",
   "nbconvert_exporter": "python",
   "pygments_lexer": "ipython3",
   "version": "3.10.6"
  }
 },
 "nbformat": 4,
 "nbformat_minor": 5
}
