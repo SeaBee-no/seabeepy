{
 "cells": [
  {
   "cell_type": "code",
   "execution_count": 1,
   "id": "177821af-98ee-40b6-8c06-3a32e87c32c1",
   "metadata": {},
   "outputs": [],
   "source": [
    "import glob\n",
    "import os\n",
    "\n",
    "import numpy as np\n",
    "import piexif\n",
    "import rasterio\n",
    "import tifffile as tiff\n",
    "from PIL import Image\n",
    "from tqdm.notebook import tqdm\n",
    "\n",
    "from thermal_parser import Thermal"
   ]
  },
  {
   "cell_type": "markdown",
   "id": "d7e1da53-128f-4a09-9ed1-069befc17734",
   "metadata": {},
   "source": [
    "# Extract thermal data from DJI cameras\n",
    "\n",
    "DJI thermal cameras produce 3-band RGB images in `.JPG` format. However, the thermal data itself (i.e. temperature values) are actually stored in some weird proprietary binary format embedded within the EXIF data. This can be seen using `exiftool`, which is now installed in the Hub environment:\n",
    "\n",
    "    $ exiftool ./raw_images/DJI_20230706110817_0001_T.JPG \n",
    "    [Truncated output]\n",
    "    Thermal Data                    : (Binary data 655360 bytes, use -b option to extract)\n",
    "    Thermal Calibration             : (Binary data 32768 bytes, use -b option to extract)\n",
    "    [Truncated output]\n",
    "\n",
    "The repository [here](https://github.com/SanNianYiSi/thermal_parser) provides code for extracting the thermal data, which requires the DJI SDK. However, there are somes issues with the code (syntax errors etc.) and the install script doesn't seem to work as intended. I have therefore created a fork of the repository [here](https://github.com/SeaBee-no/thermal_parser) where I have fixed the errors and simplified the installation procedure (mostly by hard-coding some file paths for our environment on Sigma2 so that the library can find the SDK).\n",
    "\n",
    "The post [here](https://community.opendronemap.org/t/lens-calibration-of-thermal-camera-dji-3t/19798/3) provides an overview of the basic workflow, which is as follows:\n",
    "\n",
    " 1. Use `thermal_parser` to extract the thermal data as a numpy array. This is then saved as a single-band TIFF (because JPGs don't support float values). However, this conversion process loses all the EXIF data from the original JPGs.\n",
    "    \n",
    " 2. Transfer the EXIF data from the original JPGs to the TIFFs. The recommended solution is to use `exiftool`, but it seems like `piexif` can do the same thing directly from Python, which is neater.\n",
    "\n",
    "The converted images can be passed to ODM and they seem to mosaic OK. The output is a 2-band GeoTIFF `(thermal, alpha)`, where the alpha channel is 0 for NoData and 255 for data. **Minor changes will be required to the standardising and publishing workflow to explicitly set NoData in band 1 based on the `alpha` channel** (at present, NoData in band 1 is represented by values >4e9, which is annoying).\n",
    "\n",
    "**I am also not sure whether we should use `radiometric-calibration: camera` when passing these images to ODM**. I think the calibration has already been done by `thermal_parser`, so it's probably not necessary to do it again?`"
   ]
  },
  {
   "cell_type": "code",
   "execution_count": 2,
   "id": "b4299f17-1d93-4f9c-9f6e-235a859f287e",
   "metadata": {},
   "outputs": [],
   "source": [
    "# Mission folder to process\n",
    "mission_fold = r\"/home/notebook/temp/fedje_stormarkIR_20230706_test\""
   ]
  },
  {
   "cell_type": "code",
   "execution_count": 3,
   "id": "e6bf88ca-5118-477d-bd5f-973dc2d81223",
   "metadata": {},
   "outputs": [
    {
     "data": {
      "application/vnd.jupyter.widget-view+json": {
       "model_id": "07a37df0e65c4dacb47bc804147992ab",
       "version_major": 2,
       "version_minor": 0
      },
      "text/plain": [
       "  0%|          | 0/457 [00:00<?, ?it/s]"
      ]
     },
     "metadata": {},
     "output_type": "display_data"
    },
    {
     "name": "stdout",
     "output_type": "stream",
     "text": [
      "Min. temp: 1.7000122\n",
      "Max. temp: 38.399994\n"
     ]
    }
   ],
   "source": [
    "# Convert 3-band RGB images to single-band thermal images\n",
    "raw_img_dir = os.path.join(mission_fold, \"raw_images\")\n",
    "proc_img_dir = os.path.join(mission_fold, \"images\")\n",
    "if not os.path.exists(proc_img_dir):\n",
    "    os.makedirs(proc_img_dir)\n",
    "\n",
    "jpg_list = glob.glob(f\"{raw_img_dir}/*_T.JPG\")\n",
    "mins = []\n",
    "maxs = []\n",
    "for jpg_path in tqdm(jpg_list):\n",
    "    fname = os.path.basename(jpg_path)\n",
    "\n",
    "    # Extract thermal data\n",
    "    thermal = Thermal(dtype=np.float32)\n",
    "    data = thermal.parse(filepath_image=jpg_path)\n",
    "\n",
    "    # Get min and max temps\n",
    "    mins.append(np.nanmin(data))\n",
    "    maxs.append(np.nanmax(data))\n",
    "\n",
    "    # Save as .tif\n",
    "    tif_path = os.path.join(mission_fold, \"images\", fname[:-4] + \".tif\")\n",
    "    tiff.imwrite(tif_path, data)\n",
    "\n",
    "    # Option 1: Copy EXIF info using piexif\n",
    "    jpg_image = Image.open(jpg_path)\n",
    "    exif_data = piexif.load(jpg_image.info[\"exif\"])\n",
    "    tif_image = Image.open(tif_path)\n",
    "    tif_image.save(tif_path, exif=piexif.dump(exif_data))\n",
    "\n",
    "print(\"Min. temp:\", min(mins))\n",
    "print(\"Max. temp:\", max(maxs))"
   ]
  },
  {
   "cell_type": "code",
   "execution_count": 4,
   "id": "2b503038-b797-43f1-a5e1-d6e61a30aae4",
   "metadata": {},
   "outputs": [],
   "source": [
    "# # Option 2: Copy EXIF data using exiftool\n",
    "# src_paths = f\"{mission_fold}/raw_images/%f.JPG\"\n",
    "# dst_dir = f\"{mission_fold}/images/\"\n",
    "# !exiftool -overwrite_original -tagsfromfile {src_paths} -all:all {dst_dir}"
   ]
  },
  {
   "cell_type": "code",
   "execution_count": 5,
   "id": "f7876a56-932c-4b58-8668-828f6ee57275",
   "metadata": {},
   "outputs": [],
   "source": [
    "# Convert ODM output to single band in (rounded to nearest degree C)\n",
    "odm_path = r\"/home/notebook/temp/odm_orthophoto.original.tif\"\n",
    "stan_path = r\"/home/notebook/temp/odm_output_standardised.tif\"\n",
    "\n",
    "with rasterio.open(odm_path) as src:\n",
    "    # Read the data and alpha channels\n",
    "    data = src.read(1)\n",
    "    alpha = src.read(2)\n",
    "\n",
    "    data[alpha == 0] = -128\n",
    "    data_int8 = np.round(data).astype(np.int8)\n",
    "\n",
    "    out_meta = src.meta.copy()\n",
    "    out_meta.update({\"count\": 1, \"dtype\": \"int8\", \"nodata\": -128, \"compress\": \"lzw\"})\n",
    "\n",
    "with rasterio.open(stan_path, \"w\", **out_meta) as dst:\n",
    "    dst.write(data_int8, 1)"
   ]
  }
 ],
 "metadata": {
  "kernelspec": {
   "display_name": "Python 3 (ipykernel)",
   "language": "python",
   "name": "python3"
  },
  "language_info": {
   "codemirror_mode": {
    "name": "ipython",
    "version": 3
   },
   "file_extension": ".py",
   "mimetype": "text/x-python",
   "name": "python",
   "nbconvert_exporter": "python",
   "pygments_lexer": "ipython3",
   "version": "3.10.6"
  }
 },
 "nbformat": 4,
 "nbformat_minor": 5
}
