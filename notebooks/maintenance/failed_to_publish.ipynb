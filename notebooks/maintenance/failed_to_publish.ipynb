{
 "cells": [
  {
   "cell_type": "code",
   "execution_count": null,
   "id": "6feb54de-9322-4332-b8bf-f12e45ca888e",
   "metadata": {},
   "outputs": [],
   "source": [
    "import glob\n",
    "import os\n",
    "import time\n",
    "from io import StringIO\n",
    "from pathlib import Path\n",
    "\n",
    "import geopandas as gpd\n",
    "import pandas as pd\n",
    "import requests\n",
    "from shapely.geometry import Polygon\n",
    "\n",
    "import seabeepy as sb\n",
    "from seabeepy.config import SETTINGS"
   ]
  },
  {
   "cell_type": "code",
   "execution_count": null,
   "id": "2557e2e9-81bf-4656-88e6-5f25ee780a2f",
   "metadata": {},
   "outputs": [],
   "source": [
    "# Login to MinIO\n",
    "minio_client = sb.storage.minio_login(\n",
    "    user=SETTINGS.MINIO_ACCESS_ID, password=SETTINGS.MINIO_SECRET_KEY\n",
    ")"
   ]
  },
  {
   "cell_type": "markdown",
   "id": "a691c5db-b153-4242-a6c3-fc6bec375ae2",
   "metadata": {},
   "source": [
    "# Identify missions that have filed to publish\n",
    "\n",
    "This notebook gets a list of all datasets on the GeoNode and compares it to the list of missions with valid config. files and `publish: true`. Missions that have not been published successfully can be deleted and reprocessed, if necessary.."
   ]
  },
  {
   "cell_type": "code",
   "execution_count": null,
   "id": "719b2889-7faf-491f-86e2-f58108cd06f4",
   "metadata": {},
   "outputs": [],
   "source": [
    "def get_geonode_data(geonode_url):\n",
    "    # Initialize an empty list to store each dataset's information\n",
    "    datasets = []\n",
    "\n",
    "    # Initialize the URL for the first page of results\n",
    "    url = f\"{geonode_url}/api/v2/datasets/\"\n",
    "\n",
    "    while url:\n",
    "        # Get a page of results\n",
    "        response = requests.get(url)\n",
    "        data = response.json()\n",
    "\n",
    "        for dataset in data[\"datasets\"]:\n",
    "            # Get the bounding box and convert it into a polygon\n",
    "            bbox = dataset[\"ll_bbox_polygon\"][\"coordinates\"][0]\n",
    "            polygon = Polygon(bbox)\n",
    "\n",
    "            # Append the dataset's name and polygon to the list\n",
    "            datasets.append(\n",
    "                {\n",
    "                    \"name\": dataset[\"name\"],\n",
    "                    \"type\": dataset[\"subtype\"],\n",
    "                    \"abstract\": dataset[\"abstract\"],\n",
    "                    \"geometry\": polygon,\n",
    "                }\n",
    "            )\n",
    "\n",
    "        # Get the URL for the next page of results, or None if this is the last page\n",
    "        url = data[\"links\"][\"next\"]\n",
    "\n",
    "        time.sleep(0.5)\n",
    "\n",
    "    # Convert the list into a GeoDataFrame\n",
    "    gdf = gpd.GeoDataFrame(datasets, crs=\"EPSG:4326\")\n",
    "\n",
    "    # Reproject to EPSG:3035 (ETRS89-extended / LAEA Europe) to calculate area in km^2\n",
    "    gdf[\"area_km2\"] = gdf.to_crs(\"EPSG:3035\")[\"geometry\"].area / 10**6\n",
    "\n",
    "    return gdf\n",
    "\n",
    "\n",
    "def extract_minio_path(x):\n",
    "    \"\"\"Parse the MinIO path from the 'abstract', where available.\"\"\"\n",
    "    try:\n",
    "        return (\n",
    "            pd.read_html(StringIO(x), index_col=0)[0].loc[\"MinIO path\", 1]\n",
    "            if pd.notnull(x)\n",
    "            else \"\"\n",
    "        )\n",
    "    except Exception:\n",
    "        return \"\"\n",
    "\n",
    "\n",
    "def extract_geopackage_path(x):\n",
    "    \"\"\"Parse the gpkg path from the 'abstract', where available.\"\"\"\n",
    "    try:\n",
    "        return (\n",
    "            pd.read_html(StringIO(x), index_col=0)[0].loc[\"Geopackage Path\", 1]\n",
    "            if pd.notnull(x)\n",
    "            else \"\"\n",
    "        )\n",
    "    except Exception:\n",
    "        return \"\"\n",
    "\n",
    "\n",
    "def assign_theme(x):\n",
    "    \"\"\"Parse the SeaBee 'theme' from the 'abstract', where available.\"\"\"\n",
    "    try:\n",
    "        return (\n",
    "            pd.read_html(StringIO(x), index_col=0)[0].loc[\"Theme\", 1]\n",
    "            if pd.notnull(x)\n",
    "            else \"\"\n",
    "        )\n",
    "    except Exception:\n",
    "        return \"\""
   ]
  },
  {
   "cell_type": "markdown",
   "id": "3c0f65ce-162c-4177-b68c-41b6aa59e8a4",
   "metadata": {},
   "source": [
    "## 1. Directories to scan"
   ]
  },
  {
   "cell_type": "code",
   "execution_count": null,
   "id": "069540fc-8e6a-4e77-bf77-e55f0eb63d63",
   "metadata": {},
   "outputs": [],
   "source": [
    "base_dirs = [\n",
    "    # r\"/home/notebook/shared-seabee-ns9879k/seabirds/2017\",\n",
    "    # r\"/home/notebook/shared-seabee-ns9879k/seabirds/2018\",\n",
    "    # r\"/home/notebook/shared-seabee-ns9879k/seabirds/2019\",\n",
    "    # r\"/home/notebook/shared-seabee-ns9879k/seabirds/2020\",\n",
    "    # r\"/home/notebook/shared-seabee-ns9879k/seabirds/2021\",\n",
    "    # r\"/home/notebook/shared-seabee-ns9879k/seabirds/2022\",\n",
    "    # r\"/home/notebook/shared-seabee-ns9879k/seabirds/2023\",\n",
    "    # r\"/home/notebook/shared-seabee-ns9879k/seabirds/2024\",\n",
    "    r\"/home/notebook/shared-seabee-ns9879k/seabirds/2025\",\n",
    "    # r\"/home/notebook/shared-seabee-ns9879k/niva-tidy/2022\",\n",
    "    # r\"/home/notebook/shared-seabee-ns9879k/niva-tidy/2023\",\n",
    "    # r\"/home/notebook/shared-seabee-ns9879k/niva-tidy/2024\",\n",
    "    # r\"/home/notebook/shared-seabee-ns9879k/niva-tidy/2025\",\n",
    "    # r\"/home/notebook/shared-seabee-ns9879k/dmc\",\n",
    "    # r\"/home/notebook/shared-seabee-ns9879k/imr\",\n",
    "    # r\"/home/notebook/shared-seabee-ns9879k/ntnu\",\n",
    "    # r\"/home/notebook/shared-seabee-ns9879k/obama-next\",\n",
    "    # r\"/home/notebook/shared-seabee-ns9879k/massimal\",\n",
    "]"
   ]
  },
  {
   "cell_type": "markdown",
   "id": "0443313a-5062-48cf-844d-7f346d51aba2",
   "metadata": {},
   "source": [
    "## 2. Get all GeoNode data"
   ]
  },
  {
   "cell_type": "code",
   "execution_count": null,
   "id": "199dc7f0-9d43-4d35-bfb0-e309ad10a7a8",
   "metadata": {},
   "outputs": [],
   "source": [
    "# Get all geonode data\n",
    "url = r\"https://geonode.seabee.sigma2.no\"\n",
    "gdf = get_geonode_data(url)"
   ]
  },
  {
   "cell_type": "markdown",
   "id": "d32eb98b-b47f-4f1a-8379-d670f56c3e63",
   "metadata": {},
   "source": [
    "## 3. Identify unpublished orthomosaics"
   ]
  },
  {
   "cell_type": "code",
   "execution_count": null,
   "id": "4f010dbc-095f-40ad-a83f-dd9e016e9c34",
   "metadata": {},
   "outputs": [],
   "source": [
    "# Get rasters\n",
    "ras_gdf = gdf.query(\"(name != 'coastline') and (type == 'raster')\").copy()\n",
    "ras_gdf[\"minio_path\"] = ras_gdf[\"abstract\"].apply(extract_minio_path)\n",
    "ras_gdf[\"theme\"] = ras_gdf[\"abstract\"].apply(assign_theme)\n",
    "published_list = ras_gdf[\"name\"].tolist()\n",
    "ras_gdf.head()"
   ]
  },
  {
   "cell_type": "code",
   "execution_count": null,
   "id": "9a7c40ff-a3b4-429c-b440-408bbe939ec3",
   "metadata": {},
   "outputs": [],
   "source": [
    "mission_list = [\n",
    "    f.parent\n",
    "    for base_dir in base_dirs\n",
    "    for f in Path(base_dir).rglob(\"config.seabee.yaml\")\n",
    "]\n",
    "mission_list = [f for f in mission_list if sb.ortho.check_config_valid(f)]\n",
    "mission_list = [f for f in mission_list if sb.ortho.parse_config(f)[\"publish\"]]\n",
    "print(len(mission_list))"
   ]
  },
  {
   "cell_type": "code",
   "execution_count": null,
   "id": "654123d8-cc6c-43fd-93dd-47a1fecaafe7",
   "metadata": {},
   "outputs": [],
   "source": [
    "for mission_fold in mission_list:\n",
    "    layer_name = sb.ortho.get_layer_name(mission_fold)\n",
    "    stan_path = os.path.join(mission_fold, \"orthophoto\", layer_name + \".tif\")\n",
    "    if os.path.exists(stan_path) and (layer_name not in published_list):\n",
    "        print(mission_fold)\n",
    "        # sb.storage.delete_file(stan_path, minio_client)"
   ]
  },
  {
   "cell_type": "markdown",
   "id": "396a4e05-c278-4eaa-a71d-a2c3bd6f57fd",
   "metadata": {},
   "source": [
    "## 4. Identify unpublished `detections` geopackages"
   ]
  },
  {
   "cell_type": "code",
   "execution_count": null,
   "id": "916a462e-e065-400d-84b2-d73d00efa465",
   "metadata": {},
   "outputs": [],
   "source": [
    "# Get vectors\n",
    "vec_gdf = gdf.query(\"(name != 'coastline') and (type == 'vector')\").copy()\n",
    "vec_gdf[\"minio_path\"] = gdf[\"abstract\"].apply(extract_geopackage_path)\n",
    "published_list = vec_gdf[\"name\"].tolist()\n",
    "vec_gdf.head()"
   ]
  },
  {
   "cell_type": "code",
   "execution_count": null,
   "id": "3b1cb6d2-c5f7-4e24-9827-486769fc59bd",
   "metadata": {},
   "outputs": [],
   "source": [
    "mission_list = [\n",
    "    f.parent\n",
    "    for base_dir in base_dirs\n",
    "    for f in Path(base_dir).rglob(\"config.seabee.yaml\")\n",
    "]\n",
    "mission_list = [f for f in mission_list if sb.ortho.check_config_valid(f)]\n",
    "mission_list = [\n",
    "    f\n",
    "    for f in mission_list\n",
    "    if sb.ortho.parse_config(f)[\"publish\"] and sb.ortho.parse_config(f)[\"classify\"]\n",
    "]\n",
    "print(len(mission_list))"
   ]
  },
  {
   "cell_type": "code",
   "execution_count": null,
   "id": "c41e7a48-952c-4870-ac8c-74de752332e2",
   "metadata": {},
   "outputs": [],
   "source": [
    "for mission_fold in mission_list:\n",
    "    layer_name = sb.ortho.get_layer_name(mission_fold) + \"_detections\"\n",
    "    search_pattern = os.path.join(\n",
    "        mission_fold, \"results\", \"detection\", \"*\", layer_name + \".gpkg\"\n",
    "    )\n",
    "    matching_files = glob.glob(search_pattern)\n",
    "\n",
    "    if matching_files and (layer_name not in published_list):\n",
    "        print(mission_fold)\n",
    "        if len(matching_files) == 1:\n",
    "            gpkg_path = matching_files[0]\n",
    "            print(gpkg_path)\n",
    "            # sb.storage.delete_file(gpkg_path, minio_client)\n",
    "            print(\"\")\n",
    "        elif len(matching_files) == 0:\n",
    "            print(\"No detection results.\")\n",
    "            print(\"\")\n",
    "        else:\n",
    "            print(\"Multiple detection results.\")\n",
    "            print(\"\")"
   ]
  }
 ],
 "metadata": {
  "kernelspec": {
   "display_name": "Python 3 (ipykernel)",
   "language": "python",
   "name": "python3"
  },
  "language_info": {
   "codemirror_mode": {
    "name": "ipython",
    "version": 3
   },
   "file_extension": ".py",
   "mimetype": "text/x-python",
   "name": "python",
   "nbconvert_exporter": "python",
   "pygments_lexer": "ipython3",
   "version": "3.10.6"
  }
 },
 "nbformat": 4,
 "nbformat_minor": 5
}
