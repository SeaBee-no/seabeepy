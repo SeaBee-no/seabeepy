{
 "cells": [
  {
   "cell_type": "code",
   "execution_count": null,
   "id": "6ca11c5a-3391-40a3-84d0-b2aea53d6a24",
   "metadata": {},
   "outputs": [],
   "source": [
    "import datetime as dt\n",
    "import os\n",
    "import time\n",
    "from pathlib import Path\n",
    "\n",
    "import geopandas as gpd\n",
    "import requests\n",
    "from tqdm.notebook import tqdm\n",
    "\n",
    "import seabeepy as sb\n",
    "from seabeepy.config import SETTINGS"
   ]
  },
  {
   "cell_type": "code",
   "execution_count": null,
   "id": "881fe5c9-fb27-4ec4-b0a5-710037a5170a",
   "metadata": {},
   "outputs": [],
   "source": [
    "# Login to MinIO\n",
    "minio_client = sb.storage.minio_login(\n",
    "    user=SETTINGS.MINIO_ACCESS_ID, password=SETTINGS.MINIO_SECRET_KEY\n",
    ")"
   ]
  },
  {
   "cell_type": "markdown",
   "id": "c5e6c873-303e-4b1d-b037-a4c42a2e1938",
   "metadata": {},
   "source": [
    "# Add default licence\n",
    "\n",
    "## 1. Update orthomosaics\n",
    "\n",
    "Update mosaics published to GeoNode with `Licence` and `Licence link` attributes. Takes values from the config. file if provided, and otherwise assumes a default of `CC-BY-4`. "
   ]
  },
  {
   "cell_type": "code",
   "execution_count": null,
   "id": "22e39fe3-5e3a-4367-9d0c-1a86b4e157f5",
   "metadata": {},
   "outputs": [],
   "source": [
    "def find_folders_with_file(root_folder, target_file):\n",
    "    matching_folders = []\n",
    "    for dirpath, dirnames, filenames in os.walk(root_folder):\n",
    "        if target_file in filenames:\n",
    "            matching_folders.append(dirpath)\n",
    "\n",
    "    return matching_folders\n",
    "\n",
    "\n",
    "# Find all folders containing 'config.seabee.yaml'\n",
    "root_dir = \"/home/notebook/shared-seabee-ns9879k/seabirds\"\n",
    "target_file = \"config.seabee.yaml\"\n",
    "mission_dirs = find_folders_with_file(root_dir, target_file)\n",
    "len(mission_dirs)"
   ]
  },
  {
   "cell_type": "code",
   "execution_count": null,
   "id": "c57b2197-347d-43a2-8e66-afd3be2f1327",
   "metadata": {},
   "outputs": [],
   "source": [
    "# Just the folders with valid configs.\n",
    "valid_mission_dirs = [\n",
    "    dir_path for dir_path in mission_dirs if sb.ortho.check_config_valid(dir_path)\n",
    "]\n",
    "len(valid_mission_dirs)"
   ]
  },
  {
   "cell_type": "code",
   "execution_count": null,
   "id": "f18ada01-9219-4ead-8d4a-9c911fa0341c",
   "metadata": {},
   "outputs": [],
   "source": [
    "# Update metadata abstract on GeoNode\n",
    "for mission_dir in tqdm(valid_mission_dirs, desc=\"Processing missions\"):\n",
    "    try:\n",
    "        layer_name = sb.ortho.get_layer_name(mission_dir)\n",
    "        date = sb.ortho.parse_mission_data(mission_dir, parse_date=True)[2]\n",
    "        abstract = sb.geo.get_html_abstract(str(mission_dir))\n",
    "        metadata = {\n",
    "            \"abstract\": abstract,\n",
    "            \"date\": date.isoformat(),\n",
    "            \"date_type\": \"creation\",\n",
    "            \"attribution\": \"SeaBee\",\n",
    "        }\n",
    "        sb.geo.update_geonode_metadata(\n",
    "            layer_name,\n",
    "            SETTINGS.GEONODE_USER,\n",
    "            SETTINGS.GEONODE_PASSWORD,\n",
    "            metadata,\n",
    "        )\n",
    "        time.sleep(0.25)\n",
    "    except AssertionError as e:\n",
    "        # Not found on GeoNode (e.g. because mosaicing failed on NodeODM)\n",
    "        pass"
   ]
  },
  {
   "cell_type": "markdown",
   "id": "a5f8df82-859f-4d91-a078-ccc073c3e6ea",
   "metadata": {},
   "source": [
    "## 2. Update detections"
   ]
  },
  {
   "cell_type": "code",
   "execution_count": null,
   "id": "a61aabfa-0a07-48c9-9416-18aa02705a6f",
   "metadata": {},
   "outputs": [],
   "source": [
    "cnt = 0\n",
    "for mission_dir in tqdm(valid_mission_dirs, desc=\"Processing detections\"):\n",
    "    try:\n",
    "        mission_name = sb.ortho.get_layer_name(mission_dir)\n",
    "        if os.path.exists(f\"{mission_dir}/results\"):\n",
    "            res_dir = sb.ml.get_latest_results_dir(mission_dir)\n",
    "            res_path = os.path.join(res_dir, \"out.gpkg\")\n",
    "            if os.path.exists(res_path):\n",
    "                gdf = gpd.read_file(res_path)\n",
    "                ml_options = sb.ml.get_ml_options(mission_dir)\n",
    "                if ml_options[\"task\"] == \"detection\":\n",
    "                    # Seabirds mission\n",
    "                    layer_name = f\"{mission_name}_detections\"\n",
    "                    gdf = sb.ml.convert_seabird_class_codes_to_names(\n",
    "                        gdf, SETTINGS.DB_USER, SETTINGS.DB_PASSWORD\n",
    "                    )\n",
    "                    style_dict = {\n",
    "                        layer_name: f\"red_outline.sld\",\n",
    "                    }\n",
    "                    gpkg_path = os.path.join(\n",
    "                        mission_dir,\n",
    "                        \"results\",\n",
    "                        ml_options[\"task\"],\n",
    "                        ml_options[\"model\"],\n",
    "                        f\"{layer_name}.gpkg\",\n",
    "                    )\n",
    "                    metadata = {\n",
    "                        \"abstract\": sb.geo.get_detection_abstract(\n",
    "                            gdf, layer_name, ml_options[\"model\"], str(gpkg_path)\n",
    "                        ),\n",
    "                        \"date\": dt.datetime.strptime(\n",
    "                            gdf[\"datetimereg\"].iloc[0], \"%Y-%m-%d %H:%M:%S\"\n",
    "                        ).isoformat(),\n",
    "                        \"date_type\": \"creation\",\n",
    "                        \"attribution\": \"SeaBee\",\n",
    "                    }\n",
    "                    sb.geo.update_geonode_metadata(\n",
    "                        layer_name,\n",
    "                        SETTINGS.GEONODE_USER,\n",
    "                        SETTINGS.GEONODE_PASSWORD,\n",
    "                        metadata,\n",
    "                    )\n",
    "                    time.sleep(0.25)\n",
    "                    cnt += 1\n",
    "    except AssertionError as e:\n",
    "        # Not found on GeoNode (e.g. because mosaicing failed on NodeODM)\n",
    "        pass\n",
    "\n",
    "print(cnt, \"datasets updated.\")"
   ]
  }
 ],
 "metadata": {
  "kernelspec": {
   "display_name": "Python 3 (ipykernel)",
   "language": "python",
   "name": "python3"
  },
  "language_info": {
   "codemirror_mode": {
    "name": "ipython",
    "version": 3
   },
   "file_extension": ".py",
   "mimetype": "text/x-python",
   "name": "python",
   "nbconvert_exporter": "python",
   "pygments_lexer": "ipython3",
   "version": "3.10.6"
  }
 },
 "nbformat": 4,
 "nbformat_minor": 5
}
