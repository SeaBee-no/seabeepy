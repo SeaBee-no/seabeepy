{
 "cells": [
  {
   "cell_type": "code",
   "execution_count": null,
   "id": "c4e46f9d-150e-4616-a9e4-14f2e89601db",
   "metadata": {},
   "outputs": [],
   "source": [
    "import os\n",
    "import shutil\n",
    "\n",
    "import rasterio as rio\n",
    "\n",
    "import seabeepy as sb\n",
    "from seabeepy.config import SETTINGS"
   ]
  },
  {
   "cell_type": "code",
   "execution_count": null,
   "id": "fb7fb067-14b7-40db-a288-c74678563e7d",
   "metadata": {},
   "outputs": [],
   "source": [
    "# Login to MinIO\n",
    "minio_client = sb.storage.minio_login(\n",
    "    user=SETTINGS.MINIO_ACCESS_ID, password=SETTINGS.MINIO_SECRET_KEY\n",
    ")"
   ]
  },
  {
   "cell_type": "markdown",
   "id": "0e01a100-8bf2-49ad-951d-b284f45eb255",
   "metadata": {},
   "source": [
    "# Update raster band information\n",
    "\n",
    "Some old raster mosaics (e.g. from Pix4D) have non-standard band order and no metadata. As a result, they display oddly when published to GeoNode. This script updates the band info so they can be processed correctly."
   ]
  },
  {
   "cell_type": "code",
   "execution_count": null,
   "id": "ef0a7333-6718-460a-b944-a809a8114c18",
   "metadata": {},
   "outputs": [],
   "source": [
    "temp_fold = r\"/home/notebook/temp\"\n",
    "ds_list = [\n",
    "    r\"/home/notebook/shared-seabee-ns9879k/niva-tidy/2022/spectrofly_202208181238_kelpmap_vega-s_msi_120/orthophoto/pix4d_orthophoto.original.tif\",\n",
    "    r\"/home/notebook/shared-seabee-ns9879k/niva-tidy/2022/spectrofly_202208190819_kelpmap_vega-n_msi_120/orthophoto/pix4d_orthophoto.original.tif\",\n",
    "    r\"/home/notebook/shared-seabee-ns9879k/niva-tidy/2022/niva_202208181012_kelpmap_vega-s_msi_60/orthophoto/pix4d_orthophoto.original.tif\",\n",
    "    # r\"/home/notebook/shared-seabee-ns9879k/niva-tidy/2022/spectrofly_202208181139_kelpmap_vega-s_msi_120/orthophoto/pix4d_orthophoto.original.tif\",\n",
    "    # r\"/home/notebook/shared-seabee-ns9879k/niva-tidy/2022/spectrofly_202208180945_kelpmap_vega-s_msi_120/orthophoto/pix4d_orthophoto.original.tif\",\n",
    "    # r\"/home/notebook/shared-seabee-ns9879k/niva-tidy/2022/niva_202208190944_kelpmap_vega-n_msi_120/orthophoto/pix4d_orthophoto.original.tif\",\n",
    "    # r'/home/notebook/shared-seabee-ns9879k/niva-tidy/2022/spectrofly_202208181357_kelpmap_vega-s_msi_198/orthophoto/pix4d_orthophoto.original.tif',\n",
    "]\n",
    "\n",
    "# Properties to set for all mosaics in 'ds_list'\n",
    "band_order = [\"blue\", \"green\", \"red\", \"rededge\", \"nir\"]\n",
    "# band_order = [None, None, None, None, None]"
   ]
  },
  {
   "cell_type": "code",
   "execution_count": null,
   "id": "d2f122d2-860e-4604-893d-fb88b7d309df",
   "metadata": {},
   "outputs": [],
   "source": [
    "for ds_path in ds_list:\n",
    "    # Make a copy of the original file for editing\n",
    "    temp_tif = os.path.join(temp_fold, \"temp.tif\")\n",
    "    shutil.copyfile(ds_path, temp_tif)\n",
    "\n",
    "    # Update band info\n",
    "    with rio.open(temp_tif, \"r+\") as ds:\n",
    "        nbands = ds.count\n",
    "        for bidx in range(nbands):\n",
    "            ds.set_band_description(bidx + 1, band_order[bidx])\n",
    "\n",
    "    # Copy back\n",
    "    sb.storage.copy_file(temp_tif, ds_path, minio_client, overwrite=True)\n",
    "    os.remove(temp_tif)"
   ]
  }
 ],
 "metadata": {
  "kernelspec": {
   "display_name": "Python 3 (ipykernel)",
   "language": "python",
   "name": "python3"
  },
  "language_info": {
   "codemirror_mode": {
    "name": "ipython",
    "version": 3
   },
   "file_extension": ".py",
   "mimetype": "text/x-python",
   "name": "python",
   "nbconvert_exporter": "python",
   "pygments_lexer": "ipython3",
   "version": "3.10.6"
  }
 },
 "nbformat": 4,
 "nbformat_minor": 5
}
