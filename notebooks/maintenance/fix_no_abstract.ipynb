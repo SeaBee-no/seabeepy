{
 "cells": [
  {
   "cell_type": "code",
   "execution_count": null,
   "id": "8275ee58-90cb-4d88-9cdf-4b654e7d628c",
   "metadata": {},
   "outputs": [],
   "source": [
    "import fnmatch\n",
    "import os\n",
    "import time\n",
    "from io import StringIO\n",
    "\n",
    "import pandas as pd\n",
    "import requests\n",
    "\n",
    "import seabeepy as sb\n",
    "from seabeepy.config import SETTINGS"
   ]
  },
  {
   "cell_type": "code",
   "execution_count": null,
   "id": "8d8a9f43-ae7d-4836-a442-8dddbfa8f898",
   "metadata": {},
   "outputs": [],
   "source": [
    "# Login to MinIO\n",
    "minio_client = sb.storage.minio_login(\n",
    "    user=SETTINGS.MINIO_ACCESS_ID, password=SETTINGS.MINIO_SECRET_KEY\n",
    ")\n",
    "\n",
    "GEONODE_URL = os.environ.get(\"GEONODE_URL\", r\"https://geonode.seabee.sigma2.no/api/v2\")"
   ]
  },
  {
   "cell_type": "markdown",
   "id": "c383f84e-55c2-4e00-b01b-bc65b4742d45",
   "metadata": {},
   "source": [
    "# Fix datasets with no abstract\n",
    "\n",
    "Updating metadata via the GeoNode API occasionally times-out and fails. This leads to datasets being published correctly, but without any abstract information. This notebook attempts to identify datasets where this has happened and deletes them for republishing.\n",
    "\n",
    "## 1. Identify datasets with no abstract"
   ]
  },
  {
   "cell_type": "code",
   "execution_count": null,
   "id": "4c530482-cf3b-4afb-b033-a4d341f446f7",
   "metadata": {},
   "outputs": [],
   "source": [
    "def get_geonode_data(geonode_url):\n",
    "    # Initialize an empty list to store each dataset's information\n",
    "    datasets = []\n",
    "\n",
    "    # Initialize the URL for the first page of results\n",
    "    url = f\"{geonode_url}/datasets/\"\n",
    "\n",
    "    while url:\n",
    "        # Get a page of results\n",
    "        response = requests.get(url)\n",
    "        data = response.json()\n",
    "\n",
    "        for dataset in data[\"datasets\"]:\n",
    "            datasets.append(\n",
    "                {\n",
    "                    \"name\": dataset[\"name\"],\n",
    "                    \"id\": dataset[\"pk\"],\n",
    "                    \"type\": dataset[\"subtype\"],\n",
    "                    \"abstract\": dataset[\"abstract\"],\n",
    "                }\n",
    "            )\n",
    "\n",
    "        # Get the URL for the next page of results, or None if this is the last page\n",
    "        url = data[\"links\"][\"next\"]\n",
    "\n",
    "        time.sleep(0.2)\n",
    "\n",
    "    # Convert the list into a GeoDataFrame\n",
    "    df = pd.DataFrame(datasets)\n",
    "\n",
    "    return df\n",
    "\n",
    "\n",
    "def find_file(directory, pattern):\n",
    "    for root, dirs, files in os.walk(directory):\n",
    "        for filename in fnmatch.filter(files, pattern):\n",
    "            return os.path.join(root, filename)\n",
    "    return None"
   ]
  },
  {
   "cell_type": "code",
   "execution_count": null,
   "id": "c93fcbfd-df2f-466e-bbe0-cf3e53eaad4f",
   "metadata": {},
   "outputs": [],
   "source": [
    "# Get all missions\n",
    "df = get_geonode_data(GEONODE_URL)\n",
    "\n",
    "# Missions with no abstract\n",
    "noabs_df = df[df[\"abstract\"].str.contains(\"No abstract\")].reset_index(drop=True)\n",
    "print(len(noabs_df), \"datasets without an abstract.\")\n",
    "noabs_df.head()"
   ]
  },
  {
   "cell_type": "markdown",
   "id": "561474a2-c656-482c-8bae-c8d2cfcd2252",
   "metadata": {},
   "source": [
    "## 2. Delete datasets with no abstract\n",
    "\n",
    "On both MinIO and GeoNode."
   ]
  },
  {
   "cell_type": "code",
   "execution_count": null,
   "id": "2729b18f-b0fa-499c-8c98-4fccc26bd2b2",
   "metadata": {},
   "outputs": [],
   "source": [
    "# Will only delete stuff if 'dry_run' is False\n",
    "dry_run = True"
   ]
  },
  {
   "cell_type": "code",
   "execution_count": null,
   "id": "e550ddd9-a4fb-40b5-a170-ec50caddf937",
   "metadata": {},
   "outputs": [],
   "source": [
    "def delete_dataset(ds_id, file_path, file_name):\n",
    "    del_url = f\"{GEONODE_URL}/resources/{ds_id}\"\n",
    "    response = requests.request(\"DELETE\", del_url, auth=auth)\n",
    "    response.raise_for_status()\n",
    "    sb.storage.delete_file(file_path, minio_client)\n",
    "    print(f\"Deleted: {file_name}\")\n",
    "\n",
    "\n",
    "# Delete datasets without an abstract (on both GeoNode and MinIO)\n",
    "base_fold = r\"/home/notebook/shared-seabee-ns9879k\"\n",
    "auth = (SETTINGS.GEONODE_USER, SETTINGS.GEONODE_PASSWORD)\n",
    "\n",
    "cnt = 0\n",
    "skip = 0\n",
    "for idx, row in noabs_df.iterrows():\n",
    "    name = row[\"name\"]\n",
    "    ds_id = row[\"id\"]\n",
    "    ds_type = row[\"type\"]\n",
    "\n",
    "    if ds_type == \"raster\":\n",
    "        tif_name = f\"{name}.tif\"\n",
    "        tif_path = find_file(base_fold, tif_name)\n",
    "        if tif_path:\n",
    "            if not dry_run:\n",
    "                delete_dataset(ds_id, tif_path, tif_name)\n",
    "            else:\n",
    "                print(f\"Would delete: {tif_name}\")\n",
    "            cnt += 1\n",
    "        else:\n",
    "            print(f\"Not found: {tif_name}\")\n",
    "\n",
    "    elif ds_type == \"vector\":\n",
    "        ml_type = name.split(\"_\")[-1]\n",
    "        if ml_type == \"detections\":\n",
    "            # Seabirds or mammals\n",
    "            gpkg_name = f\"{name}.gpkg\"\n",
    "            gpkg_path = find_file(base_fold, gpkg_name)\n",
    "            if gpkg_path:\n",
    "                if not dry_run:\n",
    "                    delete_dataset(ds_id, gpkg_path, gpkg_name)\n",
    "                else:\n",
    "                    print(f\"Would delete: {gpkg_name}\")\n",
    "                cnt += 1\n",
    "            else:\n",
    "                print(f\"Not found: {gpkg_name}\")\n",
    "\n",
    "        elif ml_type == \"classifications\":\n",
    "            # Habitats\n",
    "            print(f\"Fixing classifications not yet implemented: {name}\")\n",
    "        else:\n",
    "            skip += 1\n",
    "            print(f\"Skipping: {name}\")\n",
    "\n",
    "print(f\"\\n{skip} datasets skipped; {cnt} datasets deleted.\")"
   ]
  }
 ],
 "metadata": {
  "kernelspec": {
   "display_name": "Python 3 (ipykernel)",
   "language": "python",
   "name": "python3"
  },
  "language_info": {
   "codemirror_mode": {
    "name": "ipython",
    "version": 3
   },
   "file_extension": ".py",
   "mimetype": "text/x-python",
   "name": "python",
   "nbconvert_exporter": "python",
   "pygments_lexer": "ipython3",
   "version": "3.10.6"
  }
 },
 "nbformat": 4,
 "nbformat_minor": 5
}
