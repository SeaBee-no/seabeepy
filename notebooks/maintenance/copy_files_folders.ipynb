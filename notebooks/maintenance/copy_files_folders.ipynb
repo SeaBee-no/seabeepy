{
 "cells": [
  {
   "cell_type": "code",
   "execution_count": null,
   "id": "8c54c66d-13af-44b1-badf-0cc992bcde9d",
   "metadata": {},
   "outputs": [],
   "source": [
    "import datetime as dt\n",
    "import os\n",
    "\n",
    "from pyodm import Node\n",
    "\n",
    "import seabeepy as sb\n",
    "from seabeepy.config import SETTINGS"
   ]
  },
  {
   "cell_type": "code",
   "execution_count": null,
   "id": "c0574ac2-7852-45d6-a4e8-76c982e65d98",
   "metadata": {},
   "outputs": [],
   "source": [
    "# Login to MinIO\n",
    "client = sb.storage.minio_login(\n",
    "    user=SETTINGS.MINIO_ACCESS_ID, password=SETTINGS.MINIO_SECRET_KEY\n",
    ")"
   ]
  },
  {
   "cell_type": "code",
   "execution_count": null,
   "id": "ce10f3ba-e915-422c-87e0-b8444cb913de",
   "metadata": {},
   "outputs": [],
   "source": [
    "src_fold = r\"shared-seabee-ns9879k/niva-tidy/2023/Stege-Nor_DK_20230911_SF_RGB_120_full\"\n",
    "dst_fold = r\"shared-seabee-ns9879k/niva-tidy/2023/Stege-Nor_DK_20230911_SF_RGB_120_fast\"\n",
    "sb.storage.copy_folder(src_fold, dst_fold, client, containing_folder=False)"
   ]
  },
  {
   "cell_type": "code",
   "execution_count": null,
   "id": "8469cc66-fa7b-4448-84c2-02e2200dca68",
   "metadata": {},
   "outputs": [],
   "source": [
    "image_fold = r\"/home/notebook/shared-seabee-ns9879k/niva-tidy/testing/Kelpmap_VegaSouth_202208190814/images\"\n",
    "nfiles_found = len(\n",
    "    [\n",
    "        name\n",
    "        for name in os.listdir(image_fold)\n",
    "        if os.path.isfile(os.path.join(image_fold, name))\n",
    "    ]\n",
    ")\n",
    "nfiles_found"
   ]
  },
  {
   "cell_type": "code",
   "execution_count": null,
   "id": "0842547a-bb6a-4f6b-bc92-1f0e2083c701",
   "metadata": {},
   "outputs": [],
   "source": [
    "# Copy file\n",
    "src_file = r\"shared-seabee-ns9879k/nodeodm-workdir/f8d7abb4-bcf2-466c-ab53-8ddccecfe9b0/odm_orthophoto/odm_orthophoto.tif\"\n",
    "dst_file = r\"shared-seabee-ns9879k/niva-tidy/2023/Stege-Nor_DK_20230911_SF_RGB_120_full/orthophoto_preliminary/odm_orthophoto.tif\"\n",
    "\n",
    "sb.storage.copy_file(src_file, dst_file, client, overwrite=False)"
   ]
  },
  {
   "cell_type": "code",
   "execution_count": null,
   "id": "d9f41b84-d22f-482a-9a6c-f2d7f6547ba8",
   "metadata": {},
   "outputs": [],
   "source": [
    "# Count files\n",
    "dir_path = r\"/home/notebook/shared-seabee-ns9879k/niva/2021/2021-06-14_SEABEE_Stavern/2021-06-16_SEABEE_Olberg-S/1_drone/flights/2021-06-16_0744_RGB/tagged_images/Untagged_images\"\n",
    "nfiles_found = len(\n",
    "    [\n",
    "        name\n",
    "        for name in os.listdir(dir_path)\n",
    "        if os.path.isfile(os.path.join(dir_path, name))\n",
    "    ]\n",
    ")\n",
    "print(nfiles_found)"
   ]
  },
  {
   "cell_type": "code",
   "execution_count": null,
   "id": "5789e6d5-53d7-455b-a477-622fc63d9ba2",
   "metadata": {},
   "outputs": [],
   "source": [
    "# sb.storage.delete_folder(r\"/home/notebook/shared-seabee-ns9879k/niva-tidy/testing/Glaenoe_20110611_MS/Images\", client)"
   ]
  }
 ],
 "metadata": {
  "kernelspec": {
   "display_name": "Python 3 (ipykernel)",
   "language": "python",
   "name": "python3"
  },
  "language_info": {
   "codemirror_mode": {
    "name": "ipython",
    "version": 3
   },
   "file_extension": ".py",
   "mimetype": "text/x-python",
   "name": "python",
   "nbconvert_exporter": "python",
   "pygments_lexer": "ipython3",
   "version": "3.10.6"
  }
 },
 "nbformat": 4,
 "nbformat_minor": 5
}
