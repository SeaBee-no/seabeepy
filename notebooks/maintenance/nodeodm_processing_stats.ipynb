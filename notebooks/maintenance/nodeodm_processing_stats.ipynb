{
 "cells": [
  {
   "cell_type": "code",
   "execution_count": null,
   "id": "fe187a53-a198-4ed4-9c52-bf7f39ccbaa9",
   "metadata": {},
   "outputs": [],
   "source": [
    "import glob\n",
    "import json\n",
    "import os\n",
    "\n",
    "import matplotlib.pyplot as plt\n",
    "import pandas as pd\n",
    "import seaborn as sn\n",
    "import statsmodels.formula.api as smf\n",
    "import yaml\n",
    "\n",
    "plt.style.use(\"ggplot\")"
   ]
  },
  {
   "cell_type": "markdown",
   "id": "b12bee25-8763-4241-8a0f-c1f641fffe0f",
   "metadata": {},
   "source": [
    "# Explore NodeODM processing statistics\n",
    "\n",
    "## 1. Read NodeODM logs"
   ]
  },
  {
   "cell_type": "code",
   "execution_count": null,
   "id": "6117e8ee-ec61-417b-9413-b19d36b7a781",
   "metadata": {},
   "outputs": [],
   "source": [
    "base_path = r\"/home/notebook/shared-seabee-ns9879k/seabirds/2024\""
   ]
  },
  {
   "cell_type": "code",
   "execution_count": null,
   "id": "76f67d90-1bfc-40da-813d-16212560c6d0",
   "metadata": {},
   "outputs": [],
   "source": [
    "search_path = os.path.join(base_path, r\"*/report/log.json\")\n",
    "flist = glob.glob(search_path)\n",
    "\n",
    "mission_list = []\n",
    "times_list = []\n",
    "nfiles_list = []\n",
    "st_date_list = []\n",
    "end_date_list = []\n",
    "for fpath in flist:\n",
    "    mission = os.path.basename(os.path.dirname(os.path.dirname(fpath)))\n",
    "    with open(fpath) as f:\n",
    "        data = json.load(f)\n",
    "\n",
    "    mission_list.append(mission)\n",
    "    times_list.append(data[\"totalTime\"] / 60)\n",
    "    nfiles_list.append(data[\"images\"])\n",
    "    st_date_list.append(data[\"startTime\"])\n",
    "    end_date_list.append(data[\"endTime\"])\n",
    "\n",
    "df = pd.DataFrame(\n",
    "    {\n",
    "        \"mission_name\": mission_list,\n",
    "        \"nfiles\": nfiles_list,\n",
    "        \"time_mins\": times_list,\n",
    "        \"start_date\": st_date_list,\n",
    "        \"end_date\": end_date_list,\n",
    "    }\n",
    ")\n",
    "df.head()"
   ]
  },
  {
   "cell_type": "markdown",
   "id": "6bde18c2-8beb-4fb6-9ed9-eccea9b7e8fc",
   "metadata": {},
   "source": [
    "## 2. CDF of image counts"
   ]
  },
  {
   "cell_type": "code",
   "execution_count": null,
   "id": "6e0a0f78-f786-4e51-88e7-3f67591f37f7",
   "metadata": {},
   "outputs": [],
   "source": [
    "g = sn.displot(df[\"nfiles\"], kind=\"ecdf\")\n",
    "g.set(xlabel=\"Number of files\", title=f\"Empirical CDF (n = {len(flist)})\")"
   ]
  },
  {
   "cell_type": "markdown",
   "id": "9b1ac70e-ffbb-40e8-aa8a-c149ad8c9908",
   "metadata": {},
   "source": [
    "## 3. CDF of processing times"
   ]
  },
  {
   "cell_type": "code",
   "execution_count": null,
   "id": "9b9b5079-cd6b-43e7-9429-cbbda2f47420",
   "metadata": {},
   "outputs": [],
   "source": [
    "g = sn.displot(df[\"time_mins\"] / 60, kind=\"ecdf\")\n",
    "g.set(xlabel=\"Processing time (hours)\", title=f\"Empirical CDF (n = {len(flist)})\")"
   ]
  },
  {
   "cell_type": "markdown",
   "id": "c794204b-e280-4c39-95a2-0d8607fa985b",
   "metadata": {},
   "source": [
    "## 3. Relationship between number of images and processing time"
   ]
  },
  {
   "cell_type": "code",
   "execution_count": null,
   "id": "8e1516fe-3463-4303-9e54-86c695e7042d",
   "metadata": {},
   "outputs": [],
   "source": [
    "res = smf.ols(formula=\"time_mins ~ nfiles - 1\", data=df).fit()\n",
    "print(res.summary())\n",
    "res_df = res.get_prediction().summary_frame()\n",
    "res_df[\"nfiles\"] = df[\"nfiles\"]\n",
    "res_df.sort_values(\"nfiles\", inplace=True)\n",
    "\n",
    "plt.plot(df[\"nfiles\"], df[\"time_mins\"], \"ro\")\n",
    "plt.plot(res_df[\"nfiles\"], res_df[\"mean\"], \"k-\")\n",
    "plt.fill_between(\n",
    "    res_df[\"nfiles\"],\n",
    "    res_df[\"mean_ci_lower\"],\n",
    "    res_df[\"mean_ci_upper\"],\n",
    "    alpha=0.1,\n",
    "    color=\"r\",\n",
    ")\n",
    "plt.xlabel(\"Number of raw images\")\n",
    "plt.ylabel(\"Processing time (mins)\")"
   ]
  },
  {
   "cell_type": "markdown",
   "id": "a9b85922-9262-408a-ad90-b825d0ae617f",
   "metadata": {},
   "source": [
    "## 4. Memory and CPU usage"
   ]
  },
  {
   "cell_type": "code",
   "execution_count": null,
   "id": "30f53bb9-613f-447b-919e-b62975bd8a77",
   "metadata": {},
   "outputs": [],
   "source": [
    "txt_path = r\"/home/notebook/shared-seabee-ns9879k/notebook-logs/nodeodm-4missions-5249images-32cpu.txt\"\n",
    "log_df = pd.read_csv(\n",
    "    txt_path,\n",
    "    skiprows=2,\n",
    "    header=None,\n",
    "    names=[\"Name\", \"CPUs\", \"Memory_GB\"],\n",
    "    delim_whitespace=True,\n",
    ")\n",
    "log_df[\"CPUs\"] = log_df[\"CPUs\"].str.replace(\"m\", \"\").astype(int) / 1000\n",
    "log_df[\"Memory_GB\"] = log_df[\"Memory_GB\"].str.replace(\"Mi\", \"\").astype(int) / 1000\n",
    "del log_df[\"Name\"]\n",
    "log_df.index = pd.to_datetime(log_df.index)\n",
    "log_df.plot(subplots=True)"
   ]
  },
  {
   "cell_type": "markdown",
   "id": "d873510d-0016-4f2d-bb8f-7c27aeec970b",
   "metadata": {},
   "source": [
    "## 5. Count of missions per day"
   ]
  },
  {
   "cell_type": "code",
   "execution_count": null,
   "id": "70a8b5ea-cd6b-41a1-b2cc-f4ce5ef50325",
   "metadata": {},
   "outputs": [],
   "source": [
    "for day in range(1, 16):\n",
    "    search_path = f\"/home/notebook/shared-seabee-ns9879k/seabirds/2023/Team1Dag{day}_*\"\n",
    "    flist = glob.glob(search_path)\n",
    "    print(f\"Team1Dag{day:02d}:\", len(flist))"
   ]
  }
 ],
 "metadata": {
  "kernelspec": {
   "display_name": "Python 3 (ipykernel)",
   "language": "python",
   "name": "python3"
  },
  "language_info": {
   "codemirror_mode": {
    "name": "ipython",
    "version": 3
   },
   "file_extension": ".py",
   "mimetype": "text/x-python",
   "name": "python",
   "nbconvert_exporter": "python",
   "pygments_lexer": "ipython3",
   "version": "3.10.6"
  }
 },
 "nbformat": 4,
 "nbformat_minor": 5
}
