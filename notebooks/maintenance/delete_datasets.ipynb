{
 "cells": [
  {
   "cell_type": "code",
   "execution_count": null,
   "id": "dbc877e0-1cec-4222-935a-e0765b6a2512",
   "metadata": {},
   "outputs": [],
   "source": [
    "import os\n",
    "\n",
    "import requests\n",
    "import yaml\n",
    "from seabeepy.config import SETTINGS\n",
    "\n",
    "import seabeepy as sb"
   ]
  },
  {
   "cell_type": "code",
   "execution_count": null,
   "id": "8d8a9f43-ae7d-4836-a442-8dddbfa8f898",
   "metadata": {},
   "outputs": [],
   "source": [
    "# Login to MinIO\n",
    "minio_client = sb.storage.minio_login(\n",
    "    user=SETTINGS.MINIO_ACCESS_ID, password=SETTINGS.MINIO_SECRET_KEY\n",
    ")"
   ]
  },
  {
   "cell_type": "code",
   "execution_count": null,
   "id": "70f28673-36b9-4a49-b82c-75e274446f33",
   "metadata": {},
   "outputs": [],
   "source": [
    "GEONODE_URL = os.environ.get(\"GEONODE_URL\", r\"https://geonode.seabee.sigma2.no/api/v2/\")"
   ]
  },
  {
   "cell_type": "code",
   "execution_count": null,
   "id": "8a5f48f7-12d6-4ed8-99ee-f798d9b11e59",
   "metadata": {},
   "outputs": [],
   "source": [
    "def get_all_datasets(url):\n",
    "    # Initialize the dict to store all datasets\n",
    "    all_datasets = {}\n",
    "\n",
    "    while url:\n",
    "        # Send a GET request to the URL\n",
    "        response = requests.get(url)\n",
    "        # Convert the response to JSON\n",
    "        data = response.json()\n",
    "\n",
    "        # Extract 'pk' and 'name' for each dataset and add them to the dict\n",
    "        for dataset in data[\"datasets\"]:\n",
    "            all_datasets[dataset[\"name\"]] = dataset[\"pk\"]\n",
    "\n",
    "        # Get the URL for the next page\n",
    "        url = data[\"links\"][\"next\"]\n",
    "\n",
    "    # Return the dict of all datasets\n",
    "    return all_datasets\n",
    "\n",
    "\n",
    "# Get a list of all datasets on GeoNode\n",
    "url = GEONODE_URL + \"datasets\"\n",
    "ds_dict = get_all_datasets(url)"
   ]
  },
  {
   "cell_type": "code",
   "execution_count": null,
   "id": "8f7cad06-4dff-4e85-86e9-4890ac935a1f",
   "metadata": {},
   "outputs": [],
   "source": [
    "# # DANGER - the code below deletes lots of data!\n",
    "# base_dir = r\"/home/notebook/shared-seabee-ns9879k/seabirds\"\n",
    "# auth = (\n",
    "#     SETTINGS.GEONODE_USER,\n",
    "#     SETTINGS.GEONODE_PASSWORD,\n",
    "# )\n",
    "# cnt = 0\n",
    "# for root, dirs, files in os.walk(base_dir):\n",
    "#     if \"config.seabee.yaml\" in files:\n",
    "#         layer_name = sb.ortho.get_layer_name(root)\n",
    "#         tif_path = os.path.join(root, \"orthophoto\", layer_name + \".tif\")\n",
    "#         if os.path.isfile(tif_path) and layer_name in ds_dict and sb.ortho.check_config_valid(root):\n",
    "#             # print(layer_name)\n",
    "#             cnt += 1\n",
    "#             del_url = GEONODE_URL + f\"resources/{ds_dict[layer_name]}\"\n",
    "#             response = requests.request(\"DELETE\", del_url, auth=auth)\n",
    "#             response.raise_for_status()\n",
    "#             sb.storage.delete_file(tif_path, minio_client)\n",
    "# print(cnt)"
   ]
  },
  {
   "cell_type": "code",
   "execution_count": null,
   "id": "062bcb0a-c79a-40f7-90b2-39f8839ff126",
   "metadata": {},
   "outputs": [],
   "source": [
    "# # DANGER - the code below deletes lots of data!\n",
    "# base_dir = r\"/home/notebook/shared-seabee-ns9879k/niva-tidy\"\n",
    "# auth = (\n",
    "#     SETTINGS.GEONODE_USER,\n",
    "#     SETTINGS.GEONODE_PASSWORD,\n",
    "# )\n",
    "# for root, dirs, files in os.walk(base_dir):\n",
    "#     if \"config.seabee.yaml\" in files:\n",
    "#         layer_name = sb.ortho.get_layer_name(root)\n",
    "#         tif_path = os.path.join(root, \"orthophoto\", layer_name + \".tif\")\n",
    "#         if os.path.isfile(tif_path) and layer_name not in ds_dict:\n",
    "#             print(layer_name)\n",
    "#             sb.storage.delete_file(tif_path, minio_client)"
   ]
  },
  {
   "cell_type": "code",
   "execution_count": null,
   "id": "23eada18-40f2-4110-8770-74cd8eb2e6d6",
   "metadata": {},
   "outputs": [],
   "source": [
    "# with open(os.path.join(root, \"config.seabee.yaml\"), \"r\") as file:\n",
    "#     try:\n",
    "#         config = yaml.safe_load(file)\n",
    "#         if \"spectrum_type\" in config and config[\"spectrum_type\"] == spec:\n",
    "#             orthophoto_dir = os.path.join(root, \"orthophoto\")\n",
    "#             if os.path.isdir(\n",
    "#                 orthophoto_dir\n",
    "#             ) and f\"{soft}_orthophoto.original.tif\" in os.listdir(\n",
    "#                 orthophoto_dir\n",
    "#             ):\n",
    "#                 orthophoto_path = os.path.join(\n",
    "#                     orthophoto_dir, f\"{soft}_orthophoto.original.tif\"\n",
    "#                 )\n",
    "#                 try:\n",
    "#                     data = sb.geo.infer_geotiff_metadata(orthophoto_path)\n",
    "#                     ndv = data[\"nodata_value\"]\n",
    "#                     alpha = \"alpha\" in data[\"band_descriptions\"]\n",
    "#                     if not alpha and ndv:\n",
    "#                         print(orthophoto_path)\n",
    "#                 except ValueError as ve:\n",
    "#                     if \"Could not determine band order\" in str(ve):\n",
    "#                         print(ve)\n",
    "#                         continue\n",
    "#                     else:\n",
    "#                         raise\n",
    "#     except yaml.YAMLError as exc:\n",
    "#         print(exc)"
   ]
  }
 ],
 "metadata": {
  "kernelspec": {
   "display_name": "Python 3 (ipykernel)",
   "language": "python",
   "name": "python3"
  },
  "language_info": {
   "codemirror_mode": {
    "name": "ipython",
    "version": 3
   },
   "file_extension": ".py",
   "mimetype": "text/x-python",
   "name": "python",
   "nbconvert_exporter": "python",
   "pygments_lexer": "ipython3",
   "version": "3.10.6"
  }
 },
 "nbformat": 4,
 "nbformat_minor": 5
}
