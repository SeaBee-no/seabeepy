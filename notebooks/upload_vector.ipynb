{
 "cells": [
  {
   "cell_type": "code",
   "execution_count": null,
   "metadata": {},
   "outputs": [],
   "source": [
    "import os\n",
    "import shutil\n",
    "\n",
    "import fiona\n",
    "import geopandas as gpd\n",
    "from seabeepy.config import SETTINGS\n",
    "from geo.Geoserver import Geoserver"
   ]
  },
  {
   "cell_type": "markdown",
   "metadata": {},
   "source": [
    "# Upload vector data to GeoServer/GeoNode"
   ]
  },
  {
   "cell_type": "code",
   "execution_count": null,
   "metadata": {},
   "outputs": [],
   "source": [
    "# Authernticate with GeoServer\n",
    "geo = Geoserver(\n",
    "    \"https://geonode.seabee.sigma2.no/geoserver\",\n",
    "    username=SETTINGS.GEOSERVER_USER,\n",
    "    password=SETTINGS.GEOSERVER_PASSWORD,\n",
    ")"
   ]
  },
  {
   "cell_type": "markdown",
   "metadata": {},
   "source": [
    "## 1. Uploading layers from geopackages\n",
    "\n",
    "In theory it should be possible to do this directly, but I can't get the syntax correct. For now, the code below loops over all layers in the `.gpkg`, converts them to zipped shapefiles, then uploads these to GeoServer. As with the image mosaics, it is necessary to run the `updatelayers` command - either via the GeoNode UI or the API - before the new layers will appear in the interface."
   ]
  },
  {
   "cell_type": "code",
   "execution_count": null,
   "metadata": {},
   "outputs": [],
   "source": [
    "temp_fold = r\"/home/notebook/vecs\"\n",
    "gpkg_path = r\"/home/notebook/shared-seabee-ns9879k/niva/2022/2022-08-31_RUNDE/Annotation/vector/2022-08-31_Remoy_Annotation.gpkg\"\n",
    "\n",
    "for layer_name in fiona.listlayers(gpkg_path):\n",
    "    # Read layer\n",
    "    gdf = gpd.read_file(gpkg_path, layer=layer_name)\n",
    "\n",
    "    # Save as zipped shapefile\n",
    "    shp_fold = os.path.join(temp_fold, layer_name)\n",
    "    os.makedirs(shp_fold)\n",
    "    shp_path = os.path.join(shp_fold, layer_name + \".shp\")\n",
    "    gdf.to_file(shp_path)\n",
    "    zip_path = os.path.join(temp_fold, layer_name)\n",
    "    shutil.make_archive(zip_path, \"zip\", shp_fold)\n",
    "\n",
    "    # Add to geoserver\n",
    "    geo.create_shp_datastore(\n",
    "        path=zip_path + \".zip\", store_name=layer_name, workspace=\"geonode\"\n",
    "    )\n",
    "\n",
    "    # Tidy up\n",
    "    os.remove(zip_path + \".zip\")\n",
    "    shutil.rmtree(shp_fold)"
   ]
  }
 ],
 "metadata": {
  "kernelspec": {
   "display_name": "Python 3 (ipykernel)",
   "language": "python",
   "name": "python3"
  },
  "language_info": {
   "codemirror_mode": {
    "name": "ipython",
    "version": 3
   },
   "file_extension": ".py",
   "mimetype": "text/x-python",
   "name": "python",
   "nbconvert_exporter": "python",
   "pygments_lexer": "ipython3",
   "version": "3.10.6"
  }
 },
 "nbformat": 4,
 "nbformat_minor": 4
}
