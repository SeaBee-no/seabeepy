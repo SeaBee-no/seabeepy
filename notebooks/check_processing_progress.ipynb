{
 "cells": [
  {
   "cell_type": "code",
   "execution_count": null,
   "id": "9474261c-1d26-46f8-8611-75a5c857e64c",
   "metadata": {},
   "outputs": [],
   "source": [
    "import os\n",
    "from pathlib import Path\n",
    "from pprint import pprint\n",
    "\n",
    "import pandas as pd\n",
    "from pyodm import Node\n",
    "\n",
    "import seabeepy as sb"
   ]
  },
  {
   "cell_type": "markdown",
   "id": "aa9969f9-0dd3-4090-a302-b86b92a0abff",
   "metadata": {},
   "source": [
    "# Check mission progress\n",
    "\n",
    "Checks processing status of missions submitted to the SeaBee platform.\n",
    "\n",
    "## 1. Tasks on NodeODM"
   ]
  },
  {
   "cell_type": "code",
   "execution_count": null,
   "id": "100bc73c-b301-4e64-a336-46b39909fec5",
   "metadata": {},
   "outputs": [],
   "source": [
    "node = Node.from_url(\"http://nodeodm\")\n",
    "print(node.info())\n",
    "\n",
    "nodeodm_task_ids = node.get(\"task/list\")\n",
    "task_list = [node.get_task(t[\"uuid\"]) for t in nodeodm_task_ids]\n",
    "print(\"Total number of tasks:\", len(task_list))\n",
    "\n",
    "task_df = pd.DataFrame(\n",
    "    [\n",
    "        (\n",
    "            idx,\n",
    "            t.info().uuid,\n",
    "            os.path.split(t.info().name)[1],\n",
    "            t.info().images_count,\n",
    "            t.info().progress,\n",
    "            str(t.info().status).split(\".\")[1],\n",
    "            t.output()[-1] if t.output() else \"no message\",\n",
    "        )\n",
    "        for idx, t in enumerate(task_list)\n",
    "    ],\n",
    "    columns=[\n",
    "        \"task_index\",\n",
    "        \"uuid\",\n",
    "        \"mission_name\",\n",
    "        \"n_images\",\n",
    "        \"progress\",\n",
    "        \"status\",\n",
    "        \"last_message\",\n",
    "    ],\n",
    ")\n",
    "task_df"
   ]
  },
  {
   "cell_type": "markdown",
   "id": "2061dff8",
   "metadata": {},
   "source": [
    "### Task output\n",
    "\n",
    "Check output of running tasks, could perhaps just look at one task since the output is quite big."
   ]
  },
  {
   "cell_type": "code",
   "execution_count": null,
   "id": "c6156fd1",
   "metadata": {},
   "outputs": [],
   "source": [
    "for task in task_list:\n",
    "    if str(task.info().status) == \"TaskStatus.FAILED\":\n",
    "        print(f\"Task {task.info().name} at {task.info().progress}%\")\n",
    "        for l in task.output()[-30:]:\n",
    "            print(l)\n",
    "        print(\"\\n\")"
   ]
  },
  {
   "cell_type": "markdown",
   "id": "9d3a3dcb",
   "metadata": {},
   "source": [
    "### Restart failed tasks\n",
    "\n",
    "Restart task that was previously canceled, that had failed to process or that successfully completed. We just restart failed tasks."
   ]
  },
  {
   "cell_type": "code",
   "execution_count": null,
   "id": "edafa865",
   "metadata": {},
   "outputs": [],
   "source": [
    "failed_tasks = [t for t in task_list if str(t.info().status) == \"TaskStatus.FAILED\"]\n",
    "set([t.info().last_error for t in failed_tasks])"
   ]
  },
  {
   "cell_type": "code",
   "execution_count": null,
   "id": "3849ed44",
   "metadata": {},
   "outputs": [],
   "source": [
    "# for task in failed_tasks:\n",
    "#     if task.info().last_error == \"Cannot process dataset\":\n",
    "#         task.restart()"
   ]
  },
  {
   "cell_type": "code",
   "execution_count": null,
   "id": "1bfadc0b-56fa-4696-af17-cc36f47bd801",
   "metadata": {},
   "outputs": [],
   "source": [
    "# print(task_list[0].info())\n",
    "# sorted([n.name for n in node.options()])\n",
    "# task_list[0].cancel()\n",
    "# task_list[0].remove()"
   ]
  },
  {
   "cell_type": "markdown",
   "id": "8afc4de8-b17a-4b88-91e8-d445cdfd04b4",
   "metadata": {},
   "source": [
    "## 2. Folder structure"
   ]
  },
  {
   "cell_type": "code",
   "execution_count": null,
   "id": "126c7ad4-64a3-4537-85d4-c32f66df3e9b",
   "metadata": {},
   "outputs": [],
   "source": [
    "# User input\n",
    "base_dir = r\"/home/notebook/shared-seabee-ns9879k/seabirds/2023/\""
   ]
  },
  {
   "cell_type": "code",
   "execution_count": null,
   "id": "928ba191-79d7-41a2-b055-39e2acc55bbe",
   "metadata": {},
   "outputs": [],
   "source": [
    "%%capture\n",
    "\n",
    "# Check mission data in 'base_dir'\n",
    "\n",
    "dir_list = [f.parent for f in Path(base_dir).rglob(\"config.seabee.yaml\")]\n",
    "\n",
    "valid_configs = [f for f in dir_list if sb.ortho.check_config_valid(f)]\n",
    "invalid_configs = [f for f in dir_list if not sb.ortho.check_config_valid(f)]\n",
    "\n",
    "images = [f for f in dir_list if sb.ortho.check_subdir_exists(f, \"images\")]\n",
    "no_images = [f for f in dir_list if not sb.ortho.check_subdir_exists(f, \"images\")]\n",
    "\n",
    "orthos = [f for f in dir_list if sb.ortho.check_subdir_exists(f, \"orthophoto\")]\n",
    "no_orthos = [f for f in dir_list if not sb.ortho.check_subdir_exists(f, \"orthophoto\")]\n",
    "\n",
    "images_configs = [f for f in valid_configs if f in images]\n",
    "valid_counts = [f for f in images_configs if sb.ortho.check_file_count(f)]\n",
    "invalid_counts = [f for f in images_configs if not sb.ortho.check_file_count(f)]\n",
    "\n",
    "to_process = [\n",
    "    f\n",
    "    for f in valid_counts\n",
    "    if not sb.ortho.check_subdir_exists(f, \"orthophoto\")\n",
    "]\n",
    "\n",
    "no_mosaic = [f for f in to_process if not sb.ortho.parse_config(f)[\"mosaic\"]]\n",
    "no_publish = [f for f in to_process if not sb.ortho.parse_config(f)[\"publish\"]]"
   ]
  },
  {
   "cell_type": "code",
   "execution_count": null,
   "id": "df372041-3002-4b44-987a-3812522694aa",
   "metadata": {},
   "outputs": [],
   "source": [
    "print(\"Scanning\", base_dir)\n",
    "print(len(dir_list), \"sub-directories contain 'config.seabee.yaml' files.\")\n",
    "print(\n",
    "    len(valid_configs),\n",
    "    f\"directories have valid config. files ({len(invalid_configs)} are invalid).\",\n",
    ")\n",
    "print(\n",
    "    len(images), f\"directories have 'images' sub-directories ({len(no_images)} do not).\"\n",
    ")\n",
    "print(\n",
    "    len(orthos),\n",
    "    f\"directories have 'orthophoto' sub-directories ({len(no_orthos)} do not).\",\n",
    ")\n",
    "print(\n",
    "    len(images_configs),\n",
    "    f\"directories have both images and valid configs. {len(valid_counts)} of these have the correct number of images and {len(invalid_counts)} do not.\",\n",
    ")\n",
    "print(\n",
    "    len(to_process),\n",
    "    f\"missions can be processed ({len(no_mosaic)} have 'mosaic=False' and {len(no_publish)} have 'publish=False').\",\n",
    ")\n",
    "\n",
    "print(f\"\\nThe following {len(invalid_configs)} folders have invalid config.:\")\n",
    "pprint(invalid_configs)\n",
    "\n",
    "print(f\"\\nThe following {len(no_images)} folders have no images:\")\n",
    "pprint(no_images)\n",
    "\n",
    "print(f\"\\nThe following {len(invalid_counts)} folders have invalid image counts:\")\n",
    "pprint(invalid_counts)\n",
    "\n",
    "print(f\"\\nThe following {len(to_process)} folders are ready to be processed:\")\n",
    "pprint(to_process)\n",
    "\n",
    "print(f\"\\nOf these, the following {len(no_mosaic)} folders have 'mosaic=False':\")\n",
    "pprint(no_mosaic)\n",
    "\n",
    "print(f\"\\nand the following {len(no_publish)} folders have 'publish=False':\")\n",
    "pprint(no_publish)"
   ]
  },
  {
   "cell_type": "code",
   "execution_count": null,
   "id": "e452e708-644d-4c80-af21-828acd70cee3",
   "metadata": {},
   "outputs": [],
   "source": [
    "# Missions with non-standard ODM settings\n",
    "[f for f in valid_configs if sb.ortho.parse_config(f).get(\"odm_options\")]"
   ]
  }
 ],
 "metadata": {
  "kernelspec": {
   "display_name": "Python 3 (ipykernel)",
   "language": "python",
   "name": "python3"
  },
  "language_info": {
   "codemirror_mode": {
    "name": "ipython",
    "version": 3
   },
   "file_extension": ".py",
   "mimetype": "text/x-python",
   "name": "python",
   "nbconvert_exporter": "python",
   "pygments_lexer": "ipython3",
   "version": "3.10.6"
  }
 },
 "nbformat": 4,
 "nbformat_minor": 5
}
