{
 "cells": [
  {
   "cell_type": "code",
   "execution_count": 1,
   "id": "9474261c-1d26-46f8-8611-75a5c857e64c",
   "metadata": {},
   "outputs": [],
   "source": [
    "import os\n",
    "from glob import glob\n",
    "from pprint import pprint\n",
    "\n",
    "import pandas as pd\n",
    "from config import SETTINGS\n",
    "from pyodm import Node\n",
    "\n",
    "import seabeepy as sb"
   ]
  },
  {
   "cell_type": "markdown",
   "id": "aa9969f9-0dd3-4090-a302-b86b92a0abff",
   "metadata": {},
   "source": [
    "# Check mission progress\n",
    "\n",
    "Checks processing status of missions submitted to the SeaBee platform.\n",
    "\n",
    "## 1. Tasks on NodeODM"
   ]
  },
  {
   "cell_type": "code",
   "execution_count": 2,
   "id": "100bc73c-b301-4e64-a336-46b39909fec5",
   "metadata": {},
   "outputs": [
    {
     "name": "stdout",
     "output_type": "stream",
     "text": [
      "{'version': '2.2.2', 'task_queue_count': 0, 'total_memory': 540553396224, 'available_memory': 385196969984, 'cpu_cores': 256, 'max_images': None, 'max_parallel_tasks': 4, 'engine': 'odm', 'engine_version': '3.1.7', 'odm_version': '?'}\n",
      "Total number of tasks: 1\n"
     ]
    },
    {
     "data": {
      "text/html": [
       "<div>\n",
       "<style scoped>\n",
       "    .dataframe tbody tr th:only-of-type {\n",
       "        vertical-align: middle;\n",
       "    }\n",
       "\n",
       "    .dataframe tbody tr th {\n",
       "        vertical-align: top;\n",
       "    }\n",
       "\n",
       "    .dataframe thead th {\n",
       "        text-align: right;\n",
       "    }\n",
       "</style>\n",
       "<table border=\"1\" class=\"dataframe\">\n",
       "  <thead>\n",
       "    <tr style=\"text-align: right;\">\n",
       "      <th></th>\n",
       "      <th>task_index</th>\n",
       "      <th>uuid</th>\n",
       "      <th>mission_name</th>\n",
       "      <th>n_images</th>\n",
       "      <th>progress</th>\n",
       "      <th>status</th>\n",
       "      <th>last_message</th>\n",
       "    </tr>\n",
       "  </thead>\n",
       "  <tbody>\n",
       "    <tr>\n",
       "      <th>0</th>\n",
       "      <td>0</td>\n",
       "      <td>854ab8ae-a557-4b1b-8f80-6c048ef0f311</td>\n",
       "      <td>agder_songvaar_20230524</td>\n",
       "      <td>1773</td>\n",
       "      <td>100</td>\n",
       "      <td>FAILED</td>\n",
       "      <td>[ERROR]   Uh oh! Processing stopped because of...</td>\n",
       "    </tr>\n",
       "  </tbody>\n",
       "</table>\n",
       "</div>"
      ],
      "text/plain": [
       "   task_index                                  uuid             mission_name  \\\n",
       "0           0  854ab8ae-a557-4b1b-8f80-6c048ef0f311  agder_songvaar_20230524   \n",
       "\n",
       "   n_images  progress  status  \\\n",
       "0      1773       100  FAILED   \n",
       "\n",
       "                                        last_message  \n",
       "0  [ERROR]   Uh oh! Processing stopped because of...  "
      ]
     },
     "execution_count": 2,
     "metadata": {},
     "output_type": "execute_result"
    }
   ],
   "source": [
    "node = Node.from_url(\"http://nodeodm\")\n",
    "print(node.info())\n",
    "\n",
    "nodeodm_task_ids = node.get(\"task/list\")\n",
    "task_list = [node.get_task(t[\"uuid\"]) for t in nodeodm_task_ids]\n",
    "print(\"Total number of tasks:\", len(task_list))\n",
    "\n",
    "task_df = pd.DataFrame(\n",
    "    [\n",
    "        (\n",
    "            idx,\n",
    "            t.info().uuid,\n",
    "            os.path.split(t.info().name)[1],\n",
    "            t.info().images_count,\n",
    "            t.info().progress,\n",
    "            str(t.info().status).split(\".\")[1],\n",
    "            t.output()[-1]\n",
    "        )\n",
    "        for idx, t in enumerate(task_list)\n",
    "    ],\n",
    "    columns=[\"task_index\", \"uuid\", \"mission_name\", \"n_images\", \"progress\", \"status\", \"last_message\"],\n",
    ")\n",
    "task_df"
   ]
  },
  {
   "cell_type": "markdown",
   "id": "2061dff8",
   "metadata": {},
   "source": [
    "### Task output\n",
    "\n",
    "Check output of running tasks, could perhaps just look at one task since the output is quite big."
   ]
  },
  {
   "cell_type": "code",
   "execution_count": 7,
   "id": "c6156fd1",
   "metadata": {},
   "outputs": [
    {
     "name": "stdout",
     "output_type": "stream",
     "text": [
      "Task /home/notebook/shared-seabee-ns9879k/seabirds/2023/agder_songvaar_20230524 at 100%\n",
      "File \"/code/SuperBuild/install/bin/opensfm/opensfm/io.py\", line 1469, in open\n",
      "return open(*args, **kwargs)\n",
      "OSError: [Errno 116] Stale file handle: '/var/www/data/854ab8ae-a557-4b1b-8f80-6c048ef0f311/opensfm/exif/DJI_20230524115751_0178_V.JPG.exif'\n",
      "\n",
      "===== Dumping Info for Geeks (developers need this to fix bugs) =====\n",
      "Child returned 1\n",
      "Traceback (most recent call last):\n",
      "File \"/code/stages/odm_app.py\", line 81, in execute\n",
      "self.first_stage.run()\n",
      "File \"/code/opendm/types.py\", line 398, in run\n",
      "self.next_stage.run(outputs)\n",
      "File \"/code/opendm/types.py\", line 398, in run\n",
      "self.next_stage.run(outputs)\n",
      "File \"/code/opendm/types.py\", line 398, in run\n",
      "self.next_stage.run(outputs)\n",
      "File \"/code/opendm/types.py\", line 377, in run\n",
      "self.process(self.args, outputs)\n",
      "File \"/code/stages/run_opensfm.py\", line 38, in process\n",
      "octx.reconstruct(args.rolling_shutter, reconstruction.is_georeferenced() and (not args.sfm_no_partial), self.rerun())\n",
      "File \"/code/opendm/osfm.py\", line 55, in reconstruct\n",
      "self.run('reconstruct')\n",
      "File \"/code/opendm/osfm.py\", line 34, in run\n",
      "system.run('\"%s\" %s \"%s\"' %\n",
      "File \"/code/opendm/system.py\", line 112, in run\n",
      "raise SubprocessException(\"Child returned {}\".format(retcode), retcode)\n",
      "opendm.system.SubprocessException: Child returned 1\n",
      "\n",
      "===== Done, human-readable information to follow... =====\n",
      "\n",
      "[ERROR]   Uh oh! Processing stopped because of strange values in the reconstruction. This is often a sign that the input data has some issues or the software cannot deal with it. Have you followed best practices for data acquisition? See https://docs.opendronemap.org/flying/\n",
      "\n",
      "\n"
     ]
    }
   ],
   "source": [
    "for task in task_list:\n",
    "    if str(task.info().status) == \"TaskStatus.FAILED\":\n",
    "        print(f\"Task {task.info().name} at {task.info().progress}%\")\n",
    "        for l in task.output()[-30:]:\n",
    "            print(l)\n",
    "        print(\"\\n\")"
   ]
  },
  {
   "cell_type": "markdown",
   "id": "9d3a3dcb",
   "metadata": {},
   "source": [
    "### Restart failed tasks\n",
    "\n",
    "Restart task that was previously canceled, that had failed to process or that successfully completed. We just restart failed tasks."
   ]
  },
  {
   "cell_type": "code",
   "execution_count": null,
   "id": "edafa865",
   "metadata": {},
   "outputs": [],
   "source": [
    "failed_tasks = [t for t in task_list if t.info().status == \"TaskStatus.FAILED\"]\n",
    "set([t.info().last_error for t in failed_tasks])"
   ]
  },
  {
   "cell_type": "code",
   "execution_count": null,
   "id": "3849ed44",
   "metadata": {},
   "outputs": [],
   "source": [
    "for task in failed_tasks:\n",
    "    if task.info().last_error == \"Cannot process dataset\":\n",
    "        task.restart()"
   ]
  },
  {
   "cell_type": "code",
   "execution_count": 3,
   "id": "1bfadc0b-56fa-4696-af17-cc36f47bd801",
   "metadata": {},
   "outputs": [],
   "source": [
    "# print(task_list[0].info())\n",
    "# sorted([n.name for n in node.options()])\n",
    "# task_list[0].cancel()\n",
    "# task_list[0].remove()"
   ]
  },
  {
   "cell_type": "markdown",
   "id": "8afc4de8-b17a-4b88-91e8-d445cdfd04b4",
   "metadata": {},
   "source": [
    "## 2. Folder structure"
   ]
  },
  {
   "cell_type": "code",
   "execution_count": 4,
   "id": "126c7ad4-64a3-4537-85d4-c32f66df3e9b",
   "metadata": {},
   "outputs": [],
   "source": [
    "# User input\n",
    "base_dir = r\"/home/notebook/shared-seabee-ns9879k/seabirds/2023/\""
   ]
  },
  {
   "cell_type": "code",
   "execution_count": 5,
   "id": "928ba191-79d7-41a2-b055-39e2acc55bbe",
   "metadata": {},
   "outputs": [],
   "source": [
    "%%capture\n",
    "\n",
    "# Check mission data in 'base_dir'\n",
    "dir_list = sorted(glob(os.path.join(base_dir, \"*/\")))\n",
    "dir_list = [os.path.normpath(f) for f in dir_list]\n",
    "\n",
    "names = [f for f in dir_list if sb.ortho.parse_mission_data(os.path.basename(f))]\n",
    "bad_names = [\n",
    "    f for f in dir_list if not sb.ortho.parse_mission_data(os.path.basename(f))\n",
    "]\n",
    "\n",
    "configs = [f for f in dir_list if sb.ortho.check_config_exists(f)]\n",
    "no_configs = [f for f in dir_list if not sb.ortho.check_config_exists(f)]\n",
    "\n",
    "valid_configs = [f for f in configs if sb.ortho.check_config_valid(f)]\n",
    "invalid_configs = [f for f in configs if not sb.ortho.check_config_valid(f)]\n",
    "\n",
    "images = [f for f in dir_list if sb.ortho.check_subdir_exists(f, \"images\")]\n",
    "no_images = [f for f in dir_list if not sb.ortho.check_subdir_exists(f, \"images\")]\n",
    "\n",
    "orthos = [f for f in dir_list if sb.ortho.check_subdir_exists(f, \"orthophoto\")]\n",
    "no_orthos = [f for f in dir_list if not sb.ortho.check_subdir_exists(f, \"orthophoto\")]\n",
    "\n",
    "images_configs = [f for f in valid_configs if f in images]\n",
    "valid_counts = [f for f in images_configs if sb.ortho.check_file_count(f)]\n",
    "invalid_counts = [f for f in images_configs if not sb.ortho.check_file_count(f)]\n",
    "\n",
    "to_process = [\n",
    "    f\n",
    "    for f in valid_counts\n",
    "    if not sb.ortho.check_subdir_exists(f, \"orthophoto\") and f in names\n",
    "]\n",
    "\n",
    "no_mosaic = [f for f in to_process if not sb.ortho.parse_config(f)[\"mosaic\"]]\n",
    "no_publish = [f for f in to_process if not sb.ortho.parse_config(f)[\"publish\"]]"
   ]
  },
  {
   "cell_type": "code",
   "execution_count": 6,
   "id": "df372041-3002-4b44-987a-3812522694aa",
   "metadata": {},
   "outputs": [
    {
     "name": "stdout",
     "output_type": "stream",
     "text": [
      "Scanning /home/notebook/shared-seabee-ns9879k/seabirds/2023/\n",
      "444 sub-directories in total.\n",
      "442 have valid mission names (2 are invalid).\n",
      "442 directories have valid config. files (2 have no config. and 0 are invalid).\n",
      "443 directories have 'images' sub-directories (1 do not).\n",
      "433 directories have 'orthophoto' sub-directories (11 do not).\n",
      "442 have both images and valid configs. 442 of these have the correct number of images and 0 do not.\n",
      "9 missions can be processed (1 have 'mosaic=False' and 1 have 'publish=False').\n",
      "\n",
      "The following 2 folders have invalid names:\n",
      "['/home/notebook/shared-seabee-ns9879k/seabirds/2023/Karmoy_Jarstein_Sor_midt-20230514',\n",
      " '/home/notebook/shared-seabee-ns9879k/seabirds/2023/nonmission']\n",
      "\n",
      "The following 2 folders have no config.:\n",
      "['/home/notebook/shared-seabee-ns9879k/seabirds/2023/Karmoy_Jarstein_Sor_midt-20230514',\n",
      " '/home/notebook/shared-seabee-ns9879k/seabirds/2023/nonmission']\n",
      "\n",
      "The following 0 folders have invalid config.:\n",
      "[]\n",
      "\n",
      "The following 1 folders have no images:\n",
      "['/home/notebook/shared-seabee-ns9879k/seabirds/2023/nonmission']\n",
      "\n",
      "The following 0 folders have invalid image counts:\n",
      "[]\n",
      "\n",
      "The following 9 folders are ready to be processed:\n",
      "['/home/notebook/shared-seabee-ns9879k/seabirds/2023/Oslofjorden_Geitholmen_20230419',\n",
      " '/home/notebook/shared-seabee-ns9879k/seabirds/2023/Team1Dag10_hinnaBaseKaiFAILED_202305241740',\n",
      " '/home/notebook/shared-seabee-ns9879k/seabirds/2023/Team1Dag10_nordtjor_202305241158',\n",
      " '/home/notebook/shared-seabee-ns9879k/seabirds/2023/Team1Dag15_ternoya_202305291416',\n",
      " '/home/notebook/shared-seabee-ns9879k/seabirds/2023/agder_hellersoya_20230524',\n",
      " '/home/notebook/shared-seabee-ns9879k/seabirds/2023/agder_kubboya_20230524',\n",
      " '/home/notebook/shared-seabee-ns9879k/seabirds/2023/agder_nodingen_20230521',\n",
      " '/home/notebook/shared-seabee-ns9879k/seabirds/2023/agder_songvaar_20230524',\n",
      " '/home/notebook/shared-seabee-ns9879k/seabirds/2023/agder_valoy_20230525']\n",
      "\n",
      "Of these, the following 1 folders have 'mosaic=False':\n",
      "['/home/notebook/shared-seabee-ns9879k/seabirds/2023/Team1Dag10_hinnaBaseKaiFAILED_202305241740']\n",
      "\n",
      "and the following 1 folders have 'publish=False':\n",
      "['/home/notebook/shared-seabee-ns9879k/seabirds/2023/Team1Dag10_hinnaBaseKaiFAILED_202305241740']\n"
     ]
    }
   ],
   "source": [
    "print(\"Scanning\", base_dir)\n",
    "print(len(dir_list), \"sub-directories in total.\")\n",
    "print(len(names), f\"have valid mission names ({len(bad_names)} are invalid).\")\n",
    "print(\n",
    "    len(valid_configs),\n",
    "    f\"directories have valid config. files ({len(no_configs)} have no config. and {len(invalid_configs)} are invalid).\",\n",
    ")\n",
    "print(\n",
    "    len(images), f\"directories have 'images' sub-directories ({len(no_images)} do not).\"\n",
    ")\n",
    "print(\n",
    "    len(orthos),\n",
    "    f\"directories have 'orthophoto' sub-directories ({len(no_orthos)} do not).\",\n",
    ")\n",
    "print(\n",
    "    len(images_configs),\n",
    "    f\"have both images and valid configs. {len(valid_counts)} of these have the correct number of images and {len(invalid_counts)} do not.\",\n",
    ")\n",
    "print(\n",
    "    len(to_process),\n",
    "    f\"missions can be processed ({len(no_mosaic)} have 'mosaic=False' and {len(no_publish)} have 'publish=False').\",\n",
    ")\n",
    "\n",
    "print(f\"\\nThe following {len(bad_names)} folders have invalid names:\")\n",
    "pprint(bad_names)\n",
    "\n",
    "print(f\"\\nThe following {len(no_configs)} folders have no config.:\")\n",
    "pprint(no_configs)\n",
    "\n",
    "print(f\"\\nThe following {len(invalid_configs)} folders have invalid config.:\")\n",
    "pprint(invalid_configs)\n",
    "\n",
    "print(f\"\\nThe following {len(no_images)} folders have no images:\")\n",
    "pprint(no_images)\n",
    "\n",
    "print(f\"\\nThe following {len(invalid_counts)} folders have invalid image counts:\")\n",
    "pprint(invalid_counts)\n",
    "\n",
    "print(f\"\\nThe following {len(to_process)} folders are ready to be processed:\")\n",
    "pprint(to_process)\n",
    "\n",
    "print(f\"\\nOf these, the following {len(no_mosaic)} folders have 'mosaic=False':\")\n",
    "pprint(no_mosaic)\n",
    "\n",
    "print(f\"\\nand the following {len(no_publish)} folders have 'publish=False':\")\n",
    "pprint(no_publish)"
   ]
  },
  {
   "cell_type": "code",
   "execution_count": 7,
   "id": "e452e708-644d-4c80-af21-828acd70cee3",
   "metadata": {},
   "outputs": [
    {
     "data": {
      "text/plain": [
       "['/home/notebook/shared-seabee-ns9879k/seabirds/2023/Bergen_Realfagstaket_20230530']"
      ]
     },
     "execution_count": 7,
     "metadata": {},
     "output_type": "execute_result"
    }
   ],
   "source": [
    "# Missions with non-standard ODM settings\n",
    "[f for f in valid_configs if sb.ortho.parse_config(f).get(\"odm_options\")]"
   ]
  }
 ],
 "metadata": {
  "kernelspec": {
   "display_name": "Python 3 (ipykernel)",
   "language": "python",
   "name": "python3"
  },
  "language_info": {
   "codemirror_mode": {
    "name": "ipython",
    "version": 3
   },
   "file_extension": ".py",
   "mimetype": "text/x-python",
   "name": "python",
   "nbconvert_exporter": "python",
   "pygments_lexer": "ipython3",
   "version": "3.10.6"
  }
 },
 "nbformat": 4,
 "nbformat_minor": 5
}
