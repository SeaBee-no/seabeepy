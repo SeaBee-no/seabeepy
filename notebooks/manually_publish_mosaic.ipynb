{
 "cells": [
  {
   "cell_type": "code",
   "execution_count": null,
   "id": "cb6cbb13-98b1-4d2a-82b6-f7ebab9d4d8c",
   "metadata": {},
   "outputs": [],
   "source": [
    "import os\n",
    "from subprocess import CalledProcessError\n",
    "\n",
    "from config import SETTINGS\n",
    "\n",
    "import seabeepy as sb"
   ]
  },
  {
   "cell_type": "markdown",
   "id": "80bab970-7f2d-4bf5-8b66-1e6b07deb703",
   "metadata": {},
   "source": [
    "# Manually publish NodeODM mosaics from flight folders\n",
    "\n",
    "Useful for tidying up when there are issues with the automatic publishing workflow.\n",
    "\n",
    " * Assumes the raw images have already been processed with NodeODM i.e. that `./orthophoto/odm_orthophoto.original.tif` already exists in the mission folder.\n",
    " \n",
    " * The folder/data structure must follow the guidelines [here](https://seabee-no.github.io/documentation/data-upload.html#sec-data-structure)."
   ]
  },
  {
   "cell_type": "code",
   "execution_count": null,
   "id": "e4bf3810-afe1-4bbb-a228-7d3c32543487",
   "metadata": {},
   "outputs": [],
   "source": [
    "# List of mission folders to process\n",
    "mission_fold_list = [\n",
    "    r\"/home/notebook/shared-seabee-ns9879k/niva-tidy/2022/spectrofly_202208180945_kelpmap_vega-s_msi_120\"\n",
    "]\n",
    "\n",
    "temp_dir = r\"/home/notebook/cogs/\""
   ]
  },
  {
   "cell_type": "code",
   "execution_count": null,
   "id": "a5d298fb-34ef-4b61-9ed9-c47c5711dd01",
   "metadata": {},
   "outputs": [],
   "source": [
    "# Login to MinIO\n",
    "minio_client = sb.storage.minio_login(\n",
    "    user=SETTINGS.MINIO_ACCESS_ID, password=SETTINGS.MINIO_SECRET_KEY\n",
    ")"
   ]
  },
  {
   "cell_type": "code",
   "execution_count": null,
   "id": "7e147d81-302c-425c-b949-1ba052ce3aba",
   "metadata": {},
   "outputs": [],
   "source": [
    "for mission_fold in mission_fold_list:\n",
    "    mission_fold = os.path.normpath(mission_fold)\n",
    "    mission_name = os.path.basename(mission_fold)\n",
    "    print(f\"\\n################\\nProcessing: {mission_name}\")\n",
    "    print(\"Preparing orthophoto for publishing.\")\n",
    "\n",
    "    # Is the Orthophoto from ODM or Pix4D?\n",
    "    odm_ortho_path = os.path.join(\n",
    "        mission_fold, \"orthophoto\", \"odm_orthophoto.original.tif\"\n",
    "    )\n",
    "    if os.path.isfile(odm_ortho_path):\n",
    "        ortho_path = odm_ortho_path\n",
    "    else:\n",
    "        ortho_path = os.path.join(\n",
    "            mission_fold, \"orthophoto\", \"pix4d_orthophoto.original.tif\"\n",
    "        )\n",
    "\n",
    "    # Standardise and save locally\n",
    "    layer_name = sb.ortho.get_layer_name(mission_fold)\n",
    "    temp_path = os.path.join(temp_dir, layer_name + \".tif\")\n",
    "    try:\n",
    "        sb.geo.standardise_orthophoto(\n",
    "            ortho_path,\n",
    "            temp_path,\n",
    "        )\n",
    "    except CalledProcessError as cpe:\n",
    "        print(f\"Failed to standardise {ortho_path}.\")\n",
    "        print(cpe)\n",
    "        continue\n",
    "    except ValueError as ve:\n",
    "        if \"Could not determine band order\" in str(ve):\n",
    "            print(ve)\n",
    "            continue\n",
    "        else:\n",
    "            raise\n",
    "\n",
    "    # Copy to MinIO and delete local version\n",
    "    stan_path = os.path.join(mission_fold, \"orthophoto\", layer_name + \".tif\")\n",
    "    sb.storage.copy_file(temp_path, stan_path, minio_client, overwrite=False)\n",
    "    os.remove(temp_path)\n",
    "\n",
    "    print(\"Uploading to GeoServer.\")\n",
    "    sld_name = sb.geo.get_raster_sld(stan_path, enhance_contrast=None)\n",
    "    sb.geo.upload_raster_to_geoserver(\n",
    "        stan_path,\n",
    "        SETTINGS.GEOSERVER_USER,\n",
    "        SETTINGS.GEOSERVER_PASSWORD,\n",
    "        workspace=\"geonode\",\n",
    "        sld_name=sld_name,\n",
    "    )\n",
    "\n",
    "    print(\"Publishing to GeoNode.\")\n",
    "\n",
    "    sb.geo.publish_to_geonode(\n",
    "        layer_name,\n",
    "        SETTINGS.GEONODE_USER,\n",
    "        SETTINGS.GEONODE_PASSWORD,\n",
    "        workspace=\"geonode\",\n",
    "    )\n",
    "\n",
    "    print(\"Updating metadata.\")\n",
    "    date = sb.ortho.parse_mission_data(mission_fold, parse_date=True)[2]\n",
    "    abstract = sb.geo.get_html_abstract(str(mission_fold))\n",
    "    metadata = {\n",
    "        \"abstract\": abstract,\n",
    "        \"date\": date.isoformat(),\n",
    "        \"date_type\": \"creation\",\n",
    "        \"attribution\": \"SeaBee\",\n",
    "    }\n",
    "    sb.geo.update_geonode_metadata(\n",
    "        layer_name,\n",
    "        SETTINGS.GEONODE_USER,\n",
    "        SETTINGS.GEONODE_PASSWORD,\n",
    "        metadata,\n",
    "    )\n",
    "\n",
    "print(f\"Finished.\\n\")"
   ]
  }
 ],
 "metadata": {
  "kernelspec": {
   "display_name": "Python 3 (ipykernel)",
   "language": "python",
   "name": "python3"
  },
  "language_info": {
   "codemirror_mode": {
    "name": "ipython",
    "version": 3
   },
   "file_extension": ".py",
   "mimetype": "text/x-python",
   "name": "python",
   "nbconvert_exporter": "python",
   "pygments_lexer": "ipython3",
   "version": "3.10.6"
  }
 },
 "nbformat": 4,
 "nbformat_minor": 5
}
