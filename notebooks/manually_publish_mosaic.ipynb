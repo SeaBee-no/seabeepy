{
 "cells": [
  {
   "cell_type": "code",
   "execution_count": 1,
   "id": "cb6cbb13-98b1-4d2a-82b6-f7ebab9d4d8c",
   "metadata": {},
   "outputs": [],
   "source": [
    "import os\n",
    "\n",
    "from config import SETTINGS\n",
    "\n",
    "import seabeepy as sb"
   ]
  },
  {
   "cell_type": "markdown",
   "id": "80bab970-7f2d-4bf5-8b66-1e6b07deb703",
   "metadata": {},
   "source": [
    "# Manually publish NodeODM mosaics from flight folders\n",
    "\n",
    "Useful for tidying up when there are issues with the automatic publishing workflow.\n",
    "\n",
    " * Assumes the raw images have already been processed with NodeODM i.e. that `./orthophoto/odm_orthophoto.original.tif` already exists in the mission folder.\n",
    " \n",
    " * The folder/data structure must follow the guidelines [here](https://seabee-no.github.io/documentation/data-upload.html#sec-data-structure)."
   ]
  },
  {
   "cell_type": "code",
   "execution_count": 2,
   "id": "e4bf3810-afe1-4bbb-a228-7d3c32543487",
   "metadata": {},
   "outputs": [],
   "source": [
    "# List of mission folders to process\n",
    "mission_fold_list = [\n",
    "    r\"/home/notebook/shared-seabee-ns9879k/seabirds/2023/agder_lilleslettingen_20230525\",\n",
    "]\n",
    "\n",
    "temp_dir = r\"/home/notebook/cogs/\""
   ]
  },
  {
   "cell_type": "code",
   "execution_count": 3,
   "id": "a5d298fb-34ef-4b61-9ed9-c47c5711dd01",
   "metadata": {},
   "outputs": [],
   "source": [
    "# Login to MinIO\n",
    "minio_client = sb.storage.minio_login(\n",
    "    user=SETTINGS.MINIO_ACCESS_ID, password=SETTINGS.MINIO_SECRET_KEY\n",
    ")"
   ]
  },
  {
   "cell_type": "code",
   "execution_count": 4,
   "id": "7e147d81-302c-425c-b949-1ba052ce3aba",
   "metadata": {},
   "outputs": [
    {
     "name": "stdout",
     "output_type": "stream",
     "text": [
      "\n",
      "################\n",
      "Processing: agder_lilleslettingen_20230525\n",
      "Uploading to GeoServer.\n",
      "Publishing to GeoNode.\n",
      "Updating metadata.\n",
      "Finished.\n",
      "\n"
     ]
    }
   ],
   "source": [
    "for mission_fold in mission_fold_list:\n",
    "    mission_fold = os.path.normpath(mission_fold)\n",
    "    mission_name = os.path.basename(mission_fold)\n",
    "    print(f\"\\n################\\nProcessing: {mission_name}\")\n",
    "    group, area, date = sb.ortho.parse_mission_data(mission_name)\n",
    "    config_data = sb.ortho.parse_config(mission_fold)\n",
    "\n",
    "    print(\"Preparing orthophoto for publishing.\")\n",
    "\n",
    "    # Is the Orthophoto from ODM or Pix4D?\n",
    "    odm_ortho_path = os.path.join(\n",
    "        mission_fold, \"orthophoto\", \"odm_orthophoto.original.tif\"\n",
    "    )\n",
    "    if os.path.isfile(odm_ortho_path):\n",
    "        ortho_path = odm_ortho_path\n",
    "    else:\n",
    "        ortho_path = os.path.join(\n",
    "            mission_fold, \"orthophoto\", \"pix4d_orthophoto.original.tif\"\n",
    "        )\n",
    "\n",
    "    # Standardise and save locally\n",
    "    temp_path = os.path.join(temp_dir, mission_name + \".tif\")\n",
    "    sb.geo.standardise_orthophoto(\n",
    "        ortho_path,\n",
    "        temp_path,\n",
    "        red_band=1,\n",
    "        green_band=2,\n",
    "        blue_band=3,\n",
    "        nodata=255,\n",
    "    )\n",
    "\n",
    "    # Copy to MinIO and delete local version\n",
    "    stan_path = os.path.join(mission_fold, \"orthophoto\", mission_name + \".tif\")\n",
    "    sb.storage.copy_file(temp_path, stan_path, minio_client, overwrite=False)\n",
    "    os.remove(temp_path)\n",
    "\n",
    "    print(\"Uploading to GeoServer.\")\n",
    "\n",
    "    layer_name = sb.geo.upload_raster_to_geoserver(\n",
    "        stan_path,\n",
    "        SETTINGS.GEOSERVER_USER,\n",
    "        SETTINGS.GEOSERVER_PASSWORD,\n",
    "        workspace=\"geonode\",\n",
    "    )\n",
    "\n",
    "    print(\"Publishing to GeoNode.\")\n",
    "\n",
    "    sb.geo.publish_to_geonode(\n",
    "        layer_name,\n",
    "        SETTINGS.GEONODE_USER,\n",
    "        SETTINGS.GEONODE_PASSWORD,\n",
    "        workspace=\"geonode\",\n",
    "    )\n",
    "\n",
    "    print(\"Updating metadata.\")\n",
    "\n",
    "    abstract = sb.geo.get_html_abstract(mission_fold)\n",
    "    metadata = {\n",
    "        \"abstract\": abstract,\n",
    "        \"date\": date.isoformat(),\n",
    "        \"date_type\": \"creation\",\n",
    "        \"attribution\": \"SeaBee\",\n",
    "    }\n",
    "    sb.geo.update_geonode_metadata(\n",
    "        layer_name,\n",
    "        SETTINGS.GEONODE_USER,\n",
    "        SETTINGS.GEONODE_PASSWORD,\n",
    "        metadata,\n",
    "    )\n",
    "\n",
    "    print(f\"Finished.\\n\")"
   ]
  }
 ],
 "metadata": {
  "kernelspec": {
   "display_name": "Python 3 (ipykernel)",
   "language": "python",
   "name": "python3"
  },
  "language_info": {
   "codemirror_mode": {
    "name": "ipython",
    "version": 3
   },
   "file_extension": ".py",
   "mimetype": "text/x-python",
   "name": "python",
   "nbconvert_exporter": "python",
   "pygments_lexer": "ipython3",
   "version": "3.10.6"
  }
 },
 "nbformat": 4,
 "nbformat_minor": 5
}
