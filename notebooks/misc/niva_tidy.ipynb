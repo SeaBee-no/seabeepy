{
 "cells": [
  {
   "cell_type": "code",
   "execution_count": null,
   "id": "27c44bc7-58dc-49ca-a0a3-05fcbfffeff7",
   "metadata": {},
   "outputs": [],
   "source": [
    "import datetime as dt\n",
    "\n",
    "from seabeepy.config import SETTINGS\n",
    "from pathlib import Path\n",
    "\n",
    "import seabeepy as sb\n",
    "import requests\n",
    "import json"
   ]
  },
  {
   "cell_type": "code",
   "execution_count": null,
   "id": "98ca40a8",
   "metadata": {},
   "outputs": [],
   "source": [
    "def get_datasets(url) -> list[dict]:\n",
    "    resp = requests.get(url).json()\n",
    "    datasets = resp[\"datasets\"]\n",
    "    if resp[\"links\"][\"next\"] is not None:\n",
    "        datasets.extend(get_datasets(resp[\"links\"][\"next\"]))\n",
    "\n",
    "    return datasets"
   ]
  },
  {
   "cell_type": "code",
   "execution_count": null,
   "id": "919269a4",
   "metadata": {},
   "outputs": [],
   "source": [
    "geonode_url = \"https://geonode.seabee.sigma2.no\"\n",
    "datasets = get_datasets(f\"{geonode_url}/api/v2/datasets\")"
   ]
  },
  {
   "cell_type": "code",
   "execution_count": null,
   "id": "0927535d",
   "metadata": {},
   "outputs": [],
   "source": [
    "datasets = [ds for ds in datasets if ds[\"subtype\"] == \"raster\" and \"niva\" in ds[\"abstract\"].lower()]\n",
    "len(datasets)"
   ]
  },
  {
   "cell_type": "code",
   "execution_count": null,
   "id": "3bc1f79f",
   "metadata": {},
   "outputs": [],
   "source": [
    "dataset_no_year = [ds for ds in datasets if ds[\"subtype\"] == \"raster\" and \"niva-tidy/niva\" in ds[\"abstract\"].lower()]"
   ]
  },
  {
   "cell_type": "code",
   "execution_count": null,
   "id": "7d4726eb",
   "metadata": {},
   "outputs": [],
   "source": [
    "len(dataset_no_year)"
   ]
  },
  {
   "cell_type": "code",
   "execution_count": null,
   "id": "52d3fd0f-81f9-43ad-a489-1db44e8cc4cb",
   "metadata": {},
   "outputs": [],
   "source": [
    "minio_path_lookup = {}\n",
    "for ds in dataset_no_year:\n",
    "    for s in ds[\"raw_abstract\"].split(\" \"):\n",
    "        if s.startswith(\"niva-tidy\"):\n",
    "            minio_path_lookup[ds['name']] = s.replace(\"niva-tidy\", \"niva-tidy/2023\")"
   ]
  },
  {
   "cell_type": "code",
   "execution_count": null,
   "id": "68965615-a8ba-4a7f-9ec5-59f1c720318b",
   "metadata": {},
   "outputs": [],
   "source": [
    "for layer_name, minio_path in minio_path_lookup.items():\n",
    "    path = Path(f\"/home/notebook/shared-seabee-ns9879k/{minio_path}\")\n",
    "    if path.exists() and (path / \"orthophoto\"/ f\"{layer_name}.tif\").exists():\n",
    "        print(f\"Updating {layer_name}\")\n",
    "        abstract = sb.geo.get_html_abstract(str(path))\n",
    "        date = sb.ortho.parse_mission_data(path, parse_date=True)[2]\n",
    "        metadata = {\n",
    "            \"abstract\": abstract,\n",
    "            \"date\": date.isoformat(),\n",
    "            \"date_type\": \"creation\",\n",
    "            \"attribution\": \"SeaBee\",\n",
    "        }\n",
    "        sb.geo.update_geonode_metadata(\n",
    "            layer_name,\n",
    "            SETTINGS.GEONODE_USER,\n",
    "            SETTINGS.GEONODE_PASSWORD,\n",
    "            metadata,\n",
    "        )"
   ]
  },
  {
   "cell_type": "code",
   "execution_count": null,
   "id": "4de68b76",
   "metadata": {},
   "outputs": [],
   "source": [
    "datasets_seabee_data = [ds for ds in datasets if ds[\"subtype\"] == \"raster\" and \"SEABEE_DATA\" in ds[\"abstract\"]]"
   ]
  },
  {
   "cell_type": "code",
   "execution_count": null,
   "id": "aa7eaff1",
   "metadata": {},
   "outputs": [],
   "source": [
    "len(datasets_seabee_data)"
   ]
  },
  {
   "cell_type": "code",
   "execution_count": null,
   "id": "841c8dd0",
   "metadata": {},
   "outputs": [],
   "source": [
    "for ds in datasets_seabee_data:\n",
    "    print(ds[\"title\"])"
   ]
  },
  {
   "cell_type": "code",
   "execution_count": null,
   "id": "588390a0",
   "metadata": {},
   "outputs": [],
   "source": [
    "minio_path_lookup_seabee = {}\n",
    "for ds in datasets_seabee_data:\n",
    "    for s in ds[\"raw_abstract\"].split(\" \"):\n",
    "        if s.startswith(\"niva-tidy\"):\n",
    "            minio_path_lookup_seabee[ds['name']] = s.replace(\"SEABEE_DATA/\", \"\")"
   ]
  },
  {
   "cell_type": "code",
   "execution_count": null,
   "id": "404f4bdf-92fa-4ecf-ba01-86bd836663ae",
   "metadata": {},
   "outputs": [],
   "source": [
    "for layer_name, minio_path in minio_path_lookup_seabee.items():\n",
    "    path = Path(f\"/home/notebook/shared-seabee-ns9879k/{minio_path}\")\n",
    "    if path.exists() and (path / \"orthophoto\"/ f\"{layer_name}.tif\").exists():\n",
    "        print(f\"Updating {layer_name}\")\n",
    "        abstract = sb.geo.get_html_abstract(str(path))\n",
    "        date = sb.ortho.parse_mission_data(path, parse_date=True)[2]\n",
    "        metadata = {\n",
    "            \"abstract\": abstract,\n",
    "            \"date\": date.isoformat(),\n",
    "            \"date_type\": \"creation\",\n",
    "            \"attribution\": \"SeaBee\",\n",
    "        }\n",
    "        sb.geo.update_geonode_metadata(\n",
    "            layer_name,\n",
    "            SETTINGS.GEONODE_USER,\n",
    "            SETTINGS.GEONODE_PASSWORD,\n",
    "            metadata,\n",
    "        )"
   ]
  }
 ],
 "metadata": {
  "kernelspec": {
   "display_name": "Python 3 (ipykernel)",
   "language": "python",
   "name": "python3"
  },
  "language_info": {
   "codemirror_mode": {
    "name": "ipython",
    "version": 3
   },
   "file_extension": ".py",
   "mimetype": "text/x-python",
   "name": "python",
   "nbconvert_exporter": "python",
   "pygments_lexer": "ipython3",
   "version": "3.10.6"
  },
  "vscode": {
   "interpreter": {
    "hash": "69d0b74f1e5111a26363d8ed5035edb8ad5befc32b6ba89d070f1858b7178fd7"
   }
  }
 },
 "nbformat": 4,
 "nbformat_minor": 5
}
