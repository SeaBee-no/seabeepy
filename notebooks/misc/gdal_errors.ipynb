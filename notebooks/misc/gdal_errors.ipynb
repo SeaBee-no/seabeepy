{
 "cells": [
  {
   "cell_type": "code",
   "execution_count": null,
   "id": "bec8d886-af48-4455-b4dc-8a6af6f81466",
   "metadata": {},
   "outputs": [],
   "source": [
    "import os\n",
    "\n",
    "import rasterio as rio\n",
    "\n",
    "import seabeepy as sb"
   ]
  },
  {
   "cell_type": "markdown",
   "id": "56746708-f7cc-465e-ab61-7fb7122ec107",
   "metadata": {},
   "source": [
    "# GDAL errors\n",
    "\n",
    "Some Pix4D mosaics are failing to open with GDAL."
   ]
  },
  {
   "cell_type": "code",
   "execution_count": null,
   "id": "be6810a8-0743-44d2-83f2-3faf1809e9b4",
   "metadata": {},
   "outputs": [],
   "source": [
    "!cp \"/home/notebook/shared-seabee-ns9879k/niva-tidy/2022/niva_202208180814_kelpmap_vega-s_msi_115/orthophoto/pix4d_orthophoto.original.tif\" \"/home/notebook/cogs/pix4d_orthophoto.original.tif\""
   ]
  },
  {
   "cell_type": "code",
   "execution_count": null,
   "id": "ca6e65a7-d5cc-46a4-ab4d-dfd02cd8beae",
   "metadata": {},
   "outputs": [],
   "source": [
    "!cp \"/home/notebook/shared-seabee-ns9879k/niva-tidy/2022/spectrofly_202209010804_runde_runde_rgb_120/orthophoto/pix4d_orthophoto.original.tif\" \"/home/notebook/cogs/pix4d_orthophoto.original.tif\""
   ]
  },
  {
   "cell_type": "code",
   "execution_count": null,
   "id": "ab0bd61f-f503-4247-b234-796de38cca67",
   "metadata": {},
   "outputs": [],
   "source": [
    "def get_file_size(file_path):\n",
    "    # Get the size of the file in bytes\n",
    "    size_in_bytes = os.path.getsize(file_path)\n",
    "\n",
    "    # Convert the size to GB\n",
    "    size_in_gb = size_in_bytes / (1024 * 1024 * 1024)\n",
    "\n",
    "    return size_in_gb\n",
    "\n",
    "\n",
    "tif_paths = [\n",
    "    # r\"/home/notebook/shared-seabee-ns9879k/niva-tidy/2022/niva_202208180814_kelpmap_vega-s_msi_115/orthophoto/pix4d_orthophoto.original.tif\",\n",
    "    # r\"/home/notebook/shared-seabee-ns9879k/niva-tidy/2022/spectrofly_202209010804_runde_runde_rgb_120/orthophoto/pix4d_orthophoto.original.tif\",\n",
    "    r\"/home/notebook/cogs/pix4d_orthophoto.original.tif\",\n",
    "]\n",
    "for tif_path in tif_paths:\n",
    "    print(f\"{get_file_size(tif_path)} GB.\")\n",
    "    with rio.open(tif_path) as src:\n",
    "        data = src.read()"
   ]
  },
  {
   "cell_type": "code",
   "execution_count": null,
   "id": "73e76e3d-e02a-4987-a9da-3a6350a94353",
   "metadata": {},
   "outputs": [],
   "source": [
    "from osgeo import gdal\n",
    "\n",
    "# Open the file\n",
    "ds = gdal.Open(tif_path)\n",
    "\n",
    "# Read the data from the first band\n",
    "band = ds.GetRasterBand(1)\n",
    "data = band.ReadAsArray()\n",
    "data"
   ]
  },
  {
   "cell_type": "markdown",
   "id": "53933ab4-5a20-4b72-8520-b1258ef7f0ce",
   "metadata": {},
   "source": [
    "`gdalwarp` produces a file that can be opened, but I don't fully trust it. See also [here](https://gis.stackexchange.com/questions/269514/raster-io-error-r)."
   ]
  },
  {
   "cell_type": "code",
   "execution_count": null,
   "id": "3b9cff74-8f2f-4f67-bf66-31b474927ee9",
   "metadata": {},
   "outputs": [],
   "source": [
    "!gdalwarp \"/home/notebook/cogs/pix4d_orthophoto.original.tif\" \"/home/notebook/cogs/test.tif\""
   ]
  }
 ],
 "metadata": {
  "kernelspec": {
   "display_name": "Python 3 (ipykernel)",
   "language": "python",
   "name": "python3"
  },
  "language_info": {
   "codemirror_mode": {
    "name": "ipython",
    "version": 3
   },
   "file_extension": ".py",
   "mimetype": "text/x-python",
   "name": "python",
   "nbconvert_exporter": "python",
   "pygments_lexer": "ipython3",
   "version": "3.10.6"
  }
 },
 "nbformat": 4,
 "nbformat_minor": 5
}
