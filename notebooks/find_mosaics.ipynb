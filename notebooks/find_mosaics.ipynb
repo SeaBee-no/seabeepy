{
 "cells": [
  {
   "cell_type": "code",
   "execution_count": 1,
   "id": "5d0f0429-30b3-4681-9139-d7a6a6ae8d8c",
   "metadata": {},
   "outputs": [],
   "source": [
    "import os\n",
    "from pathlib import Path\n",
    "from pprint import pprint\n",
    "\n",
    "import rasterio\n",
    "from config import SETTINGS\n",
    "from minio import Minio\n",
    "from minio.commonconfig import CopySource\n",
    "from minio.error import InvalidResponseError, S3Error\n",
    "from tqdm.notebook import tqdm"
   ]
  },
  {
   "cell_type": "markdown",
   "id": "f0716aac-f875-4cf0-a1b3-5ad9c27dc7e5",
   "metadata": {},
   "source": [
    "# Search MinIO for mosaic images\n",
    "\n",
    "This notebook searches storage buckets on MinIO and attempts to identify georeferenced mosaic images for further processing (e.g. for upload to GeoServer). **The algorithm for identifying mosaics uses simple rules and will probably miss some images**, but it's a start. A relevant mosaic is identified if:\n",
    "\n",
    " * The file extension is `.tif`\n",
    " \n",
    " * The file size is larger than some user-specified threshold\n",
    " \n",
    " * The number of image bands is greater than some minimum threshold (e.g. to avoid processing single-band images, such as DSMs)\n",
    " \n",
    " * The file has a valid co-ordinate reference system\n",
    " \n",
    "## 1. Manipulating files on MinIO from JupyterHub\n",
    "\n",
    "The MinIO PVC is mounted as a **read-only** volume within users' `$HOME` directories. This means we can use standard Python tools to search the file system and identify mosaics, but we can't modify files or copy them to new locations. **The volume is read-only to prevent accidental deletion of SeaBee data**. To edit/write data on the MinIO PVC from JupyterHub, users should use the MinIO client. This is a little more fiddly, but provides fine-grained user-level access control, which is valuable.\n",
    "\n",
    "### 1.1. Identifying mosaics"
   ]
  },
  {
   "cell_type": "code",
   "execution_count": 2,
   "id": "a1b31f43-8e3c-4b0d-8543-a1e3a86708bf",
   "metadata": {},
   "outputs": [],
   "source": [
    "# Top-level folder to search recursively for .tif files\n",
    "parent_folder = r\"/home/notebook/shared-seabee-ns9879k/niva/2022/2022-08-31_RUNDE/2022-08-31_Remoy\"\n",
    "\n",
    "# MinIO bucket to copy identified mosaics to\n",
    "mosaic_bucket = \"all-mosaics\"\n",
    "\n",
    "# Minimum image size to consider in MB\n",
    "min_size_mb = 100\n",
    "\n",
    "# Minimum number of bands\n",
    "min_bands = 3"
   ]
  },
  {
   "cell_type": "code",
   "execution_count": 3,
   "id": "192748e7-e52a-4c8f-9872-a7557e4f8137",
   "metadata": {},
   "outputs": [
    {
     "name": "stdout",
     "output_type": "stream",
     "text": [
      "104 '.tif' files found with size > 100 MB.\n",
      "Of these, 7 have a valid CRS and 3 or more bands.\n",
      "[PosixPath('/home/notebook/shared-seabee-ns9879k/niva/2022/2022-08-31_RUNDE/2022-08-31_Remoy/1_drone/2_SpectroFly/1404_MS_120m/Reflectance_Maps/composite/Remoy_20220831_1404_MS_comp.tif'),\n",
      " PosixPath('/home/notebook/shared-seabee-ns9879k/niva/2022/2022-08-31_RUNDE/2022-08-31_Remoy/1_drone/2_SpectroFly/0730_RGB_120m/Mosaics/20220831_0730_RGB_120m_transparent_mosaic_group1.tif'),\n",
      " PosixPath('/home/notebook/shared-seabee-ns9879k/niva/2022/2022-08-31_RUNDE/2022-08-31_Remoy/1_drone/2_SpectroFly/0730_RGB_120m/PIX4d_Mapper/20220831_0730_RGB_120m/3_dsm_ortho/2_mosaic/20220831_0730_RGB_120m_transparent_mosaic_group1.tif'),\n",
      " PosixPath('/home/notebook/shared-seabee-ns9879k/niva/2022/2022-08-31_RUNDE/2022-08-31_Remoy/1_drone/2_SpectroFly/1043_MS_120m/Reflectance_Maps/composite/Remoy_20220831_1043_MS_comp_v2.tif'),\n",
      " PosixPath('/home/notebook/shared-seabee-ns9879k/niva/2022/2022-08-31_RUNDE/2022-08-31_Remoy/1_drone/2_SpectroFly/1309_RGB_120m/Mosaics/20220831_1309_RGB_120m_transparent_mosaic_group1.tif'),\n",
      " PosixPath('/home/notebook/shared-seabee-ns9879k/niva/2022/2022-08-31_RUNDE/2022-08-31_Remoy/1_drone/2_SpectroFly/0822_MS_120m/Reflectance_Maps/composite/Remoy_20220831_0822_MS_comp_v2.tif'),\n",
      " PosixPath('/home/notebook/shared-seabee-ns9879k/niva/2022/2022-08-31_RUNDE/2022-08-31_Remoy/1_drone/1_HSI/2022-08-31_0800_HSI/results/rgb_total_composite.tif')]\n"
     ]
    }
   ],
   "source": [
    "# Find all .tif files recursively\n",
    "flist = [\n",
    "    path\n",
    "    for path in Path(parent_folder).rglob(\"*.tif\")\n",
    "    if os.path.getsize(path) > min_size_mb * 1e6\n",
    "]\n",
    "print(f\"{len(flist)} '.tif' files found with size > {min_size_mb} MB.\")\n",
    "\n",
    "# How many have a valid CRS?\n",
    "mosaic_list = []\n",
    "for fpath in flist:\n",
    "    with rasterio.open(fpath) as src:\n",
    "        crs = src.crs\n",
    "        n_bands = src.count\n",
    "        if crs and (n_bands >= min_bands):\n",
    "            mosaic_list.append(fpath)\n",
    "print(f\"Of these, {len(mosaic_list)} have a valid CRS and {min_bands} or more bands.\")\n",
    "pprint(mosaic_list)"
   ]
  },
  {
   "cell_type": "markdown",
   "id": "4d57824a-c74c-4fa6-82ee-733492bfb57b",
   "metadata": {},
   "source": [
    "### 1.2. Copying mosaics\n",
    "\n",
    "The mosaics identified above are copied to a new folder on MinIO."
   ]
  },
  {
   "cell_type": "code",
   "execution_count": 4,
   "id": "d0dd76e9-cec0-40ff-bb1d-8063baa4334d",
   "metadata": {},
   "outputs": [],
   "source": [
    "# Login to MinIO\n",
    "sigma2_client = Minio(\n",
    "    \"storage.seabee.sigma2.no\",\n",
    "    access_key=SETTINGS.ACCESS_ID,\n",
    "    secret_key=SETTINGS.SECRET_KEY,\n",
    ")"
   ]
  },
  {
   "cell_type": "code",
   "execution_count": 5,
   "id": "d16e706e-03b4-4403-b118-ec84423a0152",
   "metadata": {},
   "outputs": [
    {
     "data": {
      "application/vnd.jupyter.widget-view+json": {
       "model_id": "786232c6bc9e44a6801a13b9b31b0067",
       "version_major": 2,
       "version_minor": 0
      },
      "text/plain": [
       "  0%|          | 0/7 [00:00<?, ?it/s]"
      ]
     },
     "metadata": {},
     "output_type": "display_data"
    }
   ],
   "source": [
    "# Create new bucket if necessary\n",
    "found = sigma2_client.bucket_exists(mosaic_bucket)\n",
    "if not found:\n",
    "    sigma2_client.make_bucket(mosaic_bucket)\n",
    "\n",
    "# Copy files\n",
    "for fpath in tqdm(mosaic_list):\n",
    "    # The original folder structure on MinIO contains duplicate files in different\n",
    "    # locations. Check whether the file is already copied, and skip it if so\n",
    "    try:\n",
    "        meta = sigma2_client.stat_object(mosaic_bucket, fpath.name)\n",
    "        exists = True\n",
    "    except S3Error:\n",
    "        exists = False\n",
    "\n",
    "    # Copy the file\n",
    "    if not exists:\n",
    "        src_bucket = fpath.parts[4]\n",
    "        src_path = \"/\".join(fpath.parts[5:])\n",
    "        try:\n",
    "            copy_result = sigma2_client.copy_object(\n",
    "                mosaic_bucket,\n",
    "                fpath.name,\n",
    "                CopySource(src_bucket, src_path),\n",
    "            )\n",
    "        except InvalidResponseError as err:\n",
    "            print(err)\n",
    "        except ValueError:\n",
    "            print(\"Cannot parse:\", fpath)"
   ]
  },
  {
   "cell_type": "markdown",
   "id": "e766efb8-748a-4d83-bd93-0ec395dea8b7",
   "metadata": {},
   "source": [
    "### 1.3. Upload (local) files to MinIO\n",
    "\n",
    "Instead of copying files that are already on MinIO, the code below illustrates how to upload new files (either from JupyterHub or another local directory)."
   ]
  },
  {
   "cell_type": "code",
   "execution_count": null,
   "id": "3c182e96-5208-4c83-9f40-224c3d95fb33",
   "metadata": {},
   "outputs": [],
   "source": [
    "# bucket = \"test-bucket\"\n",
    "# found = sigma2_client.bucket_exists(bucket)\n",
    "# if not found:\n",
    "#     sigma2_client.make_bucket(bucket)\n",
    "\n",
    "# fpath = (\n",
    "#     r\"/home/jovyan/shared/drones/20220831_0730_RGB_120m_transparent_mosaic_group1.tif\"\n",
    "# )\n",
    "# fname = os.path.basename(fpath)\n",
    "\n",
    "# try:\n",
    "#     with open(fpath, \"rb\") as file_data:\n",
    "#         file_stat = os.stat(fpath)\n",
    "#         sigma2_client.put_object(bucket, fname, file_data, file_stat.st_size)\n",
    "# except InvalidResponseError as err:\n",
    "#     print(err)"
   ]
  }
 ],
 "metadata": {
  "kernelspec": {
   "display_name": "Python 3 (ipykernel)",
   "language": "python",
   "name": "python3"
  },
  "language_info": {
   "codemirror_mode": {
    "name": "ipython",
    "version": 3
   },
   "file_extension": ".py",
   "mimetype": "text/x-python",
   "name": "python",
   "nbconvert_exporter": "python",
   "pygments_lexer": "ipython3",
   "version": "3.10.6"
  }
 },
 "nbformat": 4,
 "nbformat_minor": 5
}
