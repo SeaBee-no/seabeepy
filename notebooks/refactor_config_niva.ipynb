{
 "cells": [
  {
   "cell_type": "code",
   "execution_count": 107,
   "id": "6eff5904-aad4-4a24-aa89-5fb262857938",
   "metadata": {},
   "outputs": [],
   "source": [
    "import os\n",
    "\n",
    "import yaml\n",
    "from config import SETTINGS\n",
    "from pathlib import Path\n",
    "import pandas as pd\n",
    "\n",
    "import seabeepy as sb"
   ]
  },
  {
   "cell_type": "markdown",
   "id": "9842e552-4e07-4ad9-b302-476562907463",
   "metadata": {},
   "source": [
    "# Refactor `config.seabee.yaml` for niva-tidy missions"
   ]
  },
  {
   "cell_type": "code",
   "execution_count": 76,
   "id": "83a2beb8-36b0-4122-9c5a-23306962c120",
   "metadata": {},
   "outputs": [],
   "source": [
    "# Login to MinIO\n",
    "minio_client = sb.storage.minio_login(\n",
    "    user=SETTINGS.MINIO_ACCESS_ID, password=SETTINGS.MINIO_SECRET_KEY\n",
    ")"
   ]
  },
  {
   "cell_type": "code",
   "execution_count": 77,
   "id": "b1235ce4",
   "metadata": {},
   "outputs": [],
   "source": [
    "# Parent directories containing flight folders to process\n",
    "base_dirs = [\n",
    "    Path(r\"/home/kim/work/seabee/test-detection/niva-tidy/2022\"),\n",
    "    Path(r\"/home/kim/work/seabee/test-detection/niva-tidy/2023\"),\n",
    "]\n"
   ]
  },
  {
   "cell_type": "code",
   "execution_count": 96,
   "id": "cf6c0e27-0563-492e-b1bc-bc85aeb556c5",
   "metadata": {},
   "outputs": [],
   "source": [
    "def template_config() -> dict:\n",
    "    return dict(\n",
    "    grouping=None,\n",
    "    area=None,\n",
    "    datetime=None,\n",
    "    spectrum_type=None,\n",
    "    elevation=None,\n",
    "    project=None,\n",
    "    nfiles=None,\n",
    "    organisation=None,\n",
    "    creator_name=None,\n",
    "    theme=\"habitat\",\n",
    "    mosaic=False,\n",
    "    publish=True,\n",
    "    #classify=True,\n",
    "    )\n",
    "\n",
    "\n",
    "def niva_name_to_config(name: str):\n",
    "\n",
    "    org, date, group, area, spect, elev = name.split(\"_\")\n",
    "\n",
    "    return dict(\n",
    "        grouping = group,\n",
    "        area = area,\n",
    "        datetime = date,\n",
    "        spectrum_type = spect.lower() if spect.lower() != \"msi\" else \"ms\",\n",
    "        organisation = org,\n",
    "        elevation = int(elev)\n",
    "    )\n",
    "\n",
    "\n",
    "def parse_config(dir_path: Path):\n",
    "    conf = {}\n",
    "    config_path = dir_path / \"config.seabee.yaml\"\n",
    "    if config_path.exists():\n",
    "        with open(config_path, \"r\") as f:\n",
    "            conf = yaml.safe_load(f)\n",
    "    return conf\n",
    "\n",
    "\n",
    "def write_new_config(path: Path, data):\n",
    "    with open(path, \"w\") as yaml_file:\n",
    "        yaml.dump(data, yaml_file, default_flow_style=False, allow_unicode=True)\n",
    "\n",
    "\n",
    "def merge_conf(folder_conf: dict, existing_conf: dict) -> dict:\n",
    "    \"\"\"Merge the folder_conf with the existing_conf\n",
    "\n",
    "    It is assumed that the folder_conf is the correct one for most fields\n",
    "    \"\"\"\n",
    "\n",
    "    new_config = template_config()\n",
    "    for key, val in folder_conf.items():\n",
    "        new_config[key] = val\n",
    "    for key in [\"creator_name\", \"project\", \"mosaic\", \"publish\", \"theme\"]:\n",
    "        if key in existing_conf:\n",
    "            if key == \"creator_name\" and \"_\" in existing_conf[key]:\n",
    "                new_config[key] = \" \".join(existing_conf[key].split(\"_\"))\n",
    "            else:\n",
    "                new_config[key] = existing_conf[key]\n",
    "            \n",
    "    return new_config"
   ]
  },
  {
   "cell_type": "code",
   "execution_count": 97,
   "id": "0ef53250",
   "metadata": {},
   "outputs": [],
   "source": [
    "dir_list = [p for p in base_dirs for p in p.iterdir() if p.is_dir()]"
   ]
  },
  {
   "cell_type": "code",
   "execution_count": 102,
   "id": "8119960e",
   "metadata": {},
   "outputs": [],
   "source": [
    "tmp_dir = Path(\"./tmp\")\n",
    "tmp_dir.mkdir(exist_ok=True)"
   ]
  },
  {
   "cell_type": "code",
   "execution_count": 109,
   "id": "b6c0b7f2-6878-420a-af09-5e6a17a6f75a",
   "metadata": {},
   "outputs": [
    {
     "ename": "TypeError",
     "evalue": "'NoneType' object is not subscriptable",
     "output_type": "error",
     "traceback": [
      "\u001b[0;31m---------------------------------------------------------------------------\u001b[0m",
      "\u001b[0;31mTypeError\u001b[0m                                 Traceback (most recent call last)",
      "Cell \u001b[0;32mIn[109], line 16\u001b[0m\n\u001b[1;32m     14\u001b[0m write_new_config(tmp_dir \u001b[38;5;241m/\u001b[39m \u001b[38;5;124m\"\u001b[39m\u001b[38;5;124mconfig.seabee.yaml\u001b[39m\u001b[38;5;124m\"\u001b[39m, new_conf)\n\u001b[1;32m     15\u001b[0m layer_name \u001b[38;5;241m=\u001b[39m sb\u001b[38;5;241m.\u001b[39mortho\u001b[38;5;241m.\u001b[39mget_layer_name(tmp_dir)\n\u001b[0;32m---> 16\u001b[0m \u001b[43mmission_dict\u001b[49m\u001b[43m[\u001b[49m\u001b[38;5;124;43m\"\u001b[39;49m\u001b[38;5;124;43mfolder_name\u001b[39;49m\u001b[38;5;124;43m\"\u001b[39;49m\u001b[43m]\u001b[49m\u001b[38;5;241m.\u001b[39mappend(mission_name)\n\u001b[1;32m     17\u001b[0m mission_dict[\u001b[38;5;124m\"\u001b[39m\u001b[38;5;124mlayer_name\u001b[39m\u001b[38;5;124m\"\u001b[39m]\u001b[38;5;241m.\u001b[39mappend(layer_name)\n\u001b[1;32m     20\u001b[0m tmp_file \u001b[38;5;241m=\u001b[39m tmp_dir \u001b[38;5;241m/\u001b[39m \u001b[38;5;124mf\u001b[39m\u001b[38;5;124m\"\u001b[39m\u001b[38;5;132;01m{\u001b[39;00mmission_name\u001b[38;5;132;01m}\u001b[39;00m\u001b[38;5;124m.yaml\u001b[39m\u001b[38;5;124m\"\u001b[39m\n",
      "\u001b[0;31mTypeError\u001b[0m: 'NoneType' object is not subscriptable"
     ]
    }
   ],
   "source": [
    "\n",
    "tmp_dir = Path(r\"tmp\")\n",
    "mission_dict = dict(folder_name= [], layer_name = [])\n",
    "mission_dict.update({k:[] for k in template_config().keys()})\n",
    "for dir_path in dir_list:\n",
    "    # Update config\n",
    "    mission_name = os.path.split(dir_path)[-1]\n",
    "    existing_conf = parse_config(dir_path)\n",
    "    folder_conf = niva_name_to_config(mission_name)\n",
    "    \n",
    "    new_conf = merge_conf(folder_conf, existing_conf)\n",
    "    new_conf[\"nfiles\"] = len(sb.ortho.list_images(dir_path / \"images\", verbose=False))\n",
    "    # Save locally and validate\n",
    "\n",
    "    sb.ortho.CONFIG_SCHEMA.validate(new_conf)\n",
    "    write_new_config(tmp_dir / \"config.seabee.yaml\", new_conf)\n",
    "    layer_name = sb.ortho.get_layer_name(tmp_dir)\n",
    "    mission_dict[\"folder_name\"].append(mission_name)\n",
    "    mission_dict[\"layer_name\"].append(layer_name)\n",
    "\n",
    "\n",
    "    tmp_file = tmp_dir / f\"{mission_name}.yaml\"\n",
    "    write_new_config(tmp_file, new_conf)\n"
   ]
  },
  {
   "cell_type": "code",
   "execution_count": 108,
   "id": "ba5ce03a",
   "metadata": {},
   "outputs": [
    {
     "data": {
      "text/html": [
       "<div>\n",
       "<style scoped>\n",
       "    .dataframe tbody tr th:only-of-type {\n",
       "        vertical-align: middle;\n",
       "    }\n",
       "\n",
       "    .dataframe tbody tr th {\n",
       "        vertical-align: top;\n",
       "    }\n",
       "\n",
       "    .dataframe thead th {\n",
       "        text-align: right;\n",
       "    }\n",
       "</style>\n",
       "<table border=\"1\" class=\"dataframe\">\n",
       "  <thead>\n",
       "    <tr style=\"text-align: right;\">\n",
       "      <th></th>\n",
       "      <th>folder_name</th>\n",
       "      <th>layer_name</th>\n",
       "    </tr>\n",
       "  </thead>\n",
       "  <tbody>\n",
       "    <tr>\n",
       "      <th>0</th>\n",
       "      <td>niva_202208190944_kelpmap_vega-n_rgb_120</td>\n",
       "      <td>kelpmap_vega-n_202208190944_rgb_120m</td>\n",
       "    </tr>\n",
       "    <tr>\n",
       "      <th>1</th>\n",
       "      <td>ntnu_202208311435_runde_remoy_hsi_40</td>\n",
       "      <td>runde_remoy_202208311435_hsi_40m</td>\n",
       "    </tr>\n",
       "    <tr>\n",
       "      <th>2</th>\n",
       "      <td>spectrofly_202208180945_kelpmap_vega-s_msi_120</td>\n",
       "      <td>kelpmap_vega-s_202208180945_ms_120m</td>\n",
       "    </tr>\n",
       "    <tr>\n",
       "      <th>3</th>\n",
       "      <td>niva_202309271147_ascomap_bringnes_msi_30</td>\n",
       "      <td>ascomap_bringnes_202309271147_ms_30m</td>\n",
       "    </tr>\n",
       "    <tr>\n",
       "      <th>4</th>\n",
       "      <td>niva_202310031129_io_husviksbaen_msi_80</td>\n",
       "      <td>io_husviksbaen_202310031129_ms_80m</td>\n",
       "    </tr>\n",
       "    <tr>\n",
       "      <th>5</th>\n",
       "      <td>niva_202307140902_larvik_olberg-all_msi_100</td>\n",
       "      <td>larvik_olberg-all_202307140902_ms_100m</td>\n",
       "    </tr>\n",
       "  </tbody>\n",
       "</table>\n",
       "</div>"
      ],
      "text/plain": [
       "                                      folder_name  \\\n",
       "0        niva_202208190944_kelpmap_vega-n_rgb_120   \n",
       "1            ntnu_202208311435_runde_remoy_hsi_40   \n",
       "2  spectrofly_202208180945_kelpmap_vega-s_msi_120   \n",
       "3       niva_202309271147_ascomap_bringnes_msi_30   \n",
       "4         niva_202310031129_io_husviksbaen_msi_80   \n",
       "5     niva_202307140902_larvik_olberg-all_msi_100   \n",
       "\n",
       "                               layer_name  \n",
       "0    kelpmap_vega-n_202208190944_rgb_120m  \n",
       "1        runde_remoy_202208311435_hsi_40m  \n",
       "2     kelpmap_vega-s_202208180945_ms_120m  \n",
       "3    ascomap_bringnes_202309271147_ms_30m  \n",
       "4      io_husviksbaen_202310031129_ms_80m  \n",
       "5  larvik_olberg-all_202307140902_ms_100m  "
      ]
     },
     "execution_count": 108,
     "metadata": {},
     "output_type": "execute_result"
    }
   ],
   "source": [
    "pd.DataFrame(mission_dict)"
   ]
  }
 ],
 "metadata": {
  "kernelspec": {
   "display_name": "Python 3 (ipykernel)",
   "language": "python",
   "name": "python3"
  },
  "language_info": {
   "codemirror_mode": {
    "name": "ipython",
    "version": 3
   },
   "file_extension": ".py",
   "mimetype": "text/x-python",
   "name": "python",
   "nbconvert_exporter": "python",
   "pygments_lexer": "ipython3",
   "version": "3.11.8"
  }
 },
 "nbformat": 4,
 "nbformat_minor": 5
}
