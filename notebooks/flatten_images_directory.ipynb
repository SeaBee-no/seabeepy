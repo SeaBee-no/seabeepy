{
 "cells": [
  {
   "cell_type": "code",
   "execution_count": null,
   "id": "2ddec0d2-196b-46ff-a772-aea32673c1d9",
   "metadata": {},
   "outputs": [],
   "source": [
    "import os\n",
    "import shutil\n",
    "\n",
    "from config import SETTINGS\n",
    "\n",
    "import seabeepy as sb"
   ]
  },
  {
   "cell_type": "markdown",
   "id": "0b9094e0-e8db-4ee8-9e76-3c63a83c3739",
   "metadata": {},
   "source": [
    "# Flatten images folders\n",
    "\n",
    "Some of the `images` folders on `niva-tidy` contain subfolders, which causes problems with the automated workflow. Medyan has said it should be OK to \"flatten\" everything into a single folder - see e-mail received 11.04.2024 at 12.19."
   ]
  },
  {
   "cell_type": "code",
   "execution_count": null,
   "id": "5d8f632b-99a1-42cd-aa2d-675f98d8db84",
   "metadata": {},
   "outputs": [],
   "source": [
    "# Login to MinIO\n",
    "minio_client = sb.storage.minio_login(\n",
    "    user=SETTINGS.MINIO_ACCESS_ID, password=SETTINGS.MINIO_SECRET_KEY\n",
    ")"
   ]
  },
  {
   "cell_type": "code",
   "execution_count": null,
   "id": "3ae62395-e840-4964-ac72-146a2b4ee7ef",
   "metadata": {},
   "outputs": [],
   "source": [
    "def find_files(base_dir):\n",
    "    for dirpath, dirnames, filenames in os.walk(base_dir):\n",
    "        if \"config.seabee.yaml\" in filenames:\n",
    "            yield dirpath\n",
    "\n",
    "\n",
    "def resolve_conflicts_and_move(src, dst, dry_run=True):\n",
    "    if os.path.isfile(dst):\n",
    "        base, extension = os.path.splitext(dst)\n",
    "        i = 1\n",
    "        while os.path.isfile(dst):\n",
    "            dst = f\"{base}_{i}{extension}\"\n",
    "            i += 1\n",
    "    if dry_run:\n",
    "        print(f\"Would move {src} to {dst}\")\n",
    "    else:\n",
    "        # shutil.move(src, dst)\n",
    "        sb.storage.copy_file(src, dst, minio_client, overwrite=False)\n",
    "        sb.storage.delete_file(src, minio_client)\n",
    "\n",
    "\n",
    "def flatten_images_dir(dirpath, dry_run=True):\n",
    "    images_dir = os.path.join(dirpath, \"images\")\n",
    "    if os.path.isdir(images_dir):\n",
    "        # First, move all files.\n",
    "        for root, dirs, files in os.walk(images_dir):\n",
    "            for file in files:\n",
    "                src = os.path.join(root, file)\n",
    "                dst = os.path.join(images_dir, file)\n",
    "                if src != dst:\n",
    "                    resolve_conflicts_and_move(src, dst, dry_run=dry_run)\n",
    "\n",
    "        # Then, delete empty directories.\n",
    "        for root, dirs, files in os.walk(images_dir, topdown=False):\n",
    "            for dir in dirs:\n",
    "                dir_path = os.path.join(root, dir)\n",
    "                if not os.listdir(dir_path):  # Check if directory is empty\n",
    "                    if dry_run:\n",
    "                        print(f\"Would delete directory {os.path.join(root, dir)}\")\n",
    "                    else:\n",
    "                        # shutil.rmtree(dir_path)\n",
    "                        sb.storage.delete_folder(dir_path, minio_client)"
   ]
  },
  {
   "cell_type": "code",
   "execution_count": null,
   "id": "dba5ff6e-c269-4dc7-80e6-d1a9871c717f",
   "metadata": {},
   "outputs": [],
   "source": [
    "base_dir = r\"/home/notebook/shared-seabee-ns9879k/niva-tidy/2022\"\n",
    "dry_run = True\n",
    "\n",
    "# Restructure files\n",
    "for dirpath in find_files(base_dir):\n",
    "    # print(dirpath)\n",
    "    flatten_images_dir(dirpath, dry_run=dry_run)"
   ]
  }
 ],
 "metadata": {
  "kernelspec": {
   "display_name": "Python 3 (ipykernel)",
   "language": "python",
   "name": "python3"
  },
  "language_info": {
   "codemirror_mode": {
    "name": "ipython",
    "version": 3
   },
   "file_extension": ".py",
   "mimetype": "text/x-python",
   "name": "python",
   "nbconvert_exporter": "python",
   "pygments_lexer": "ipython3",
   "version": "3.10.6"
  }
 },
 "nbformat": 4,
 "nbformat_minor": 5
}
