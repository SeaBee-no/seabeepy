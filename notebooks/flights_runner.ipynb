{
 "cells": [
  {
   "cell_type": "code",
   "execution_count": null,
   "id": "6ca11c5a-3391-40a3-84d0-b2aea53d6a24",
   "metadata": {},
   "outputs": [],
   "source": [
    "import datetime as dt\n",
    "import os\n",
    "from pathlib import Path\n",
    "\n",
    "from config import SETTINGS\n",
    "from pyodm import Node\n",
    "\n",
    "import seabeepy as sb"
   ]
  },
  {
   "cell_type": "code",
   "execution_count": null,
   "id": "e07c425b-f6ed-407f-a2ab-9bc9939dd581",
   "metadata": {},
   "outputs": [],
   "source": [
    "# Connect to NodeODM\n",
    "node = Node.from_url(\"http://nodeodm\")"
   ]
  },
  {
   "cell_type": "code",
   "execution_count": null,
   "id": "881fe5c9-fb27-4ec4-b0a5-710037a5170a",
   "metadata": {},
   "outputs": [],
   "source": [
    "# Login to MinIO\n",
    "minio_client = sb.storage.minio_login(\n",
    "    user=SETTINGS.MINIO_ACCESS_ID, password=SETTINGS.MINIO_SECRET_KEY\n",
    ")"
   ]
  },
  {
   "cell_type": "markdown",
   "id": "d451b1ab-ec31-4f1b-ac4e-fff527faca11",
   "metadata": {},
   "source": [
    "# Process SeaBee mission data\n",
    "\n",
    "This notebook performs automatic processing and publishing of data from SeaBee missions. It is designed to run as a \"cron job\" that will scan and process all flight folders within `base_dir`.\n",
    "\n",
    "**Each flight folder must be organised according to the specification [here](https://seabee-no.github.io/documentation/data-upload.html)**.\n",
    "\n",
    "## 1. User input"
   ]
  },
  {
   "cell_type": "code",
   "execution_count": null,
   "id": "03024505-e294-4a8f-908b-9ba08e5f2f09",
   "metadata": {},
   "outputs": [],
   "source": [
    "# Parent directory containing flight folders to process\n",
    "base_dir = r\"/home/notebook/shared-seabee-ns9879k/seabirds/2023/\"\n",
    "\n",
    "# Directory for temporary files\n",
    "temp_dir = r\"/home/notebook/cogs/\""
   ]
  },
  {
   "cell_type": "code",
   "execution_count": null,
   "id": "9c65088b-28e0-4629-8aa7-2d4c7b332639",
   "metadata": {},
   "outputs": [],
   "source": [
    "# Run info\n",
    "run_date = dt.datetime.today()\n",
    "print(f\"Processing started: {run_date}\")"
   ]
  },
  {
   "cell_type": "markdown",
   "id": "17f61df6-cc71-42c7-a4ab-037c5c72d688",
   "metadata": {},
   "source": [
    "## 2. Submit tasks to NodeODM"
   ]
  },
  {
   "cell_type": "code",
   "execution_count": null,
   "id": "68293585-f424-4743-adae-798bdb310e41",
   "metadata": {},
   "outputs": [],
   "source": [
    "# Get all potential mission folders for NodeODM\n",
    "# (i.e. folders containing a 'config.seabee.yaml' and an 'images' subdirectory, but NOT an 'orthophoto' directory)\n",
    "mission_list = [\n",
    "    f.parent\n",
    "    for f in Path(base_dir).rglob(\"config.seabee.yaml\")\n",
    "    if sb.ortho.check_subdir_exists(f.parent, \"images\")\n",
    "    and not sb.ortho.check_subdir_exists(f.parent, \"orthophoto\")\n",
    "]\n",
    "\n",
    "# Exclude missions already submitted to NodeODM\n",
    "nodeodm_tasks = sb.ortho.get_nodeodm_tasks(node)\n",
    "existing_task_paths = [t.info().name for t in nodeodm_tasks]\n",
    "mission_list = [f for f in mission_list if str(f) not in existing_task_paths]\n",
    "\n",
    "# Get just those with valid 'config.yaml' files\n",
    "invalid_config = [f.name for f in mission_list if not sb.ortho.check_config_valid(f)]\n",
    "invalid_counts = [f.name for f in mission_list if not sb.ortho.check_file_count(f)]\n",
    "mission_list = [\n",
    "    f\n",
    "    for f in mission_list\n",
    "    if sb.ortho.check_config_valid(f) and sb.ortho.check_file_count(f)\n",
    "]\n",
    "\n",
    "# Get just those where 'mosaic' is True in 'config.yaml'\n",
    "mission_list = [f for f in mission_list if sb.ortho.parse_config(f)[\"mosaic\"]]\n",
    "\n",
    "print(\"The following folders have invalid 'config.yaml' files:\")\n",
    "print(invalid_config)\n",
    "\n",
    "print(\"\\nThe following folders have invalid image counts:\")\n",
    "print(invalid_counts)\n",
    "\n",
    "print(\"\\nThe following folders are ready to be processed:\")\n",
    "print(mission_list)"
   ]
  },
  {
   "cell_type": "code",
   "execution_count": null,
   "id": "714233a5-9dad-4ba7-bd14-ad55cff080c2",
   "metadata": {},
   "outputs": [],
   "source": [
    "# Process missions\n",
    "for mission_fold in mission_list:\n",
    "    mission_name = mission_fold.name\n",
    "    print(f\"\\n################\\nProcessing: {mission_name}\")\n",
    "    image_fold = os.path.join(mission_fold, \"images\")\n",
    "    image_files = sb.ortho.list_images(image_fold, ext=\"JPG\", verbose=False)\n",
    "\n",
    "    # Add GCPs, if available\n",
    "    user_gcp_path = os.path.join(mission_fold, \"gcp\", \"gcp_list-ODM.txt\")\n",
    "    req_gcp_path = os.path.join(mission_fold, \"gcp\", \"gcp_list.txt\")\n",
    "    if os.path.isfile(user_gcp_path):\n",
    "        print(\"Using GCPs.\")\n",
    "        sb.storage.copy_file(user_gcp_path, req_gcp_path, minio_client, overwrite=False)\n",
    "        image_files.append(req_gcp_path)\n",
    "\n",
    "    # Update default options based on 'config.yaml'\n",
    "    nodeodm_options = sb.ortho.get_nodeodm_options(mission_fold)\n",
    "\n",
    "    # Send task to NodeODM. Options are documented here: https://docs.opendronemap.org/arguments/\n",
    "    # Use the mission folder as the name for each task, so lookup is easier for publishing\n",
    "    task = node.create_task(image_files, nodeodm_options, name=str(mission_fold))\n",
    "\n",
    "    # The renamed GCP file is not needed after it has been copied to NodeODM\n",
    "    if os.path.isfile(req_gcp_path):\n",
    "        sb.storage.delete_file(req_gcp_path, minio_client)"
   ]
  },
  {
   "cell_type": "markdown",
   "id": "d2cffdc8-2a79-4898-ad87-07b124085b78",
   "metadata": {},
   "source": [
    "## 3. Transfer NodeODM results back to flight folders on MinIO"
   ]
  },
  {
   "cell_type": "code",
   "execution_count": null,
   "id": "75df4fd3-b020-433f-95c0-e61d6ba11aaa",
   "metadata": {},
   "outputs": [],
   "source": [
    "# Get completed tasks on NodeODM that have not yet been transferred\n",
    "nodeodm_tasks = sb.ortho.get_nodeodm_tasks(node)\n",
    "finished_tasks = [\n",
    "    t for t in nodeodm_tasks if str(t.info().status) == \"TaskStatus.COMPLETED\"\n",
    "]\n",
    "mission_folders = [\n",
    "    str(f.parent)\n",
    "    for f in Path(base_dir).rglob(\"config.seabee.yaml\")\n",
    "    if sb.ortho.check_subdir_exists(f.parent, \"images\")\n",
    "    and not sb.ortho.check_subdir_exists(f.parent, \"orthophoto\")\n",
    "]\n",
    "upload_tasks = [t for t in finished_tasks if t.info().name in mission_folders]\n",
    "\n",
    "print(\"The following tasks will be copied from NodeODM to the flight folders on MinIO:\")\n",
    "print([t.info().name for t in upload_tasks])"
   ]
  },
  {
   "cell_type": "code",
   "execution_count": null,
   "id": "effdbe39-b32e-44b0-ad20-3b5d970e4fea",
   "metadata": {},
   "outputs": [],
   "source": [
    "# Copy to MinIO and remove from NodeODM\n",
    "for task in upload_tasks:\n",
    "    task_id = task.info().uuid\n",
    "    mission_fold = task.info().name\n",
    "    mission = os.path.basename(mission_fold)\n",
    "    print(\"Copying\", mission)\n",
    "    is_copied = sb.storage.copy_nodeodm_results(task_id, mission_fold, minio_client)\n",
    "    if is_copied:\n",
    "        print(f\"Removing task {task_id}\")\n",
    "        task.remove()\n",
    "    else:\n",
    "        print(f\"Results was not copied, keeping {task_id}\")"
   ]
  },
  {
   "cell_type": "markdown",
   "id": "60845bbc-d954-4264-a433-43f15faa05ab",
   "metadata": {},
   "source": [
    "## 4. Publish to GeoNode"
   ]
  },
  {
   "cell_type": "code",
   "execution_count": null,
   "id": "a289b931-8a72-477a-832a-9579f98b9007",
   "metadata": {},
   "outputs": [],
   "source": [
    "# Identify datasets for publishing. Folders must contain either an ODM or Pix4D\n",
    "# original orthophoto (not both) and must not contain a COG named f'{layer_name}.tif'.\n",
    "# Folders must also have 'config.seabee.yaml' files where 'publish' is True\n",
    "publish_list = [\n",
    "    f.parent\n",
    "    for f in Path(base_dir).rglob(\"config.seabee.yaml\")\n",
    "    if sb.ortho.is_publish_ready(f.parent)\n",
    "    and sb.ortho.parse_config(f.parent)[\"publish\"]\n",
    "]\n",
    "\n",
    "print(\"The following missions will be published to GeoNode:\")\n",
    "print(publish_list)"
   ]
  },
  {
   "cell_type": "code",
   "execution_count": null,
   "id": "51243bf2-1096-49aa-8bbf-a8a73d8de56b",
   "metadata": {},
   "outputs": [],
   "source": [
    "# Publish\n",
    "for mission_fold in publish_list:\n",
    "    mission_name = mission_fold.name\n",
    "    print(f\"\\n################\\nProcessing: {mission_name}\")\n",
    "    print(\"Preparing orthophoto for publishing.\")\n",
    "\n",
    "    # Is the Orthophoto from ODM or Pix4D?\n",
    "    odm_ortho_path = os.path.join(\n",
    "        mission_fold, \"orthophoto\", \"odm_orthophoto.original.tif\"\n",
    "    )\n",
    "    if os.path.isfile(odm_ortho_path):\n",
    "        ortho_path = odm_ortho_path\n",
    "    else:\n",
    "        ortho_path = os.path.join(\n",
    "            mission_fold, \"orthophoto\", \"pix4d_orthophoto.original.tif\"\n",
    "        )\n",
    "\n",
    "    # Standardise and save locally\n",
    "    layer_name = sb.ortho.get_layer_name(mission_fold)\n",
    "    temp_path = os.path.join(temp_dir, layer_name + \".tif\")\n",
    "    sb.geo.standardise_orthophoto(\n",
    "        ortho_path,\n",
    "        temp_path,\n",
    "        red_band=1,\n",
    "        green_band=2,\n",
    "        blue_band=3,\n",
    "        nodata=255,\n",
    "    )\n",
    "\n",
    "    # Copy to MinIO and delete local version\n",
    "    stan_path = os.path.join(mission_fold, \"orthophoto\", layer_name + \".tif\")\n",
    "    sb.storage.copy_file(temp_path, stan_path, minio_client, overwrite=False)\n",
    "    os.remove(temp_path)\n",
    "\n",
    "    print(\"Uploading to GeoServer.\")\n",
    "\n",
    "    sb.geo.upload_raster_to_geoserver(\n",
    "        stan_path,\n",
    "        SETTINGS.GEOSERVER_USER,\n",
    "        SETTINGS.GEOSERVER_PASSWORD,\n",
    "        workspace=\"geonode\",\n",
    "    )\n",
    "\n",
    "    print(\"Publishing to GeoNode.\")\n",
    "\n",
    "    sb.geo.publish_to_geonode(\n",
    "        layer_name,\n",
    "        SETTINGS.GEONODE_USER,\n",
    "        SETTINGS.GEONODE_PASSWORD,\n",
    "        workspace=\"geonode\",\n",
    "    )\n",
    "\n",
    "    print(\"Updating metadata.\")\n",
    "    date = sb.ortho.parse_mission_data(mission_fold, parse_date=True)[2]\n",
    "    abstract = sb.geo.get_html_abstract(str(mission_fold))\n",
    "    metadata = {\n",
    "        \"abstract\": abstract,\n",
    "        \"date\": date.isoformat(),\n",
    "        \"date_type\": \"creation\",\n",
    "        \"attribution\": \"SeaBee\",\n",
    "    }\n",
    "    sb.geo.update_geonode_metadata(\n",
    "        layer_name,\n",
    "        SETTINGS.GEONODE_USER,\n",
    "        SETTINGS.GEONODE_PASSWORD,\n",
    "        metadata,\n",
    "    )"
   ]
  },
  {
   "cell_type": "markdown",
   "id": "f5c75555-f9e1-45a9-9cea-83349134ef2b",
   "metadata": {},
   "source": [
    "## 5. Failed tasks"
   ]
  },
  {
   "cell_type": "code",
   "execution_count": null,
   "id": "f99802a1-66bf-4ea7-9738-010659b65164",
   "metadata": {},
   "outputs": [],
   "source": [
    "print(\"The following missions have failed to process on NodeODM:\")\n",
    "nodeodm_tasks = sb.ortho.get_nodeodm_tasks(node)\n",
    "for task in nodeodm_tasks:\n",
    "    if str(task.info().status) == \"TaskStatus.FAILED\":\n",
    "        print(task.info().name)"
   ]
  }
 ],
 "metadata": {
  "kernelspec": {
   "display_name": "Python 3 (ipykernel)",
   "language": "python",
   "name": "python3"
  },
  "language_info": {
   "codemirror_mode": {
    "name": "ipython",
    "version": 3
   },
   "file_extension": ".py",
   "mimetype": "text/x-python",
   "name": "python",
   "nbconvert_exporter": "python",
   "pygments_lexer": "ipython3",
   "version": "3.10.6"
  }
 },
 "nbformat": 4,
 "nbformat_minor": 5
}
