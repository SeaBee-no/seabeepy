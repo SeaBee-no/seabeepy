{
 "cells": [
  {
   "cell_type": "code",
   "execution_count": 1,
   "metadata": {},
   "outputs": [],
   "source": [
    "import glob\n",
    "import os\n",
    "import subprocess\n",
    "\n",
    "import requests\n",
    "from config import SETTINGS\n",
    "from geo.Geoserver import Geoserver\n",
    "from minio import Minio\n",
    "from minio.error import InvalidResponseError\n",
    "from tqdm.notebook import tqdm"
   ]
  },
  {
   "cell_type": "markdown",
   "metadata": {},
   "source": [
    "# Loading GeoTiffs into GeoNode\n",
    "\n",
    "This notebook illustrates how to load GeoTiffs into GeoServer/GeoNode using GDAL for data processing and the [GeoNode API](https://docs.geonode.org/en/master/devel/index.html). [Geoserver-Rest](https://geoserver-rest.readthedocs.io/en/latest/advanced_uses.html) may also be useful.\n",
    "\n",
    "## 1. Files to process\n",
    "\n",
    "The raw mosaics are not well optimised for display online. The first steps are therefore to convert them to Cloud Optimised Geotiffs (COGs), using either lossless or lossy compressions and internal tiling."
   ]
  },
  {
   "cell_type": "code",
   "execution_count": 2,
   "metadata": {},
   "outputs": [
    {
     "name": "stdout",
     "output_type": "stream",
     "text": [
      "NOTE: JPEG compression will save only the first three bands.\n"
     ]
    }
   ],
   "source": [
    "# Folder containing image mosaics\n",
    "data_fold = r\"/home/notebook/shared-seabee-ns9879k/all-mosaics\"\n",
    "\n",
    "# Output folder for Cloud Optimised Geotiffs (COGs)\n",
    "cog_fold = r\"/home/notebook/cogs/\"\n",
    "\n",
    "# Set compression type for COGs. If compression = 'LZW', lossless compression\n",
    "# will be used. If compression = 'JPEG', lossy compression with QUALITY=50\n",
    "# will be used (this creates much smaller files, but also loses information).\n",
    "compression = \"JPEG\"\n",
    "\n",
    "# Output bit-depth\n",
    "# NOTE: The JPEG driver only supports 8-bit images, so if compression = 'JPEG'\n",
    "# the COGs will be converted to 8-bit regardless. If compression = 'LZW', you\n",
    "# you can choose to create smaller files by converting to 8-bit, but some\n",
    "# information is lost\n",
    "conv_8bit = True\n",
    "\n",
    "# JPEG quality. Only used if compression = 'JPEG'. Must be an integer between\n",
    "# 1 and 99, where higher means better quality images\n",
    "jpeg_qual = 75\n",
    "\n",
    "# Number of threads to use for raster processing\n",
    "n_threads = 4\n",
    "\n",
    "# Validate user input\n",
    "assert compression in (\"LZW\", \"JPEG\")\n",
    "if compression == \"JPEG\":\n",
    "    print(\"NOTE: JPEG compression will save only the first three bands.\")\n",
    "    if conv_8bit is False:\n",
    "        print(\n",
    "            \"JPEG compression requires conversion to 8-bit. Ignoring 'conv_8bit = False'.\"\n",
    "        )\n",
    "    assert jpeg_qual in range(\n",
    "        1, 100\n",
    "    ), \"'jpeg_qual' must be an integer between 1 and 99.\"\n",
    "\n",
    "if (compression == \"LZW\") and (jpeg_qual is not None):\n",
    "    print(\"Using LZW compression. Ignoring 'jpeg_qual = 75'.\")"
   ]
  },
  {
   "cell_type": "code",
   "execution_count": 3,
   "metadata": {},
   "outputs": [
    {
     "name": "stdout",
     "output_type": "stream",
     "text": [
      "Raw mosaic sizes:\n",
      "20220831_1309_RGB_120m_transparent_mosaic_group1.tif             : 3050.42 MB\n",
      "Remoy_20220831_0822_MS_comp_v2.tif                               : 2769.07 MB\n",
      "Remoy_20220831_1404_MS_comp.tif                                  : 2588.36 MB\n",
      "Remoy_20220831_1043_MS_comp_v2.tif                               : 2589.40 MB\n",
      "rgb_total_composite.tif                                          : 111.08 MB\n",
      "20220831_0730_RGB_120m_transparent_mosaic_group1.tif             : 3179.99 MB\n"
     ]
    }
   ],
   "source": [
    "# Get list of files to process\n",
    "search_path = os.path.join(data_fold, \"*.tif\")\n",
    "flist = glob.glob(search_path)\n",
    "\n",
    "# Print file sizes\n",
    "print(\"Raw mosaic sizes:\")\n",
    "for fpath in flist:\n",
    "    fname = os.path.basename(fpath)\n",
    "    fsize_mb = os.path.getsize(fpath) / 1e6\n",
    "    print(f\"{fname:<65}: {fsize_mb:.2f} MB\")"
   ]
  },
  {
   "cell_type": "markdown",
   "metadata": {},
   "source": [
    "## 2. Optimising files for display online\n",
    "\n",
    "The blog post [here](http://blog.cleverelephant.ca/2015/02/geotiff-compression-for-dummies.html) from Paul Ramsey provides a useful starting point for optimising GeoTiffs. Note that, for very large files, the [GeoServer documentation](https://docs.geoserver.org/stable/en/user/tutorials/imagepyramid/imagepyramid.html) recommends building **external image pyramids** rather than **internal overview layers**. Some example bash scripts for building external pyramids are [here](https://www.ianturton.com/tutorials/bluemarble.html). However, I think the GeoServer documentation is out-of-date and loading COGs with internal overviews is easier to automate via the Python API, so we'll test this first.\n",
    "\n",
    "**Note:** Using `JPEG` compression will achieve the maximum reduction in file size. This is OK for visualisation online (e.g. for displaying datasets in GeoNode), but the resulting files **must not be used for machine learning**. JPEG compression is lossy and the JPEG format: (i) only supports 8-bit data (i.e. other bit depths must be converted), and (ii) only supports three bands (i.e. it's no good for multi- or hyper-spectral data). JPEG compression can also produce \"artifacts\" in NoData areas of the original image (typically at the edges), which can be distracting and skew the colour scheme. This is due to the JPEG algorithm compressing NoData (often stored as `[0, 0, 0]` in 8-bit images) as e.g. `[2, 1, 4]`, which will display as black (see e.g. [here](https://gis.stackexchange.com/a/114453/2131)).\n",
    "\n",
    "**For the ML we should always work with the original resolution files, saved with `LZW` compression**, which is lossless. Nevertheless, using `JPEG` compression for visualisation substantially reduces file sizes, giving a smoother user experience."
   ]
  },
  {
   "cell_type": "code",
   "execution_count": 4,
   "metadata": {},
   "outputs": [
    {
     "name": "stdout",
     "output_type": "stream",
     "text": [
      "Input file size is 54264, 51066\n",
      "0...10...20...30...40...50...60...70...80...90...100 - done.\n",
      "Input file size is 15435, 14678\n",
      "0"
     ]
    },
    {
     "name": "stderr",
     "output_type": "stream",
     "text": [
      "Warning 1: for band 1, nodata value has been clamped to 255, the original value being out of range.\n",
      "Warning 1: for band 2, nodata value has been clamped to 255, the original value being out of range.\n",
      "Warning 1: for band 3, nodata value has been clamped to 255, the original value being out of range.\n"
     ]
    },
    {
     "name": "stdout",
     "output_type": "stream",
     "text": [
      "...10...20...30...40...50...60...70...80...90...100 - done.\n",
      "Input file size is 16016, 14619\n",
      "0"
     ]
    },
    {
     "name": "stderr",
     "output_type": "stream",
     "text": [
      "Warning 1: for band 1, nodata value has been clamped to 255, the original value being out of range.\n",
      "Warning 1: for band 2, nodata value has been clamped to 255, the original value being out of range.\n",
      "Warning 1: for band 3, nodata value has been clamped to 255, the original value being out of range.\n"
     ]
    },
    {
     "name": "stdout",
     "output_type": "stream",
     "text": [
      "...10...20...30...40...50...60...70...80...90...100 - done.\n",
      "Input file size is 15520, 14781\n",
      "0"
     ]
    },
    {
     "name": "stderr",
     "output_type": "stream",
     "text": [
      "Warning 1: for band 1, nodata value has been clamped to 255, the original value being out of range.\n",
      "Warning 1: for band 2, nodata value has been clamped to 255, the original value being out of range.\n",
      "Warning 1: for band 3, nodata value has been clamped to 255, the original value being out of range.\n"
     ]
    },
    {
     "name": "stdout",
     "output_type": "stream",
     "text": [
      "...10...20...30...40...50...60...70...80...90...100 - done.\n",
      "Input file size is 6953, 5319\n",
      "0...10...20...30...40...50...60...70...80...90...100 - done.\n",
      "Input file size is 54530, 50686\n",
      "0...10...20...30...40...50...60...70...80...90...100 - done.\n",
      "CPU times: user 346 ms, sys: 116 ms, total: 462 ms\n",
      "Wall time: 10min 20s\n"
     ]
    }
   ],
   "source": [
    "%%time\n",
    "\n",
    "cog_list = []\n",
    "for fpath in flist:\n",
    "    fname = os.path.basename(fpath)\n",
    "    cog_path = os.path.join(cog_fold, os.path.splitext(fname)[0] + \"_cog.tif\")\n",
    "    cog_list.append(cog_path)\n",
    "    if (compression == \"LZW\") and (conv_8bit):\n",
    "        # Use LZW\n",
    "        cmd = [\n",
    "            \"gdal_translate\",\n",
    "            \"-of\",\n",
    "            \"COG\",\n",
    "            \"-ot\",\n",
    "            \"Byte\",\n",
    "            \"-co\",\n",
    "            \"COMPRESS=LZW\",\n",
    "            \"-co\",\n",
    "            f\"NUM_THREADS={n_threads}\",\n",
    "            \"-co\",\n",
    "            \"OVERVIEWS=IGNORE_EXISTING\",\n",
    "            \"-scale\",\n",
    "            fpath,\n",
    "            cog_path,\n",
    "        ]\n",
    "    elif (compression == \"LZW\") and (conv_8bit is False):\n",
    "        cmd = [\n",
    "            \"gdal_translate\",\n",
    "            \"-of\",\n",
    "            \"COG\",\n",
    "            \"-co\",\n",
    "            \"COMPRESS=LZW\",\n",
    "            \"-co\",\n",
    "            f\"NUM_THREADS={n_threads}\",\n",
    "            \"-co\",\n",
    "            \"OVERVIEWS=IGNORE_EXISTING\",\n",
    "            fpath,\n",
    "            cog_path,\n",
    "        ]\n",
    "    else:\n",
    "        # Convert to 8-bit and compress bands 1 to 3 as JPEG with specified quality\n",
    "        cmd = [\n",
    "            \"gdal_translate\",\n",
    "            \"-b\",\n",
    "            \"1\",\n",
    "            \"-b\",\n",
    "            \"2\",\n",
    "            \"-b\",\n",
    "            \"3\",\n",
    "            \"-of\",\n",
    "            \"COG\",\n",
    "            \"-ot\",\n",
    "            \"Byte\",\n",
    "            \"-co\",\n",
    "            \"COMPRESS=JPEG\",\n",
    "            \"-co\",\n",
    "            f\"QUALITY={jpeg_qual}\",\n",
    "            \"-co\",\n",
    "            f\"NUM_THREADS={n_threads}\",\n",
    "            \"-co\",\n",
    "            \"OVERVIEWS=IGNORE_EXISTING\",\n",
    "            \"-scale\",\n",
    "            fpath,\n",
    "            cog_path,\n",
    "        ]\n",
    "    subprocess.check_call(cmd)"
   ]
  },
  {
   "cell_type": "code",
   "execution_count": 5,
   "metadata": {},
   "outputs": [
    {
     "name": "stdout",
     "output_type": "stream",
     "text": [
      "COG mosaic sizes:\n",
      "20220831_1309_RGB_120m_transparent_mosaic_group1_cog.tif         : 340.10 MB\n",
      "Remoy_20220831_0822_MS_comp_v2_cog.tif                           : 9.88 MB\n",
      "Remoy_20220831_1404_MS_comp_cog.tif                              : 9.07 MB\n",
      "Remoy_20220831_1043_MS_comp_v2_cog.tif                           : 9.43 MB\n",
      "rgb_total_composite_cog.tif                                      : 2.97 MB\n",
      "20220831_0730_RGB_120m_transparent_mosaic_group1_cog.tif         : 352.47 MB\n"
     ]
    }
   ],
   "source": [
    "# Get processed file sizes (including all overview layers etc.)\n",
    "print(\"COG mosaic sizes:\")\n",
    "for cog_path in cog_list:\n",
    "    fname = os.path.basename(cog_path)\n",
    "    fsize_mb = os.path.getsize(cog_path) / 1e6\n",
    "    print(f\"{fname:<65}: {fsize_mb:.2f} MB\")"
   ]
  },
  {
   "cell_type": "markdown",
   "metadata": {},
   "source": [
    "The files sizes above using JPEG compression are *much* smaller than the originals (especially since these COGs include internally tiled overviews too).\n",
    "\n",
    "## 3. Upload COGs to GeoNode\n",
    "\n",
    "### 3.1. Using the GeoNode API\n",
    "\n",
    "The simplest way to upload files to GeoNode and have them become available immediately is to use the GeoNode API, as shown below. However, initial testing suggests this is quite slow and may be unreliable for large files. "
   ]
  },
  {
   "cell_type": "code",
   "execution_count": null,
   "metadata": {},
   "outputs": [],
   "source": [
    "# base_url = \"https://geonode.seabee.sigma2.no/api/v2/uploads/upload\"\n",
    "# headers = {\"Authorization\": f\"Bearer {SETTINGS.GEONODE_TOKEN}\"}\n",
    "# for fpath in tqdm(cog_list):\n",
    "#     fname = os.path.split(fpath)[1]\n",
    "#     files = [\n",
    "#         (\n",
    "#             \"base_file\",\n",
    "#             (\n",
    "#                 fname,\n",
    "#                 open(fpath, \"rb\"),\n",
    "#                 \"application/octet-stream\",\n",
    "#             ),\n",
    "#         ),\n",
    "#     ]\n",
    "\n",
    "#     response = requests.request(\"POST\", base_url, headers=headers, files=files)\n",
    "#     response.raise_for_status()"
   ]
  },
  {
   "cell_type": "markdown",
   "metadata": {},
   "source": [
    "### 3.2. Using `geoserver-rest`\n",
    "\n",
    "[geoserver-rest](https://geoserver-rest.readthedocs.io/en/latest/advanced_uses.html) offers direct access to workspaces on GeoServer and it's much nicer to use than the GeoNode API. It also seems faster. However, to get new datasets added to GeoServer to show up in GeoNode, it is necessary to run either `geonode updatelayers` or `python manage.py updatelayers` from the GeoNode shell (sometimes called the Django shell). I *think* this can only be done programatically from within the GeoNode container (i.e. it's not possible to call this from the Hub). However, it looks as though it can be configured via the GeoNode admin panel under\n",
    "\n",
    "    Home > Management Commands Over HTTP > Management command jobs\n",
    "\n",
    "This suggests we can either run it manually after new datasets are added, or perhaps set `updatelayers` to run on a schedule. If successful, this may be the best way of getting data into GeoNode."
   ]
  },
  {
   "cell_type": "code",
   "execution_count": null,
   "metadata": {},
   "outputs": [],
   "source": [
    "# Authernticate with GeoServer\n",
    "geo = Geoserver(\n",
    "    \"https://geonode.seabee.sigma2.no/geoserver\",\n",
    "    username=SETTINGS.GEOSERVER_USER,\n",
    "    password=SETTINGS.GEOSERVER_PASSWORD,\n",
    ")"
   ]
  },
  {
   "cell_type": "code",
   "execution_count": null,
   "metadata": {},
   "outputs": [],
   "source": [
    "# Upload COGs to GeoServer\n",
    "workspace = \"geonode\"\n",
    "\n",
    "search_path = os.path.join(cog_fold, \"*.tif\")\n",
    "flist = glob.glob(search_path)\n",
    "for fpath in flist:\n",
    "    fname = os.path.basename(fpath)\n",
    "    layer_name = os.path.splitext(fname)[0]\n",
    "\n",
    "    # Add to GeoServer. Note: Will overwrite layer if it exists\n",
    "    status = geo.create_coveragestore(\n",
    "        layer_name=layer_name, path=fpath, workspace=workspace\n",
    "    )\n",
    "    print(status)"
   ]
  },
  {
   "cell_type": "markdown",
   "metadata": {},
   "source": [
    "To get the new datasets to appear in GeoNode, login to the GeoNode administration panel and navigate to\n",
    "\n",
    "    Home > Management Commands Over HTTP > Management command jobs\n",
    "    \n",
    "Choose `Add management command job` and set the **Command** to `updatelayers`. Check the **Autostart** box and click **Save**. If you have added a lot of data, the update process may take a while. When it is finished, the status should be updated and the new images datasets be visible in GeoNode."
   ]
  },
  {
   "cell_type": "markdown",
   "metadata": {},
   "source": [
    "## 5. Save COGs on MinIO\n",
    "\n",
    "The final step is to transfer the COGs to MinIO for long-term storage."
   ]
  },
  {
   "cell_type": "code",
   "execution_count": null,
   "metadata": {},
   "outputs": [],
   "source": [
    "# Login to MinIO\n",
    "sigma2_client = Minio(\n",
    "    \"storage.seabee.sigma2.no\",\n",
    "    access_key=SETTINGS.ACCESS_ID,\n",
    "    secret_key=SETTINGS.SECRET_KEY,\n",
    ")"
   ]
  },
  {
   "cell_type": "code",
   "execution_count": null,
   "metadata": {},
   "outputs": [],
   "source": [
    "bucket = \"all-mosaics\"\n",
    "for fpath in tqdm(cog_list):\n",
    "    fname = os.path.split(fpath)[1]\n",
    "    try:\n",
    "        with open(fpath, \"rb\") as file_data:\n",
    "            file_stat = os.stat(fpath)\n",
    "            sigma2_client.put_object(\n",
    "                bucket, f\"cloud-optimised/{fname}\", file_data, file_stat.st_size\n",
    "            )\n",
    "    except InvalidResponseError as err:\n",
    "        print(err)\n",
    "    os.remove(fpath)"
   ]
  }
 ],
 "metadata": {
  "kernelspec": {
   "display_name": "Python 3 (ipykernel)",
   "language": "python",
   "name": "python3"
  },
  "language_info": {
   "codemirror_mode": {
    "name": "ipython",
    "version": 3
   },
   "file_extension": ".py",
   "mimetype": "text/x-python",
   "name": "python",
   "nbconvert_exporter": "python",
   "pygments_lexer": "ipython3",
   "version": "3.10.6"
  }
 },
 "nbformat": 4,
 "nbformat_minor": 4
}
