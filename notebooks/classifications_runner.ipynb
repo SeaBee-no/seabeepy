{
 "cells": [
  {
   "cell_type": "code",
   "execution_count": null,
   "id": "842f0d3e-e495-482d-85b3-e03e5b3cfe73",
   "metadata": {},
   "outputs": [],
   "source": [
    "import datetime as dt\n",
    "import os\n",
    "import shutil\n",
    "from pathlib import Path\n",
    "\n",
    "import geopandas as gpd\n",
    "import pandas as pd\n",
    "from config import SETTINGS\n",
    "from sqlalchemy import create_engine\n",
    "\n",
    "import seabeepy as sb"
   ]
  },
  {
   "cell_type": "code",
   "execution_count": null,
   "id": "918fc337-17b3-45cd-80d5-a39f2be9fbb1",
   "metadata": {},
   "outputs": [],
   "source": [
    "minio_client = sb.storage.minio_login(\n",
    "    user=SETTINGS.MINIO_ACCESS_ID, password=SETTINGS.MINIO_SECRET_KEY\n",
    ")"
   ]
  },
  {
   "cell_type": "markdown",
   "id": "04508974-d438-4541-b92f-e137bf81489c",
   "metadata": {},
   "source": [
    "# Classify SeaBee orthomosaics (production mode)\n",
    "\n",
    "This notebook uses NR's machine learning workflow to classify orthomosaics from SeaBee missions. It is designed to run as a \"cron job\" that will scan and process all flight folders within the specified `base_dirs`.\n",
    "\n",
    "Orthomosaics for each flight folder must be organised according to the specification [here](https://seabee-no.github.io/documentation/data-upload.html) and already published on the GeoNode.\n",
    "\n",
    "**This workflow focuses on applying existing (i.e. pre-trained) models to new data, not on training new models**. The available pre-trained models are stored in the `models` bucket on MinIO.\n",
    "\n",
    "For the time being, training of new models will be handled by in-house by NR.\n",
    "\n",
    "## 1. User input"
   ]
  },
  {
   "cell_type": "code",
   "execution_count": null,
   "id": "a7ff0f22-30d0-421d-af2f-29ee8742fdfc",
   "metadata": {},
   "outputs": [],
   "source": [
    "# Parent directories containing flight folders to process\n",
    "base_dirs = [r\"/home/notebook/shared-seabee-ns9879k/hub-test-bucket\"]\n",
    "\n",
    "# Directory for temporary files\n",
    "temp_dir = r\"/home/notebook/ml_temp/\""
   ]
  },
  {
   "cell_type": "code",
   "execution_count": null,
   "id": "07f56848-6ef8-487c-a062-beef1bda1255",
   "metadata": {},
   "outputs": [],
   "source": [
    "# Run info\n",
    "run_date = dt.datetime.today()\n",
    "print(f\"Processing started: {run_date}\")"
   ]
  },
  {
   "cell_type": "markdown",
   "id": "cdba6af7-8584-466b-ae80-40dfc8c01d38",
   "metadata": {},
   "source": [
    "## 2. Identify missions for processing"
   ]
  },
  {
   "cell_type": "code",
   "execution_count": null,
   "id": "e33c0e2d-63dd-453c-9044-eb74537e70b3",
   "metadata": {},
   "outputs": [],
   "source": [
    "# Get all potential folders for classification\n",
    "classify_list = [\n",
    "    f.parent\n",
    "    for base_dir in base_dirs\n",
    "    for f in Path(base_dir).rglob(\"config.seabee.yaml\")\n",
    "    if sb.ml.is_classification_ready(f.parent)\n",
    "    and sb.ortho.check_config_valid(f.parent)\n",
    "    and not sb.ml.check_results_exist(f.parent)\n",
    "]\n",
    "\n",
    "# Get just those where 'classify' is True in 'config.seabee.yaml'\n",
    "classify_list = [f for f in classify_list if sb.ortho.parse_config(f)[\"classify\"]]\n",
    "\n",
    "print(\"\\nThe following folders are ready to be processed:\")\n",
    "print(classify_list)"
   ]
  },
  {
   "cell_type": "markdown",
   "id": "207b0a7a-424a-4169-9075-ec15bf8c60c7",
   "metadata": {},
   "source": [
    "## 3. Run classifications"
   ]
  },
  {
   "cell_type": "code",
   "execution_count": null,
   "id": "a286377f-a5be-4f05-97b8-e5f803804b45",
   "metadata": {},
   "outputs": [],
   "source": [
    "%%time\n",
    "\n",
    "for mission_dir in classify_list:\n",
    "    mission_name = sb.ortho.get_layer_name(mission_dir)\n",
    "    print(f\"\\n################\\nProcessing: {mission_name}\")\n",
    "    orthophoto_path = os.path.join(mission_dir, \"orthophoto\", f\"{mission_name}.tif\")\n",
    "    mission_temp_dir = os.path.join(temp_dir, f\"{mission_name}-workdir\")\n",
    "\n",
    "    # Get user settings for ML\n",
    "    ml_options = sb.ml.get_ml_options(mission_dir)\n",
    "\n",
    "    # Get 'annotations' info to pass to NR application\n",
    "    # TODO: Not sure exactly what this does or what else can be included. Ask Jarle.\n",
    "    annotations = {\n",
    "        \"crs\": sb.geo.get_geotiff_info(orthophoto_path)[\"crs\"],\n",
    "        \"column_main_class\": \"species\",\n",
    "        \"columns_subtasks\": [\"activity\", \"sex\", \"age\"],\n",
    "    }\n",
    "\n",
    "    sb.ml.write_config_production(\n",
    "        orthophoto_path,\n",
    "        mission_temp_dir,\n",
    "        ml_options[\"model\"],\n",
    "        ml_options[\"task\"],\n",
    "        annotations,\n",
    "    )\n",
    "    sb.ml.run_classification(\n",
    "        mission_name, os.path.join(mission_temp_dir, \"config\"), ml_options[\"task\"]\n",
    "    )\n",
    "    sb.storage.copy_folder(\n",
    "        os.path.join(mission_temp_dir, \"results\"),\n",
    "        str(mission_dir),\n",
    "        minio_client,\n",
    "        overwrite=True,\n",
    "    )\n",
    "    shutil.rmtree(mission_temp_dir)"
   ]
  }
 ],
 "metadata": {
  "kernelspec": {
   "display_name": "Python 3 (ipykernel)",
   "language": "python",
   "name": "python3"
  },
  "language_info": {
   "codemirror_mode": {
    "name": "ipython",
    "version": 3
   },
   "file_extension": ".py",
   "mimetype": "text/x-python",
   "name": "python",
   "nbconvert_exporter": "python",
   "pygments_lexer": "ipython3",
   "version": "3.10.6"
  }
 },
 "nbformat": 4,
 "nbformat_minor": 5
}
