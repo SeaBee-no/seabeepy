{
 "cells": [
  {
   "cell_type": "code",
   "execution_count": null,
   "metadata": {},
   "outputs": [],
   "source": [
    "import yaml\n",
    "import subprocess\n",
    "import os\n",
    "from pathlib import Path\n",
    "from sqlalchemy import create_engine \n",
    "import geopandas as gpd\n",
    "import pandas as pd\n",
    "from datetime import datetime\n",
    "\n",
    "from seabeepy.config import SETTINGS\n",
    "import seabeepy as sb"
   ]
  },
  {
   "cell_type": "code",
   "execution_count": null,
   "metadata": {},
   "outputs": [],
   "source": [
    "base_dirs = [\n",
    "    r\"/home/notebook/shared-seabee-ns9879k/hub-test-bucket\"\n",
    "]"
   ]
  },
  {
   "cell_type": "code",
   "execution_count": null,
   "metadata": {},
   "outputs": [],
   "source": [
    "minio_client = sb.storage.minio_login(\n",
    "    user=SETTINGS.MINIO_ACCESS_ID, password=SETTINGS.MINIO_SECRET_KEY\n",
    ")"
   ]
  },
  {
   "cell_type": "markdown",
   "metadata": {},
   "source": [
    "## Create configurations"
   ]
  },
  {
   "cell_type": "code",
   "execution_count": null,
   "metadata": {},
   "outputs": [],
   "source": [
    "%mkdir -p /home/notebook/tmp_detection/config"
   ]
  },
  {
   "cell_type": "code",
   "execution_count": null,
   "metadata": {},
   "outputs": [],
   "source": [
    "root_path = \"/home/notebook/shared-seabee-ns9879k\"\n",
    "tmp_path = \"/home/notebook/tmp_detection\"\n",
    "TASK = \"detection\"\n",
    "MODEL = \"2022_nina_birds_20230817\""
   ]
  },
  {
   "cell_type": "markdown",
   "metadata": {},
   "source": [
    "`hub.yaml` configures the program and paths for the hub. We don't have a gpu on the hub and data is mounted so we can skip minio."
   ]
  },
  {
   "cell_type": "code",
   "execution_count": null,
   "metadata": {},
   "outputs": [],
   "source": [
    "DEVICE = os.environ.get(\"DEVICE\", \"cpu\")\n"
   ]
  },
  {
   "cell_type": "code",
   "execution_count": null,
   "metadata": {},
   "outputs": [],
   "source": [
    "def dump_config(orthophoto_file: str, root_path: str, tmpdir: str):\n",
    "    \"\"\"`image_detection.yaml` configures the nr program for training or detection on various images\"\"\"\n",
    "\n",
    "    with open(\"./config/hub.yaml\", \"w\") as f:\n",
    "        yaml.dump(\n",
    "            {\n",
    "                \"DPATH_WORK\": f\"{tmpdir}/work\",\n",
    "                \"DPATH_MODELS\": f\"{root_path}/models\",\n",
    "                \"DPATH_RESULTS\": f\"{tmpdir}/results\",\n",
    "                \"DPATH_PRETRAINED\": f\"{tmpdir}/pretrained\",\n",
    "                \"MINIO\": {\"USE\": False},\n",
    "                \"TEST\": {\"DEVICE\": DEVICE},\n",
    "            },\n",
    "            f,\n",
    "        )\n",
    "\n",
    "    with open(\"./config/image_detection.yaml\", \"w\") as f:\n",
    "        yaml.dump(\n",
    "            {\n",
    "                \"mode\": \"production\",\n",
    "                \"task\": TASK,\n",
    "                \"score_threshold\": 0.1,\n",
    "                \"model\": {\"id\": f\"{TASK}/{MODEL}\"},\n",
    "                \"dataset\": {\n",
    "                    \"root\": root_path,\n",
    "                    \"annotations\": {\n",
    "                        \"crs\": \"epsg:32632\",\n",
    "                        \"column_main_class\": \"species\",\n",
    "                        \"columns_subtasks\": [\"activity\", \"sex\", \"age\"],\n",
    "                    },\n",
    "                    \"test_filenames\": [orthophoto_file],\n",
    "                },\n",
    "            },\n",
    "            f,\n",
    "        )\n",
    "\n",
    "\n",
    "def pretty_run(cmd_list: list[str]):\n",
    "    run = subprocess.run(cmd_list, capture_output=True, text=True)\n",
    "    print(run.stderr)\n",
    "    print(run.stdout)\n",
    "    run.check_returncode()\n",
    "\n",
    "\n",
    "def run_detection(mission_name: str):\n",
    "    \"\"\"Run the detection process elements\n",
    "\n",
    "    A detection run consist of:\n",
    "        1. preprocess the images\n",
    "        2. the main detection run\n",
    "        3. post process generating the gpkg data product\n",
    "\n",
    "    \"\"\"\n",
    "\n",
    "    print(\"1. preproc\")\n",
    "    pretty_run(\n",
    "        [\n",
    "            \"nrseabee_det_preproc\",\n",
    "            \"-c\",\n",
    "            \"config/hub.yaml\",\n",
    "            \"-o\",\n",
    "            f\"config/{mission_name}_det_preproc.yaml\",\n",
    "            \"config/image_detection.yaml\",\n",
    "        ]\n",
    "    )\n",
    "\n",
    "    print(\"2. process\")\n",
    "    pretty_run(\n",
    "        [\n",
    "            \"nrseabee_det_test\",\n",
    "            \"-c\",\n",
    "            \"config/hub.yaml\",\n",
    "            \"-o\",\n",
    "            f\"config/{mission_name}_det_test.yaml\",\n",
    "            f\"config/{mission_name}_det_preproc.yaml\",\n",
    "        ]\n",
    "    )\n",
    "\n",
    "    print(\"3. post-process\")\n",
    "    pretty_run(\n",
    "        [\n",
    "            \"nrseabee_det_postproc\",\n",
    "            \"-c\",\n",
    "            \"config/hub.yaml\",\n",
    "            \"-o\",\n",
    "            f\"config/{mission_name}_postproc.yaml\",\n",
    "            f\"config/{mission_name}_det_test.yaml\",\n",
    "        ]\n",
    "    )\n",
    "    print(\"fin\")"
   ]
  },
  {
   "cell_type": "code",
   "execution_count": null,
   "metadata": {},
   "outputs": [],
   "source": [
    "detect_list = [\n",
    "    f.parent\n",
    "    for base_dir in base_dirs\n",
    "    for f in Path(base_dir).rglob(\"config.seabee.yaml\")\n",
    "    if sb.ml.is_classification_ready(f.parent)\n",
    "    and not sb.ortho.check_subdir_exists(os.path.join(f.parent, \"results\", TASK), MODEL)\n",
    "]"
   ]
  },
  {
   "cell_type": "markdown",
   "metadata": {},
   "source": [
    "## 1. Run the detection\n",
    "\n",
    "Run the detection and upload results folder from tmp location"
   ]
  },
  {
   "cell_type": "code",
   "execution_count": null,
   "metadata": {},
   "outputs": [],
   "source": [
    "for mission_fold in detect_list:\n",
    "    mission_name = mission_fold.name\n",
    "    orthophoto_path = os.path.join(\n",
    "        mission_fold, \"orthophoto\", f\"{mission_name}.tif\"\n",
    "    )\n",
    "    tmp_fold = os.path.join(tmp_path, f\"{mission_name}-workdir\")\n",
    "    dump_config(orthophoto_path, root_path, tmp_fold)\n",
    "    run_detection(mission_name)\n",
    "    sb.storage.copy_folder(os.path.join(tmp_fold, \"results\"), str(mission_fold), minio_client, overwrite=True)"
   ]
  },
  {
   "cell_type": "markdown",
   "metadata": {},
   "source": [
    "## 2. Look up categories and publish geopackage\n",
    "\n",
    "Check folders for new results to publish and create a geopackage with categories from the seabee db."
   ]
  },
  {
   "cell_type": "code",
   "execution_count": null,
   "metadata": {},
   "outputs": [],
   "source": [
    "publish_list = [\n",
    "    f.parent\n",
    "    for base_dir in base_dirs\n",
    "    for f in Path(base_dir).rglob(\"config.seabee.yaml\")\n",
    "    if sb.ortho.check_subdir_exists(os.path.join(f.parent, \"results\", TASK), MODEL)\n",
    "    and sb.ortho.parse_config(f.parent)[\"publish\"]\n",
    "    and not sb.ml.is_classification_published(f.parent, TASK, MODEL)\n",
    "]"
   ]
  },
  {
   "cell_type": "code",
   "execution_count": null,
   "metadata": {},
   "outputs": [],
   "source": [
    "engine = create_engine(f\"postgresql:///seabee?host=geonode-postgresql&port=5432&user={SETTINGS.DB_USER}&password={SETTINGS.DB_PASSWORD}\")\n",
    "table_names = [\"species\", \"activity\", \"sex\", \"age\"]\n",
    "table_lookup = {}\n",
    "for table in table_names:\n",
    "    table_lookup[table] =pd.read_sql_query(f\"SELECT * FROM {table}\", engine).add_prefix(f\"{table}_\")\n",
    "engine.dispose()"
   ]
  },
  {
   "cell_type": "code",
   "execution_count": null,
   "metadata": {},
   "outputs": [],
   "source": [
    "for mission_fold in publish_list:\n",
    "    mission_name = mission_fold.name\n",
    "    print(f\"\\n################\\nPublishing: {mission_name}\")\n",
    "    print(\"Preparing geopackage for publishing.\")\n",
    "\n",
    "    layer_name = sb.ortho.get_layer_name(mission_fold, MODEL)\n",
    "    model_dir = mission_fold / \"results\" / TASK / MODEL\n",
    "    last_run_date = sorted([p for p in model_dir.iterdir() if p.is_dir()], reverse=True)[0].name\n",
    "\n",
    "    gdf = gpd.read_file(os.path.join(mission_fold, \"results\", TASK, MODEL, last_run_date, \"out.gpkg\"))\n",
    "    for table in table_names:\n",
    "        gdf[table] = gdf[table].astype(int)\n",
    "        gdf = gdf.merge(table_lookup[table], left_on=table, right_on=f'{table}_id', how=\"left\").drop(f\"{table}_id\", axis=1)\n",
    "    gdf.to_file(f\"{layer_name}.gpkg\", layer=layer_name)\n",
    "    \n",
    "    stan_path = os.path.join(mission_fold, \"results\", TASK, MODEL, f\"{layer_name}.gpkg\")\n",
    "    metadata = {\n",
    "        \"abstract\": sb.geo.get_detection_abstract(gdf, sb.ortho.get_layer_name(mission_fold), MODEL, str(stan_path)),\n",
    "        \"date\": datetime.strptime(last_run_date, '%Y-%m-%d-%H%M').isoformat(),\n",
    "        \"date_type\": \"creation\",\n",
    "        \"attribution\": \"SeaBee\",\n",
    "    }\n",
    "\n",
    "    print(\"Uploading geopackage to GeoServer.\")\n",
    "    sb.geo.upload_geopackage_to_geoserver(f\"{layer_name}.gpkg\", SETTINGS.GEOSERVER_USER, SETTINGS.GEOSERVER_PASSWORD)\n",
    "\n",
    "    print(\"Publishing to GeoNode.\")\n",
    "    sb.geo.publish_to_geonode(\n",
    "        layer_name,\n",
    "        SETTINGS.GEONODE_USER,\n",
    "        SETTINGS.GEONODE_PASSWORD,\n",
    "        workspace=\"geonode\",\n",
    "    )\n",
    "\n",
    "    sb.geo.update_geonode_metadata(\n",
    "        layer_name,\n",
    "        SETTINGS.GEONODE_USER,\n",
    "        SETTINGS.GEONODE_PASSWORD,\n",
    "        metadata,\n",
    "    )\n",
    "    sb.storage.copy_file(f\"{layer_name}.gpkg\", stan_path, minio_client, overwrite=False)"
   ]
  }
 ],
 "metadata": {
  "kernelspec": {
   "display_name": "Python 3 (ipykernel)",
   "language": "python",
   "name": "python3"
  },
  "language_info": {
   "codemirror_mode": {
    "name": "ipython",
    "version": 3
   },
   "file_extension": ".py",
   "mimetype": "text/x-python",
   "name": "python",
   "nbconvert_exporter": "python",
   "pygments_lexer": "ipython3",
   "version": "3.10.6"
  }
 },
 "nbformat": 4,
 "nbformat_minor": 4
}
