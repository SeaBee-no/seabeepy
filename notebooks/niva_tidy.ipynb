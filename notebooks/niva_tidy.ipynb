{
 "cells": [
  {
   "cell_type": "code",
   "execution_count": 1,
   "id": "27c44bc7-58dc-49ca-a0a3-05fcbfffeff7",
   "metadata": {},
   "outputs": [],
   "source": [
    "import datetime as dt\n",
    "\n",
    "from seabeepy.config import SETTINGS\n",
    "from pathlib import Path\n",
    "\n",
    "import seabeepy as sb\n",
    "import requests\n",
    "import json"
   ]
  },
  {
   "cell_type": "code",
   "execution_count": 2,
   "id": "98ca40a8",
   "metadata": {},
   "outputs": [],
   "source": [
    "def get_datasets(url) -> list[dict]:\n",
    "    resp = requests.get(url).json()\n",
    "    datasets = resp[\"datasets\"]\n",
    "    if resp[\"links\"][\"next\"] is not None:\n",
    "        datasets.extend(get_datasets(resp[\"links\"][\"next\"]))\n",
    "\n",
    "    return datasets"
   ]
  },
  {
   "cell_type": "code",
   "execution_count": 3,
   "id": "919269a4",
   "metadata": {},
   "outputs": [],
   "source": [
    "geonode_url = \"https://geonode.seabee.sigma2.no\"\n",
    "datasets = get_datasets(f\"{geonode_url}/api/v2/datasets\")"
   ]
  },
  {
   "cell_type": "code",
   "execution_count": 4,
   "id": "0927535d",
   "metadata": {},
   "outputs": [
    {
     "data": {
      "text/plain": [
       "95"
      ]
     },
     "execution_count": 4,
     "metadata": {},
     "output_type": "execute_result"
    }
   ],
   "source": [
    "datasets = [ds for ds in datasets if ds[\"subtype\"] == \"raster\" and \"niva\" in ds[\"abstract\"].lower()]\n",
    "len(datasets)"
   ]
  },
  {
   "cell_type": "code",
   "execution_count": 5,
   "id": "3bc1f79f",
   "metadata": {},
   "outputs": [],
   "source": [
    "dataset_no_year = [ds for ds in datasets if ds[\"subtype\"] == \"raster\" and \"niva-tidy/niva\" in ds[\"abstract\"].lower()]"
   ]
  },
  {
   "cell_type": "code",
   "execution_count": 6,
   "id": "7d4726eb",
   "metadata": {},
   "outputs": [
    {
     "data": {
      "text/plain": [
       "44"
      ]
     },
     "execution_count": 6,
     "metadata": {},
     "output_type": "execute_result"
    }
   ],
   "source": [
    "len(dataset_no_year)"
   ]
  },
  {
   "cell_type": "code",
   "execution_count": 7,
   "id": "52d3fd0f-81f9-43ad-a489-1db44e8cc4cb",
   "metadata": {},
   "outputs": [],
   "source": [
    "minio_path_lookup = {}\n",
    "for ds in dataset_no_year:\n",
    "    for s in ds[\"raw_abstract\"].split(\" \"):\n",
    "        if s.startswith(\"niva-tidy\"):\n",
    "            minio_path_lookup[ds['name']] = s.replace(\"niva-tidy\", \"niva-tidy/2023\")"
   ]
  },
  {
   "cell_type": "code",
   "execution_count": 8,
   "id": "68965615-a8ba-4a7f-9ec5-59f1c720318b",
   "metadata": {},
   "outputs": [
    {
     "name": "stdout",
     "output_type": "stream",
     "text": [
      "Updating Mapping_larvik_olberg-all_202305051023_msi_100m\n",
      "Updating Mapping_larvik_olberg-all_202309131050_rgb_100m\n",
      "Updating Mapping_halden_h28_202308291429_rgb_80m\n",
      "Updating Mapping_halden_h24_202308291354_rgb_80m\n",
      "Updating Mapping_halden_h23_202308301032_rgb_80m\n",
      "Updating Mapping_larvik_olberg-all_202309131140_msi_60m\n",
      "Updating Mapping_halden_h20_202308301136_msi_80m\n",
      "Updating Mapping_halden_h28_202308291436_msi_80m\n",
      "Updating Mapping_halden_h34_202308300910_msi_80m\n",
      "Updating Mapping_halden_h34_202308300859_rgb_80m\n",
      "Updating Mapping_halden_h33_202308300943_rgb_80m\n",
      "Updating Mapping_halden_h22_202308300752_msi_80m\n",
      "Updating Mapping_halden_h35_202308300813_rgb_80m\n",
      "Updating Mapping_halden_h24_202308291402_msi_80m\n",
      "Updating Mapping_larvik_olberg-all_202309131050_msi_100m\n",
      "Updating Mapping_larvik_olberg-all_202308161129_RGB_60m\n",
      "Updating Mapping_larvik_olberg-s_202308160955_RGB_20m\n",
      "Updating Mapping_larvik_olberg-all_202307140818_RGB_100m\n",
      "Updating Mapping_larvik_olberg-all_202307140902_MSI_100m\n",
      "Updating Mapping_larvik_olberg-all_202307140818_MSI_100m\n",
      "Updating Mapping_larvik_olberg-all_202307140642_MSI_60m\n",
      "Updating Mapping_larvik_olberg-all_202306230844_rgb_60m\n",
      "Updating Mapping_larvik_olberg-s_202307140746_msi_20m\n",
      "Updating Mapping_oldberg_202307140746_rgb_20m\n",
      "Updating Mapping_larvik_olberg-all_202306231147_RGB_100m\n",
      "Updating Mapping_larvik_olberg-all_202307140642_RGB_60m\n",
      "Updating Mapping_oldberg_202306231122_RGB_40m\n",
      "Updating Mapping_larvik_olberg-s_202306230947_RGB_20m\n",
      "Updating Mapping_oldberg_202306221532_MSI_60m\n",
      "Updating Mapping_larvik_olberg-n_202306231122_RGB_40m\n",
      "Updating Mapping_halden_h30_202308291046_rgb_80m\n",
      "Updating Mapping_halden_h37_202308290755_rgb_80m\n",
      "Updating Mapping_halden_h25_202308291253_rgb_80m\n",
      "Updating Mapping_halden_h31_202308291127_rgb_80m\n",
      "Updating Mapping_halden_h30_202308291100_msi_80m\n",
      "Updating Mapping_halden_h29_202308290959_msi_80m\n",
      "Updating Mapping_halden_h36_202308290849_rgb_80m\n",
      "Updating Mapping_oslo_202310021218_rgb_100m\n"
     ]
    }
   ],
   "source": [
    "for layer_name, minio_path in minio_path_lookup.items():\n",
    "    path = Path(f\"/home/notebook/shared-seabee-ns9879k/{minio_path}\")\n",
    "    if path.exists() and (path / \"orthophoto\"/ f\"{layer_name}.tif\").exists():\n",
    "        print(f\"Updating {layer_name}\")\n",
    "        abstract = sb.geo.get_html_abstract(str(path))\n",
    "        date = sb.ortho.parse_mission_data(path, parse_date=True)[2]\n",
    "        metadata = {\n",
    "            \"abstract\": abstract,\n",
    "            \"date\": date.isoformat(),\n",
    "            \"date_type\": \"creation\",\n",
    "            \"attribution\": \"SeaBee\",\n",
    "        }\n",
    "        sb.geo.update_geonode_metadata(\n",
    "            layer_name,\n",
    "            SETTINGS.GEONODE_USER,\n",
    "            SETTINGS.GEONODE_PASSWORD,\n",
    "            metadata,\n",
    "        )"
   ]
  },
  {
   "cell_type": "code",
   "execution_count": 9,
   "id": "4de68b76",
   "metadata": {},
   "outputs": [],
   "source": [
    "datasets_seabee_data = [ds for ds in datasets if ds[\"subtype\"] == \"raster\" and \"SEABEE_DATA\" in ds[\"abstract\"]]"
   ]
  },
  {
   "cell_type": "code",
   "execution_count": 10,
   "id": "aa7eaff1",
   "metadata": {},
   "outputs": [
    {
     "data": {
      "text/plain": [
       "11"
      ]
     },
     "execution_count": 10,
     "metadata": {},
     "output_type": "execute_result"
    }
   ],
   "source": [
    "len(datasets_seabee_data)"
   ]
  },
  {
   "cell_type": "code",
   "execution_count": 11,
   "id": "841c8dd0",
   "metadata": {},
   "outputs": [
    {
     "name": "stdout",
     "output_type": "stream",
     "text": [
      "Mapping_finnmark_vassbukta_202309281040_msi_100m\n",
      "Mapping_halden_h22_202308300741_rgb_80m\n",
      "Mapping_halden_h21_202308301118_msi_80m\n",
      "Mapping_larvik_olberg-all_202308160923_MSI_100m\n",
      "Mapping_larvik_olberg-all_202306231147_MSI_100m\n",
      "Mapping_larvik_olberg-s_202306231037_MSI_40m\n",
      "Mapping_oldberg_202306231122_MSI_40m\n",
      "Mapping_halden_h25_202308291309_msi_80m\n",
      "Mapping_halden_h29_202308290947_rgb_80m\n",
      "Mapping_halden_h31_202308291138_msi_80m\n",
      "Mapping_halden_h36_202308290907_rgb_70m\n"
     ]
    }
   ],
   "source": [
    "for ds in datasets_seabee_data:\n",
    "    print(ds[\"title\"])"
   ]
  },
  {
   "cell_type": "code",
   "execution_count": 16,
   "id": "588390a0",
   "metadata": {},
   "outputs": [],
   "source": [
    "minio_path_lookup_seabee = {}\n",
    "for ds in datasets_seabee_data:\n",
    "    for s in ds[\"raw_abstract\"].split(\" \"):\n",
    "        if s.startswith(\"niva-tidy\"):\n",
    "            minio_path_lookup_seabee[ds['name']] = s.replace(\"SEABEE_DATA/\", \"\")"
   ]
  },
  {
   "cell_type": "code",
   "execution_count": 19,
   "id": "404f4bdf-92fa-4ecf-ba01-86bd836663ae",
   "metadata": {},
   "outputs": [
    {
     "name": "stdout",
     "output_type": "stream",
     "text": [
      "Updating Mapping_halden_h22_202308300741_rgb_80m\n",
      "Updating Mapping_halden_h21_202308301118_msi_80m\n",
      "Updating Mapping_larvik_olberg-all_202308160923_MSI_100m\n",
      "Updating Mapping_larvik_olberg-all_202306231147_MSI_100m\n",
      "Updating Mapping_larvik_olberg-s_202306231037_MSI_40m\n",
      "Updating Mapping_oldberg_202306231122_MSI_40m\n",
      "Updating Mapping_halden_h25_202308291309_msi_80m\n",
      "Updating Mapping_halden_h29_202308290947_rgb_80m\n",
      "Updating Mapping_halden_h31_202308291138_msi_80m\n",
      "Updating Mapping_halden_h36_202308290907_rgb_70m\n"
     ]
    }
   ],
   "source": [
    "for layer_name, minio_path in minio_path_lookup_seabee.items():\n",
    "    path = Path(f\"/home/notebook/shared-seabee-ns9879k/{minio_path}\")\n",
    "    if path.exists() and (path / \"orthophoto\"/ f\"{layer_name}.tif\").exists():\n",
    "        print(f\"Updating {layer_name}\")\n",
    "        abstract = sb.geo.get_html_abstract(str(path))\n",
    "        date = sb.ortho.parse_mission_data(path, parse_date=True)[2]\n",
    "        metadata = {\n",
    "            \"abstract\": abstract,\n",
    "            \"date\": date.isoformat(),\n",
    "            \"date_type\": \"creation\",\n",
    "            \"attribution\": \"SeaBee\",\n",
    "        }\n",
    "        sb.geo.update_geonode_metadata(\n",
    "            layer_name,\n",
    "            SETTINGS.GEONODE_USER,\n",
    "            SETTINGS.GEONODE_PASSWORD,\n",
    "            metadata,\n",
    "        )"
   ]
  }
 ],
 "metadata": {
  "kernelspec": {
   "display_name": "Python 3 (ipykernel)",
   "language": "python",
   "name": "python3"
  },
  "language_info": {
   "codemirror_mode": {
    "name": "ipython",
    "version": 3
   },
   "file_extension": ".py",
   "mimetype": "text/x-python",
   "name": "python",
   "nbconvert_exporter": "python",
   "pygments_lexer": "ipython3",
   "version": "3.10.6"
  },
  "vscode": {
   "interpreter": {
    "hash": "69d0b74f1e5111a26363d8ed5035edb8ad5befc32b6ba89d070f1858b7178fd7"
   }
  }
 },
 "nbformat": 4,
 "nbformat_minor": 5
}
