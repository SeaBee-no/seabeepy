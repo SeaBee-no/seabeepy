{
 "cells": [
  {
   "cell_type": "code",
   "execution_count": 42,
   "id": "27c44bc7-58dc-49ca-a0a3-05fcbfffeff7",
   "metadata": {},
   "outputs": [],
   "source": [
    "import datetime as dt\n",
    "\n",
    "from config import SETTINGS\n",
    "\n",
    "import seabeepy as sb\n",
    "import requests\n",
    "import json"
   ]
  },
  {
   "cell_type": "code",
   "execution_count": 43,
   "id": "98ca40a8",
   "metadata": {},
   "outputs": [],
   "source": [
    "def get_datasets(url) -> list[dict]:\n",
    "    resp = requests.get(url).json()\n",
    "    datasets = resp[\"datasets\"]\n",
    "    if resp[\"links\"][\"next\"] is not None:\n",
    "        datasets.extend(get_datasets(resp[\"links\"][\"next\"]))\n",
    "\n",
    "    return datasets"
   ]
  },
  {
   "cell_type": "code",
   "execution_count": 44,
   "id": "919269a4",
   "metadata": {},
   "outputs": [],
   "source": [
    "geonode_url = \"https://geonode.seabee.sigma2.no\"\n",
    "datasets = get_datasets(f\"{geonode_url}/api/v2/datasets\")"
   ]
  },
  {
   "cell_type": "code",
   "execution_count": 45,
   "id": "0927535d",
   "metadata": {},
   "outputs": [
    {
     "data": {
      "text/plain": [
       "90"
      ]
     },
     "execution_count": 45,
     "metadata": {},
     "output_type": "execute_result"
    }
   ],
   "source": [
    "datasets = [ds for ds in datasets if ds[\"subtype\"] == \"raster\" and \"niva\" in ds[\"abstract\"].lower()]\n",
    "len(datasets)"
   ]
  },
  {
   "cell_type": "code",
   "execution_count": 46,
   "id": "3bc1f79f",
   "metadata": {},
   "outputs": [],
   "source": [
    "dataset_no_year = [ds for ds in datasets if ds[\"subtype\"] == \"raster\" and \"niva-tidy/niva\" in ds[\"abstract\"].lower()]"
   ]
  },
  {
   "cell_type": "code",
   "execution_count": 48,
   "id": "7d4726eb",
   "metadata": {},
   "outputs": [
    {
     "data": {
      "text/plain": [
       "59"
      ]
     },
     "execution_count": 48,
     "metadata": {},
     "output_type": "execute_result"
    }
   ],
   "source": [
    "len(dataset_no_year)"
   ]
  },
  {
   "cell_type": "code",
   "execution_count": 49,
   "id": "b064dae3",
   "metadata": {},
   "outputs": [
    {
     "name": "stdout",
     "output_type": "stream",
     "text": [
      "Mapping_larvik_olberg-all_202305051123_rgb_60m\n",
      "Mapping_finnmark_vassbukta_202309281000_msi_100m\n",
      "Mapping_finnmark_vassbukta_202309280917_rgb_100m\n",
      "Mapping_finnmark_vassbukta_202309281325_msi_30m\n",
      "Mapping_finnmark_bringness_202309270813_msi_100m\n",
      "Mapping_finnmark_bringness_202309271230_msi_100m\n",
      "Mapping_finnmark_vassbukta_202309280939_rgb_100m\n",
      "Mapping_finnmark_bringness_202309271147_msi_30m\n",
      "Mapping_finnmark_bringness_202309271130_rgb_30m\n",
      "Mapping_finnmark_bringness_202309271330_msi_30m\n",
      "Mapping_larvik_olberg-all_202304041221_msi_100m\n",
      "Mapping_larvik_olberg-all_202305051123_msi_60m\n",
      "Mapping_larvik_olberg-s_202304041255_msi_27m\n",
      "Mapping_larvik_olberg-all_202305051023_rgb_100m\n",
      "Mapping_larvik_olberg-all_202305051023_msi_100m\n",
      "Mapping_larvik_olberg-s_202305051218_msi_20m\n",
      "Mapping_larvik_olberg-all_202309131050_rgb_100m\n",
      "Mapping_halden_h28_202308291429_rgb_80m\n",
      "Mapping_halden_h24_202308291354_rgb_80m\n",
      "Mapping_halden_h23_202308301032_rgb_80m\n",
      "Mapping_larvik_olberg-all_202309131140_msi_60m\n",
      "Mapping_halden_h20_202308301136_msi_80m\n",
      "Mapping_halden_h28_202308291436_msi_80m\n",
      "Mapping_halden_h34_202308300910_msi_80m\n",
      "Mapping_halden_h34_202308300859_rgb_80m\n",
      "Mapping_halden_h33_202308300943_rgb_80m\n",
      "Mapping_halden_h22_202308300752_msi_80m\n",
      "Mapping_halden_h35_202308300813_rgb_80m\n",
      "Mapping_halden_h24_202308291402_msi_80m\n",
      "Mapping_larvik_olberg-all_202309131050_msi_100m\n",
      "Mapping_larvik_olberg-all_202308161129_RGB_60m\n",
      "Mapping_larvik_olberg-s_202308160955_RGB_20m\n",
      "Mapping_larvik_olberg-all_202307140818_RGB_100m\n",
      "Mapping_larvik_olberg-all_202307140902_MSI_100m\n",
      "Mapping_larvik_olberg-all_202307140818_MSI_100m\n",
      "Mapping_larvik_olberg-all_202307140642_MSI_60m\n",
      "Mapping_larvik_olberg-all_202306230844_rgb_60m\n",
      "Mapping_larvik_olberg-s_202307140746_msi_20m\n",
      "Mapping_oldberg_202307140746_rgb_20m\n",
      "Mapping_larvik_olberg-all_202306231147_RGB_100m\n",
      "Mapping_larvik_olberg-all_202307140642_RGB_60m\n",
      "Mapping_oldberg_202306231122_RGB_40m\n",
      "Mapping_larvik_olberg-s_202306230947_RGB_20m\n",
      "Mapping_oldberg_202306221532_MSI_60m\n",
      "Mapping_larvik_olberg-n_202306231122_RGB_40m\n",
      "Mapping_halden_h30_202308291046_rgb_80m\n",
      "Mapping_halden_h37_202308290755_rgb_80m\n",
      "Mapping_halden_h25_202308291253_rgb_80m\n",
      "Mapping_halden_h31_202308291127_rgb_80m\n",
      "Mapping_halden_h30_202308291100_msi_80m\n",
      "Mapping_halden_h29_202308290959_msi_80m\n",
      "Mapping_halden_h36_202308290849_rgb_80m\n",
      "Mapping_oslo_202310031311_msi_80m\n",
      "Mapping_oslo_202310030959_rgb_90m\n",
      "Mapping_oslo_202310031253_rgb_80m\n",
      "Mapping_oslo_202310031129_msi_90m\n",
      "Mapping_oslo_202310021050_rgb_100m\n",
      "Mapping_oslo_202310021218_rgb_100m\n",
      "Mapping_oslo_202310021112_msi_100m\n"
     ]
    }
   ],
   "source": [
    "for ds in dataset_no_year:\n",
    "    print(ds['title'])"
   ]
  },
  {
   "cell_type": "code",
   "execution_count": 50,
   "id": "4de68b76",
   "metadata": {},
   "outputs": [],
   "source": [
    "datasets_seabee_data = [ds for ds in datasets if ds[\"subtype\"] == \"raster\" and \"SEABEE_DATA\" in ds[\"abstract\"]]"
   ]
  },
  {
   "cell_type": "code",
   "execution_count": 51,
   "id": "aa7eaff1",
   "metadata": {},
   "outputs": [
    {
     "data": {
      "text/plain": [
       "14"
      ]
     },
     "execution_count": 51,
     "metadata": {},
     "output_type": "execute_result"
    }
   ],
   "source": [
    "len(datasets_seabee_data)"
   ]
  },
  {
   "cell_type": "code",
   "execution_count": 53,
   "id": "841c8dd0",
   "metadata": {},
   "outputs": [
    {
     "name": "stdout",
     "output_type": "stream",
     "text": [
      "Mapping_finnmark_vassbukta_202309281040_msi_100m\n",
      "Mapping_finnmark_vassbukta_202309281024_msi_100m\n",
      "Mapping_larvik_olberg-all_202304041221_rgb_100m\n",
      "Mapping_halden_h22_202308300741_rgb_80m\n",
      "Mapping_halden_h21_202308301118_msi_80m\n",
      "Mapping_larvik_olberg-all_202308160923_MSI_100m\n",
      "Mapping_larvik_olberg-all_202306231147_MSI_100m\n",
      "Mapping_larvik_olberg-s_202306231037_MSI_40m\n",
      "Mapping_oldberg_202306231122_MSI_40m\n",
      "Mapping_halden_h25_202308291309_msi_80m\n",
      "Mapping_halden_h29_202308290947_rgb_80m\n",
      "Mapping_halden_h31_202308291138_msi_80m\n",
      "Mapping_halden_h36_202308290907_rgb_70m\n",
      "Mapping_oslo_202310031012_msi_90m\n"
     ]
    }
   ],
   "source": [
    "for ds in datasets_seabee_data:\n",
    "    print(ds[\"title\"])"
   ]
  },
  {
   "cell_type": "code",
   "execution_count": null,
   "id": "588390a0",
   "metadata": {},
   "outputs": [],
   "source": []
  }
 ],
 "metadata": {
  "kernelspec": {
   "display_name": "Python 3 (ipykernel)",
   "language": "python",
   "name": "python3"
  },
  "language_info": {
   "codemirror_mode": {
    "name": "ipython",
    "version": 3
   },
   "file_extension": ".py",
   "mimetype": "text/x-python",
   "name": "python",
   "nbconvert_exporter": "python",
   "pygments_lexer": "ipython3",
   "version": "3.11.6"
  },
  "vscode": {
   "interpreter": {
    "hash": "69d0b74f1e5111a26363d8ed5035edb8ad5befc32b6ba89d070f1858b7178fd7"
   }
  }
 },
 "nbformat": 4,
 "nbformat_minor": 5
}
