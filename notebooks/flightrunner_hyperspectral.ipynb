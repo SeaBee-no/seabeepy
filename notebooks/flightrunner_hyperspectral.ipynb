{
 "cells": [
  {
   "cell_type": "code",
   "execution_count": 1,
   "id": "0af93a87-9797-40fe-8a5f-b32002207169",
   "metadata": {},
   "outputs": [
    {
     "name": "stdout",
     "output_type": "stream",
     "text": [
      "Jupyter environment detected. Enabling Open3D WebVisualizer.\n",
      "[Open3D INFO] WebRTC GUI backend enabled.\n",
      "[Open3D INFO] WebRTCWindowSystem: HTTP handshake server disabled.\n"
     ]
    }
   ],
   "source": [
    "# Standard python library\n",
    "import configparser\n",
    "import sys\n",
    "import os\n",
    "import argparse\n",
    "from collections import namedtuple\n",
    "\n",
    "# Local resources\n",
    "from gref4hsi.scripts import georeference\n",
    "from gref4hsi.scripts import orthorectification\n",
    "from gref4hsi.scripts import coregistration\n",
    "from gref4hsi.utils import parsing_utils, specim_parsing_utils\n",
    "from gref4hsi.utils import visualize\n",
    "from gref4hsi.utils.config_utils import prepend_data_dir_to_relative_paths\n",
    "from gref4hsi.utils.config_utils import customize_config\n",
    "\n",
    "# Third party\n",
    "import numpy as np"
   ]
  },
  {
   "cell_type": "code",
   "execution_count": 2,
   "id": "07bb1fea-0c10-4e2a-9431-22b74b638ddb",
   "metadata": {},
   "outputs": [],
   "source": [
    "# From seabeepy/notebooks/flight_runner\n",
    "import datetime as dt\n",
    "import os\n",
    "from pathlib import Path\n",
    "\n",
    "from config import SETTINGS\n",
    "from pyodm import Node\n",
    "from subprocess import CalledProcessError\n",
    "\n",
    "import seabeepy as sb\n"
   ]
  },
  {
   "cell_type": "code",
   "execution_count": 3,
   "id": "c9f66eef-7fbd-4efd-9cbe-91007d1c6917",
   "metadata": {
    "tags": []
   },
   "outputs": [],
   "source": [
    "\n",
    "\n",
    "# Login to MinIO\n",
    "minio_client = sb.storage.minio_login(\n",
    "    user=SETTINGS.MINIO_ACCESS_ID, password=SETTINGS.MINIO_SECRET_KEY\n",
    ")\n",
    "\n"
   ]
  },
  {
   "cell_type": "code",
   "execution_count": 4,
   "id": "9fe9281e-4706-4e06-b944-dfd7c783d93d",
   "metadata": {},
   "outputs": [],
   "source": [
    "# Parent directories containing flight folders to process\n",
    "base_dirs = [\n",
    "    r\"/home/notebook/shared-seabee-ns9879k/ntnu/2022\",\n",
    "]\n",
    "\n",
    "# Directory for temporary files\n",
    "temp_dir = r\"/home/notebook/cogs\""
   ]
  },
  {
   "cell_type": "code",
   "execution_count": 5,
   "id": "671c7d5b-d8f8-429b-9cd8-afd9f46b8ce0",
   "metadata": {},
   "outputs": [
    {
     "name": "stdout",
     "output_type": "stream",
     "text": [
      "Processing started: 2024-04-16 16:17:40.667898\n"
     ]
    }
   ],
   "source": [
    "# Run info\n",
    "run_date = dt.datetime.today()\n",
    "print(f\"Processing started: {run_date}\")"
   ]
  },
  {
   "cell_type": "code",
   "execution_count": 6,
   "id": "77ca6de5-e204-43fd-998c-53a8e68876f4",
   "metadata": {},
   "outputs": [],
   "source": [
    "# Get all potential mission folders for NodeODM\n",
    "# (i.e. folders containing a 'config.seabee.yaml' and an 'capture' subdirectory, but NOT a 'processed' directory)\n",
    "mission_list = [\n",
    "    f.parent\n",
    "    for base_dir in base_dirs\n",
    "    for f in Path(base_dir).rglob(\"config.seabee.yaml\")\n",
    "    if sb.ortho.check_subdir_exists(f.parent, \"capture\")\n",
    "    and not sb.ortho.check_subdir_exists(f.parent, \"processed\")\n",
    "]"
   ]
  },
  {
   "cell_type": "code",
   "execution_count": 7,
   "id": "914cbf91-d613-4f3d-9c2a-ab404424f2be",
   "metadata": {},
   "outputs": [
    {
     "data": {
      "text/plain": [
       "[PosixPath('/home/notebook/shared-seabee-ns9879k/ntnu/2022/2022-08-31-Remoy/remoy_202208311040_ntnu_hyperspectral_74m'),\n",
       " PosixPath('/home/notebook/shared-seabee-ns9879k/ntnu/2022/2022-08-31-Remoy/remoy_202208311435_ntnu_hyperspectral_74m'),\n",
       " PosixPath('/home/notebook/shared-seabee-ns9879k/ntnu/2022/2022-08-31-Remoy/remoy_202208310800_ntnu_hyperspectral_74m')]"
      ]
     },
     "execution_count": 7,
     "metadata": {},
     "output_type": "execute_result"
    }
   ],
   "source": [
    "mission_list"
   ]
  },
  {
   "cell_type": "code",
   "execution_count": 8,
   "id": "aec010b3-a209-4291-b465-cb4f295b6e85",
   "metadata": {},
   "outputs": [],
   "source": [
    "# Establish the ancillary data paths, copy to local work space and \n",
    "from pathlib import Path\n",
    "import shutil\n",
    "\n",
    "geoid_path_minio = Path('/home/notebook/shared-seabee-ns9879k/ntnu/specim_processing_data/geoids/no_kv_HREF2018A_NN2000_EUREF89.tif')\n",
    "config_template_path_minio = Path('/home/notebook/shared-seabee-ns9879k/ntnu/specim_processing_data/configuration_specim.ini')\n",
    "lab_calibration_path_minio = Path('/home/notebook/shared-seabee-ns9879k/ntnu/specim_processing_data/Lab_Calibrations')\n",
    "\n",
    "# Local path geoid\n",
    "geoid_path = os.path.join(temp_dir, \"no_kv_HREF2018A_NN2000_EUREF89.tif\")\n",
    "try:\n",
    "    shutil.copyfile(geoid_path_minio, geoid_path)\n",
    "except FileExistsError:\n",
    "    pass\n",
    "\n",
    "# Local path for configuration file\n",
    "config_template_path = os.path.join(temp_dir, \"config_template_path_specim.ini\")\n",
    "try:\n",
    "    shutil.copyfile(config_template_path_minio, config_template_path)\n",
    "except FileExistsError:\n",
    "    pass\n",
    "\n",
    "# Local path for lab calibration\n",
    "lab_calibration_path = os.path.join(temp_dir, \"lab-calibration\")\n",
    "try:\n",
    "    shutil.copytree(lab_calibration_path_minio, lab_calibration_path)\n",
    "except FileExistsError:\n",
    "    pass"
   ]
  },
  {
   "cell_type": "code",
   "execution_count": null,
   "id": "bf2cf748-2313-49e9-b535-9f1b56abc48e",
   "metadata": {},
   "outputs": [
    {
     "name": "stdout",
     "output_type": "stream",
     "text": [
      "\n",
      "################\n",
      "Processing: remoy_202208311040_ntnu_hyperspectral_74m\n",
      "/home/notebook/cogs/remoy_202208311040_ntnu_hyperspectral_74m/dem/DEM_downsampled.tif\n",
      "The file 'orthomosaic_cropped.tif' is used as as reference orthomosaic.\n"
     ]
    },
    {
     "name": "stderr",
     "output_type": "stream",
     "text": [
      "/opt/conda/lib/python3.10/site-packages/spectral/io/envi.py:175: UserWarning: Parameters with non-lowercase names encountered and converted to lowercase. To retain source file parameter name capitalization, set spectral.settings.envi_support_nonlowercase_params to True.\n",
      "  warnings.warn(msg)\n"
     ]
    }
   ],
   "source": [
    "import process_hyperspectral\n",
    "\n",
    "# Process missions in the list\n",
    "for specim_mission_folder_minio in mission_list:\n",
    "    mission_name = specim_mission_folder_minio.name\n",
    "    print(f\"\\n################\\nProcessing: {mission_name}\")\n",
    "    \n",
    "    specim_mission_folder = os.path.join(temp_dir, specim_mission_folder_minio.name)\n",
    "    \n",
    "    try:\n",
    "        shutil.copytree(specim_mission_folder_minio, specim_mission_folder)\n",
    "    except FileExistsError:\n",
    "        pass\n",
    "\n",
    "    # The config file is read\n",
    "    config_yaml = os.path.join(specim_mission_folder, \"config.seabee.yaml\")\n",
    "\n",
    "    # Start the specim processing (if it does not finish\n",
    "    process_hyperspectral.main(str(config_yaml), \n",
    "                        str(specim_mission_folder), \n",
    "                        geoid_path, \n",
    "                        config_template_path, \n",
    "                        lab_calibration_path,\n",
    "                        fast_mode = True)\n",
    "    \n",
    "    # Processed datacubes are now stored under\n",
    "    cubes_path = os.path.join(temp_dir, 'mission-data/processed/Output/GIS/HSIDatacubes')\n",
    "    cubes_path_minio = os.path.join(specim_mission_folder_minio, 'processed/cubes')\n",
    "\n",
    "    # Processed composites are now stored under\n",
    "    composites_path = os.path.join(temp_dir, 'mission-data/processed/Output/GIS/RGBComposites')\n",
    "    # And should be moved to \n",
    "    composites_path_minio = os.path.join(specim_mission_folder_minio, 'processed/composites')\n",
    "\n",
    "    # Move datacube, composites and ancillary data to persistant storage on Minio\n",
    "    sb.storage.copy_folder(src_fold = cubes_path, dst_fold = cubes_path_minio, client=minio_client, containing_folder = False)\n",
    "    sb.storage.copy_folder(src_fold = composites_path, dst_fold = composites_path_minio, client = minio_client, containing_folder = False)\n",
    "\n",
    "    # Delete the local data to make room for next mission content\n",
    "    #shutil.rmtree(specim_mission_folder)\n",
    "    \n",
    "    break\n",
    "    "
   ]
  },
  {
   "cell_type": "code",
   "execution_count": 11,
   "id": "163e0d39-ec83-45a2-ba7d-b151b923e3c3",
   "metadata": {},
   "outputs": [
    {
     "ename": "FileNotFoundError",
     "evalue": "[Errno 2] No such file or directory: '/home/notebook/cogs/remoy_202208311040_ntnu_hyperspectral_74m'",
     "output_type": "error",
     "traceback": [
      "\u001b[0;31m---------------------------------------------------------------------------\u001b[0m",
      "\u001b[0;31mFileNotFoundError\u001b[0m                         Traceback (most recent call last)",
      "Cell \u001b[0;32mIn [11], line 3\u001b[0m\n\u001b[1;32m      1\u001b[0m \u001b[38;5;66;03m## 3. Convert georeferenced data into reflectance above seafloor\u001b[39;00m\n\u001b[0;32m----> 3\u001b[0m \u001b[43mshutil\u001b[49m\u001b[38;5;241;43m.\u001b[39;49m\u001b[43mrmtree\u001b[49m\u001b[43m(\u001b[49m\u001b[43mspecim_mission_folder\u001b[49m\u001b[43m)\u001b[49m\n",
      "File \u001b[0;32m/opt/conda/lib/python3.10/shutil.py:714\u001b[0m, in \u001b[0;36mrmtree\u001b[0;34m(path, ignore_errors, onerror)\u001b[0m\n\u001b[1;32m    712\u001b[0m     orig_st \u001b[38;5;241m=\u001b[39m os\u001b[38;5;241m.\u001b[39mlstat(path)\n\u001b[1;32m    713\u001b[0m \u001b[38;5;28;01mexcept\u001b[39;00m \u001b[38;5;167;01mException\u001b[39;00m:\n\u001b[0;32m--> 714\u001b[0m     \u001b[43monerror\u001b[49m\u001b[43m(\u001b[49m\u001b[43mos\u001b[49m\u001b[38;5;241;43m.\u001b[39;49m\u001b[43mlstat\u001b[49m\u001b[43m,\u001b[49m\u001b[43m \u001b[49m\u001b[43mpath\u001b[49m\u001b[43m,\u001b[49m\u001b[43m \u001b[49m\u001b[43msys\u001b[49m\u001b[38;5;241;43m.\u001b[39;49m\u001b[43mexc_info\u001b[49m\u001b[43m(\u001b[49m\u001b[43m)\u001b[49m\u001b[43m)\u001b[49m\n\u001b[1;32m    715\u001b[0m     \u001b[38;5;28;01mreturn\u001b[39;00m\n\u001b[1;32m    716\u001b[0m \u001b[38;5;28;01mtry\u001b[39;00m:\n",
      "File \u001b[0;32m/opt/conda/lib/python3.10/shutil.py:712\u001b[0m, in \u001b[0;36mrmtree\u001b[0;34m(path, ignore_errors, onerror)\u001b[0m\n\u001b[1;32m    709\u001b[0m \u001b[38;5;66;03m# Note: To guard against symlink races, we use the standard\u001b[39;00m\n\u001b[1;32m    710\u001b[0m \u001b[38;5;66;03m# lstat()/open()/fstat() trick.\u001b[39;00m\n\u001b[1;32m    711\u001b[0m \u001b[38;5;28;01mtry\u001b[39;00m:\n\u001b[0;32m--> 712\u001b[0m     orig_st \u001b[38;5;241m=\u001b[39m \u001b[43mos\u001b[49m\u001b[38;5;241;43m.\u001b[39;49m\u001b[43mlstat\u001b[49m\u001b[43m(\u001b[49m\u001b[43mpath\u001b[49m\u001b[43m)\u001b[49m\n\u001b[1;32m    713\u001b[0m \u001b[38;5;28;01mexcept\u001b[39;00m \u001b[38;5;167;01mException\u001b[39;00m:\n\u001b[1;32m    714\u001b[0m     onerror(os\u001b[38;5;241m.\u001b[39mlstat, path, sys\u001b[38;5;241m.\u001b[39mexc_info())\n",
      "\u001b[0;31mFileNotFoundError\u001b[0m: [Errno 2] No such file or directory: '/home/notebook/cogs/remoy_202208311040_ntnu_hyperspectral_74m'"
     ]
    }
   ],
   "source": [
    "## 3. Convert georeferenced data into reflectance above seafloor\n",
    "\n",
    "shutil.rmtree(specim_mission_folder)"
   ]
  },
  {
   "cell_type": "markdown",
   "id": "b5eae8f9-87d4-4185-b1e9-64cd87a89707",
   "metadata": {},
   "source": [
    "## 4. Publish to GeoNode"
   ]
  },
  {
   "cell_type": "code",
   "execution_count": null,
   "id": "4dadee52-52cc-4fc9-9f29-316c7b4afd72",
   "metadata": {},
   "outputs": [],
   "source": []
  }
 ],
 "metadata": {
  "kernelspec": {
   "display_name": "Python 3 (ipykernel)",
   "language": "python",
   "name": "python3"
  },
  "language_info": {
   "codemirror_mode": {
    "name": "ipython",
    "version": 3
   },
   "file_extension": ".py",
   "mimetype": "text/x-python",
   "name": "python",
   "nbconvert_exporter": "python",
   "pygments_lexer": "ipython3",
   "version": "3.10.6"
  },
  "vscode": {
   "interpreter": {
    "hash": "916dbcbb3f70747c44a77c7bcd40155683ae19c65e1c03b4aa3499c5328201f1"
   }
  }
 },
 "nbformat": 4,
 "nbformat_minor": 5
}
