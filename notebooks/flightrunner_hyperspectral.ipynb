{
 "cells": [
  {
   "cell_type": "code",
   "execution_count": 1,
   "id": "8397a134-8801-4359-9256-3ed92294f819",
   "metadata": {},
   "outputs": [
    {
     "name": "stdout",
     "output_type": "stream",
     "text": [
      "Requirement already satisfied: gref4hsi==0.2.5 in /opt/conda/lib/python3.10/site-packages (0.2.5)\n",
      "Requirement already satisfied: pykdtree in /opt/conda/lib/python3.10/site-packages (from gref4hsi==0.2.5) (1.3.12)\n",
      "Requirement already satisfied: pyproj in /opt/conda/lib/python3.10/site-packages (from gref4hsi==0.2.5) (3.5.0)\n",
      "Requirement already satisfied: pykrige in /opt/conda/lib/python3.10/site-packages (from gref4hsi==0.2.5) (1.7.2)\n",
      "Requirement already satisfied: shapely in /opt/conda/lib/python3.10/site-packages (from gref4hsi==0.2.5) (2.0.1)\n",
      "Requirement already satisfied: pyvista in /opt/conda/lib/python3.10/site-packages (from gref4hsi==0.2.5) (0.44.1)\n",
      "Requirement already satisfied: rtree in /opt/conda/lib/python3.10/site-packages (from gref4hsi==0.2.5) (1.2.0)\n",
      "Requirement already satisfied: numpy in /opt/conda/lib/python3.10/site-packages (from gref4hsi==0.2.5) (1.26.4)\n",
      "Requirement already satisfied: Pillow in /opt/conda/lib/python3.10/site-packages (from gref4hsi==0.2.5) (10.4.0)\n",
      "Requirement already satisfied: scipy in /opt/conda/lib/python3.10/site-packages (from gref4hsi==0.2.5) (1.14.0)\n",
      "Requirement already satisfied: pymap3d in /opt/conda/lib/python3.10/site-packages (from gref4hsi==0.2.5) (3.1.0)\n",
      "Requirement already satisfied: xmltodict in /opt/conda/lib/python3.10/site-packages (from gref4hsi==0.2.5) (0.13.0)\n",
      "Requirement already satisfied: matplotlib in /opt/conda/lib/python3.10/site-packages (from gref4hsi==0.2.5) (3.6.2)\n",
      "Requirement already satisfied: ephem in /opt/conda/lib/python3.10/site-packages (from gref4hsi==0.2.5) (4.1.5)\n",
      "Requirement already satisfied: pyvistaqt in /opt/conda/lib/python3.10/site-packages (from gref4hsi==0.2.5) (0.11.1)\n",
      "Requirement already satisfied: geopandas in /opt/conda/lib/python3.10/site-packages (from gref4hsi==0.2.5) (0.14.4)\n",
      "Requirement already satisfied: trimesh in /opt/conda/lib/python3.10/site-packages (from gref4hsi==0.2.5) (4.4.9)\n",
      "Requirement already satisfied: spectral in /opt/conda/lib/python3.10/site-packages (from gref4hsi==0.2.5) (0.23.1)\n",
      "Requirement already satisfied: pandas in /opt/conda/lib/python3.10/site-packages (from gref4hsi==0.2.5) (1.5.1)\n",
      "Requirement already satisfied: embreex in /opt/conda/lib/python3.10/site-packages (from gref4hsi==0.2.5) (2.17.7.post5)\n",
      "Requirement already satisfied: scikit-learn in /opt/conda/lib/python3.10/site-packages (from gref4hsi==0.2.5) (1.5.1)\n",
      "Requirement already satisfied: h5py in /opt/conda/lib/python3.10/site-packages (from gref4hsi==0.2.5) (3.7.0)\n",
      "Requirement already satisfied: dill in /opt/conda/lib/python3.10/site-packages (from gref4hsi==0.2.5) (0.3.6)\n",
      "Requirement already satisfied: open3d in /opt/conda/lib/python3.10/site-packages (from gref4hsi==0.2.5) (0.18.0)\n",
      "Requirement already satisfied: opencv-python in /opt/conda/lib/python3.10/site-packages (from gref4hsi==0.2.5) (4.10.0.84)\n",
      "Requirement already satisfied: fiona>=1.8.21 in /opt/conda/lib/python3.10/site-packages (from geopandas->gref4hsi==0.2.5) (1.9.1)\n",
      "Requirement already satisfied: packaging in /opt/conda/lib/python3.10/site-packages (from geopandas->gref4hsi==0.2.5) (24.1)\n",
      "Requirement already satisfied: python-dateutil>=2.8.1 in /opt/conda/lib/python3.10/site-packages (from pandas->gref4hsi==0.2.5) (2.8.2)\n",
      "Requirement already satisfied: pytz>=2020.1 in /opt/conda/lib/python3.10/site-packages (from pandas->gref4hsi==0.2.5) (2022.6)\n",
      "Requirement already satisfied: certifi in /opt/conda/lib/python3.10/site-packages (from pyproj->gref4hsi==0.2.5) (2024.8.30)\n",
      "Requirement already satisfied: contourpy>=1.0.1 in /opt/conda/lib/python3.10/site-packages (from matplotlib->gref4hsi==0.2.5) (1.0.6)\n",
      "Requirement already satisfied: fonttools>=4.22.0 in /opt/conda/lib/python3.10/site-packages (from matplotlib->gref4hsi==0.2.5) (4.38.0)\n",
      "Requirement already satisfied: kiwisolver>=1.0.1 in /opt/conda/lib/python3.10/site-packages (from matplotlib->gref4hsi==0.2.5) (1.4.4)\n",
      "Requirement already satisfied: cycler>=0.10 in /opt/conda/lib/python3.10/site-packages (from matplotlib->gref4hsi==0.2.5) (0.11.0)\n",
      "Requirement already satisfied: pyparsing>=2.2.1 in /opt/conda/lib/python3.10/site-packages (from matplotlib->gref4hsi==0.2.5) (3.0.9)\n",
      "Requirement already satisfied: ipywidgets>=8.0.4 in /opt/conda/lib/python3.10/site-packages (from open3d->gref4hsi==0.2.5) (8.1.5)\n",
      "Requirement already satisfied: werkzeug>=2.2.3 in /opt/conda/lib/python3.10/site-packages (from open3d->gref4hsi==0.2.5) (3.0.3)\n",
      "Requirement already satisfied: tqdm in /opt/conda/lib/python3.10/site-packages (from open3d->gref4hsi==0.2.5) (4.64.1)\n",
      "Requirement already satisfied: nbformat>=5.7.0 in /opt/conda/lib/python3.10/site-packages (from open3d->gref4hsi==0.2.5) (5.7.0)\n",
      "Requirement already satisfied: pyyaml>=5.4.1 in /opt/conda/lib/python3.10/site-packages (from open3d->gref4hsi==0.2.5) (6.0)\n",
      "Requirement already satisfied: dash>=2.6.0 in /opt/conda/lib/python3.10/site-packages (from open3d->gref4hsi==0.2.5) (2.18.0)\n",
      "Requirement already satisfied: pyquaternion in /opt/conda/lib/python3.10/site-packages (from open3d->gref4hsi==0.2.5) (0.9.9)\n",
      "Requirement already satisfied: configargparse in /opt/conda/lib/python3.10/site-packages (from open3d->gref4hsi==0.2.5) (1.7)\n",
      "Requirement already satisfied: addict in /opt/conda/lib/python3.10/site-packages (from open3d->gref4hsi==0.2.5) (2.4.0)\n",
      "Requirement already satisfied: threadpoolctl>=3.1.0 in /opt/conda/lib/python3.10/site-packages (from scikit-learn->gref4hsi==0.2.5) (3.1.0)\n",
      "Requirement already satisfied: joblib>=1.2.0 in /opt/conda/lib/python3.10/site-packages (from scikit-learn->gref4hsi==0.2.5) (1.2.0)\n",
      "Requirement already satisfied: scooby>=0.5.1 in /opt/conda/lib/python3.10/site-packages (from pyvista->gref4hsi==0.2.5) (0.10.0)\n",
      "Requirement already satisfied: typing-extensions in /opt/conda/lib/python3.10/site-packages (from pyvista->gref4hsi==0.2.5) (4.12.2)\n",
      "Requirement already satisfied: vtk in /opt/conda/lib/python3.10/site-packages (from pyvista->gref4hsi==0.2.5) (9.3.1)\n",
      "Requirement already satisfied: pooch in /opt/conda/lib/python3.10/site-packages (from pyvista->gref4hsi==0.2.5) (1.8.2)\n",
      "Requirement already satisfied: QtPy>=1.9.0 in /opt/conda/lib/python3.10/site-packages (from pyvistaqt->gref4hsi==0.2.5) (2.4.1)\n",
      "Requirement already satisfied: nest-asyncio in /opt/conda/lib/python3.10/site-packages (from dash>=2.6.0->open3d->gref4hsi==0.2.5) (1.5.6)\n",
      "Requirement already satisfied: Flask<3.1,>=1.0.4 in /opt/conda/lib/python3.10/site-packages (from dash>=2.6.0->open3d->gref4hsi==0.2.5) (3.0.3)\n",
      "Requirement already satisfied: dash-html-components==2.0.0 in /opt/conda/lib/python3.10/site-packages (from dash>=2.6.0->open3d->gref4hsi==0.2.5) (2.0.0)\n",
      "Requirement already satisfied: setuptools in /opt/conda/lib/python3.10/site-packages (from dash>=2.6.0->open3d->gref4hsi==0.2.5) (65.5.1)\n",
      "Requirement already satisfied: retrying in /opt/conda/lib/python3.10/site-packages (from dash>=2.6.0->open3d->gref4hsi==0.2.5) (1.3.4)\n",
      "Requirement already satisfied: requests in /opt/conda/lib/python3.10/site-packages (from dash>=2.6.0->open3d->gref4hsi==0.2.5) (2.28.1)\n",
      "Requirement already satisfied: dash-core-components==2.0.0 in /opt/conda/lib/python3.10/site-packages (from dash>=2.6.0->open3d->gref4hsi==0.2.5) (2.0.0)\n",
      "Requirement already satisfied: plotly>=5.0.0 in /opt/conda/lib/python3.10/site-packages (from dash>=2.6.0->open3d->gref4hsi==0.2.5) (5.24.0)\n",
      "Requirement already satisfied: dash-table==5.0.0 in /opt/conda/lib/python3.10/site-packages (from dash>=2.6.0->open3d->gref4hsi==0.2.5) (5.0.0)\n",
      "Requirement already satisfied: importlib-metadata in /opt/conda/lib/python3.10/site-packages (from dash>=2.6.0->open3d->gref4hsi==0.2.5) (5.0.0)\n",
      "Requirement already satisfied: munch>=2.3.2 in /opt/conda/lib/python3.10/site-packages (from fiona>=1.8.21->geopandas->gref4hsi==0.2.5) (4.0.0)\n",
      "Requirement already satisfied: cligj>=0.5 in /opt/conda/lib/python3.10/site-packages (from fiona>=1.8.21->geopandas->gref4hsi==0.2.5) (0.7.2)\n",
      "Requirement already satisfied: click~=8.0 in /opt/conda/lib/python3.10/site-packages (from fiona>=1.8.21->geopandas->gref4hsi==0.2.5) (8.1.3)\n",
      "Requirement already satisfied: attrs>=19.2.0 in /opt/conda/lib/python3.10/site-packages (from fiona>=1.8.21->geopandas->gref4hsi==0.2.5) (22.1.0)\n",
      "Requirement already satisfied: click-plugins>=1.0 in /opt/conda/lib/python3.10/site-packages (from fiona>=1.8.21->geopandas->gref4hsi==0.2.5) (1.1.1)\n",
      "Requirement already satisfied: ipython>=6.1.0 in /opt/conda/lib/python3.10/site-packages (from ipywidgets>=8.0.4->open3d->gref4hsi==0.2.5) (8.6.0)\n",
      "Requirement already satisfied: widgetsnbextension~=4.0.12 in /opt/conda/lib/python3.10/site-packages (from ipywidgets>=8.0.4->open3d->gref4hsi==0.2.5) (4.0.13)\n",
      "Requirement already satisfied: traitlets>=4.3.1 in /opt/conda/lib/python3.10/site-packages (from ipywidgets>=8.0.4->open3d->gref4hsi==0.2.5) (5.14.3)\n",
      "Requirement already satisfied: jupyterlab-widgets~=3.0.12 in /opt/conda/lib/python3.10/site-packages (from ipywidgets>=8.0.4->open3d->gref4hsi==0.2.5) (3.0.13)\n",
      "Requirement already satisfied: comm>=0.1.3 in /opt/conda/lib/python3.10/site-packages (from ipywidgets>=8.0.4->open3d->gref4hsi==0.2.5) (0.2.2)\n",
      "Requirement already satisfied: jsonschema>=2.6 in /opt/conda/lib/python3.10/site-packages (from nbformat>=5.7.0->open3d->gref4hsi==0.2.5) (4.17.0)\n",
      "Requirement already satisfied: jupyter-core in /opt/conda/lib/python3.10/site-packages (from nbformat>=5.7.0->open3d->gref4hsi==0.2.5) (5.7.2)\n",
      "Requirement already satisfied: fastjsonschema in /opt/conda/lib/python3.10/site-packages (from nbformat>=5.7.0->open3d->gref4hsi==0.2.5) (2.20.0)\n",
      "Requirement already satisfied: six>=1.5 in /opt/conda/lib/python3.10/site-packages (from python-dateutil>=2.8.1->pandas->gref4hsi==0.2.5) (1.16.0)\n",
      "Requirement already satisfied: MarkupSafe>=2.1.1 in /opt/conda/lib/python3.10/site-packages (from werkzeug>=2.2.3->open3d->gref4hsi==0.2.5) (2.1.1)\n",
      "Requirement already satisfied: platformdirs>=2.5.0 in /opt/conda/lib/python3.10/site-packages (from pooch->pyvista->gref4hsi==0.2.5) (4.2.2)\n",
      "Requirement already satisfied: itsdangerous>=2.1.2 in /opt/conda/lib/python3.10/site-packages (from Flask<3.1,>=1.0.4->dash>=2.6.0->open3d->gref4hsi==0.2.5) (2.2.0)\n",
      "Requirement already satisfied: blinker>=1.6.2 in /opt/conda/lib/python3.10/site-packages (from Flask<3.1,>=1.0.4->dash>=2.6.0->open3d->gref4hsi==0.2.5) (1.8.2)\n",
      "Requirement already satisfied: Jinja2>=3.1.2 in /opt/conda/lib/python3.10/site-packages (from Flask<3.1,>=1.0.4->dash>=2.6.0->open3d->gref4hsi==0.2.5) (3.1.2)\n",
      "Requirement already satisfied: matplotlib-inline in /opt/conda/lib/python3.10/site-packages (from ipython>=6.1.0->ipywidgets>=8.0.4->open3d->gref4hsi==0.2.5) (0.1.6)\n",
      "Requirement already satisfied: prompt-toolkit<3.1.0,>3.0.1 in /opt/conda/lib/python3.10/site-packages (from ipython>=6.1.0->ipywidgets>=8.0.4->open3d->gref4hsi==0.2.5) (3.0.32)\n",
      "Requirement already satisfied: decorator in /opt/conda/lib/python3.10/site-packages (from ipython>=6.1.0->ipywidgets>=8.0.4->open3d->gref4hsi==0.2.5) (5.1.1)\n",
      "Requirement already satisfied: backcall in /opt/conda/lib/python3.10/site-packages (from ipython>=6.1.0->ipywidgets>=8.0.4->open3d->gref4hsi==0.2.5) (0.2.0)\n",
      "Requirement already satisfied: stack-data in /opt/conda/lib/python3.10/site-packages (from ipython>=6.1.0->ipywidgets>=8.0.4->open3d->gref4hsi==0.2.5) (0.6.0)\n",
      "Requirement already satisfied: pickleshare in /opt/conda/lib/python3.10/site-packages (from ipython>=6.1.0->ipywidgets>=8.0.4->open3d->gref4hsi==0.2.5) (0.7.5)\n",
      "Requirement already satisfied: jedi>=0.16 in /opt/conda/lib/python3.10/site-packages (from ipython>=6.1.0->ipywidgets>=8.0.4->open3d->gref4hsi==0.2.5) (0.17.2)\n",
      "Requirement already satisfied: pexpect>4.3 in /opt/conda/lib/python3.10/site-packages (from ipython>=6.1.0->ipywidgets>=8.0.4->open3d->gref4hsi==0.2.5) (4.8.0)\n",
      "Requirement already satisfied: pygments>=2.4.0 in /opt/conda/lib/python3.10/site-packages (from ipython>=6.1.0->ipywidgets>=8.0.4->open3d->gref4hsi==0.2.5) (2.13.0)\n",
      "Requirement already satisfied: pyrsistent!=0.17.0,!=0.17.1,!=0.17.2,>=0.14.0 in /opt/conda/lib/python3.10/site-packages (from jsonschema>=2.6->nbformat>=5.7.0->open3d->gref4hsi==0.2.5) (0.19.2)\n",
      "Requirement already satisfied: tenacity>=6.2.0 in /opt/conda/lib/python3.10/site-packages (from plotly>=5.0.0->dash>=2.6.0->open3d->gref4hsi==0.2.5) (8.4.2)\n",
      "Requirement already satisfied: charset-normalizer<3,>=2 in /opt/conda/lib/python3.10/site-packages (from requests->dash>=2.6.0->open3d->gref4hsi==0.2.5) (2.1.1)\n",
      "Requirement already satisfied: urllib3<1.27,>=1.21.1 in /opt/conda/lib/python3.10/site-packages (from requests->dash>=2.6.0->open3d->gref4hsi==0.2.5) (1.26.11)\n",
      "Requirement already satisfied: idna<4,>=2.5 in /opt/conda/lib/python3.10/site-packages (from requests->dash>=2.6.0->open3d->gref4hsi==0.2.5) (3.4)\n",
      "Requirement already satisfied: zipp>=0.5 in /opt/conda/lib/python3.10/site-packages (from importlib-metadata->dash>=2.6.0->open3d->gref4hsi==0.2.5) (3.10.0)\n",
      "Requirement already satisfied: parso<0.8.0,>=0.7.0 in /opt/conda/lib/python3.10/site-packages (from jedi>=0.16->ipython>=6.1.0->ipywidgets>=8.0.4->open3d->gref4hsi==0.2.5) (0.7.1)\n",
      "Requirement already satisfied: ptyprocess>=0.5 in /opt/conda/lib/python3.10/site-packages (from pexpect>4.3->ipython>=6.1.0->ipywidgets>=8.0.4->open3d->gref4hsi==0.2.5) (0.7.0)\n",
      "Requirement already satisfied: wcwidth in /opt/conda/lib/python3.10/site-packages (from prompt-toolkit<3.1.0,>3.0.1->ipython>=6.1.0->ipywidgets>=8.0.4->open3d->gref4hsi==0.2.5) (0.2.5)\n",
      "Requirement already satisfied: pure-eval in /opt/conda/lib/python3.10/site-packages (from stack-data->ipython>=6.1.0->ipywidgets>=8.0.4->open3d->gref4hsi==0.2.5) (0.2.2)\n",
      "Requirement already satisfied: executing>=1.2.0 in /opt/conda/lib/python3.10/site-packages (from stack-data->ipython>=6.1.0->ipywidgets>=8.0.4->open3d->gref4hsi==0.2.5) (1.2.0)\n",
      "Requirement already satisfied: asttokens>=2.1.0 in /opt/conda/lib/python3.10/site-packages (from stack-data->ipython>=6.1.0->ipywidgets>=8.0.4->open3d->gref4hsi==0.2.5) (2.1.0)\n",
      "Requirement already satisfied: rad4sea==0.0.3 in /opt/conda/lib/python3.10/site-packages (0.0.3)\n",
      "Requirement already satisfied: tqdm in /opt/conda/lib/python3.10/site-packages (from rad4sea==0.0.3) (4.64.1)\n",
      "Requirement already satisfied: py6s in /opt/conda/lib/python3.10/site-packages (from rad4sea==0.0.3) (1.9.2)\n",
      "Requirement already satisfied: numpy in /opt/conda/lib/python3.10/site-packages (from rad4sea==0.0.3) (1.26.4)\n",
      "Requirement already satisfied: spectral in /opt/conda/lib/python3.10/site-packages (from rad4sea==0.0.3) (0.23.1)\n",
      "Requirement already satisfied: pysolar>=0.9 in /opt/conda/lib/python3.10/site-packages (from py6s->rad4sea==0.0.3) (0.11)\n",
      "Requirement already satisfied: scipy in /opt/conda/lib/python3.10/site-packages (from py6s->rad4sea==0.0.3) (1.14.0)\n"
     ]
    }
   ],
   "source": [
    "\n",
    "\n",
    "!pip install gref4hsi==0.2.5\n",
    "\n",
    "import sys\n",
    "import os\n",
    "\n",
    "# Uncomment this block if developing on the gref4hsi\n",
    "\"\"\"\n",
    "!pip uninstall gref4hsi\n",
    "home_path = \"/home/fc-3auid-3af522edce-2ddb4d-2d4b8c-2d8500-2df5376270c3e0\"\n",
    "module_path = os.path.join(home_path, \"gitprojects/gref4hsi\")  # Replace with the actual path\n",
    "sys.path.append(module_path)\n",
    "import gref4hsi # Ensure that module is installed correctly, will throw error otherwize\n",
    "\"\"\"\n",
    "# Install py6s using conda (assuming mamba is a conda alias)\n",
    "try:\n",
    "    import Py6S\n",
    "except ImportError:\n",
    "    !mamba install -y py6s\n",
    "\n",
    "!pip install rad4sea==0.0.3"
   ]
  },
  {
   "cell_type": "code",
   "execution_count": 2,
   "id": "48fed5a7-ef9c-4eef-81fd-80a029192e04",
   "metadata": {},
   "outputs": [
    {
     "name": "stdout",
     "output_type": "stream",
     "text": [
      "['/home/fc-3auid-3af522edce-2ddb4d-2d4b8c-2d8500-2df5376270c3e0/gitprojects/seabeepy/notebooks', '/opt/conda/lib/python310.zip', '/opt/conda/lib/python3.10', '/opt/conda/lib/python3.10/lib-dynload', '', '/opt/conda/lib/python3.10/site-packages']\n"
     ]
    }
   ],
   "source": [
    "print(sys.path)"
   ]
  },
  {
   "cell_type": "code",
   "execution_count": 3,
   "id": "0af93a87-9797-40fe-8a5f-b32002207169",
   "metadata": {},
   "outputs": [
    {
     "name": "stdout",
     "output_type": "stream",
     "text": [
      "Jupyter environment detected. Enabling Open3D WebVisualizer.\n",
      "[Open3D INFO] WebRTC GUI backend enabled.\n",
      "[Open3D INFO] WebRTCWindowSystem: HTTP handshake server disabled.\n"
     ]
    }
   ],
   "source": [
    "\n",
    "\n",
    "# Standard python library\n",
    "import configparser\n",
    "import sys\n",
    "import os\n",
    "import argparse\n",
    "from collections import namedtuple\n",
    "\n",
    "# Local resources\n",
    "from gref4hsi.scripts import georeference\n",
    "from gref4hsi.scripts import orthorectification\n",
    "from gref4hsi.scripts import coregistration\n",
    "from gref4hsi.utils import parsing_utils, specim_parsing_utils\n",
    "from gref4hsi.utils import visualize\n",
    "from gref4hsi.utils.config_utils import prepend_data_dir_to_relative_paths\n",
    "from gref4hsi.utils.config_utils import customize_config\n",
    "\n",
    "# Third party\n",
    "import numpy as np"
   ]
  },
  {
   "cell_type": "code",
   "execution_count": 4,
   "id": "07bb1fea-0c10-4e2a-9431-22b74b638ddb",
   "metadata": {},
   "outputs": [],
   "source": [
    "# From seabeepy/notebooks/flight_runner\n",
    "import datetime as dt\n",
    "import os\n",
    "from pathlib import Path\n",
    "\n",
    "from seabeepy.config import SETTINGS\n",
    "from pyodm import Node\n",
    "from subprocess import CalledProcessError\n",
    "\n",
    "import seabeepy as sb\n",
    "import rad4sea"
   ]
  },
  {
   "cell_type": "code",
   "execution_count": 5,
   "id": "c9f66eef-7fbd-4efd-9cbe-91007d1c6917",
   "metadata": {
    "tags": []
   },
   "outputs": [],
   "source": [
    "\n",
    "\n",
    "# Login to MinIO\n",
    "minio_client = sb.storage.minio_login(\n",
    "    user=SETTINGS.MINIO_ACCESS_ID, password=SETTINGS.MINIO_SECRET_KEY\n",
    ")\n",
    "\n"
   ]
  },
  {
   "cell_type": "code",
   "execution_count": 6,
   "id": "9fe9281e-4706-4e06-b944-dfd7c783d93d",
   "metadata": {},
   "outputs": [],
   "source": [
    "# Parent directories containing flight folders to process\n",
    "base_dirs = [\n",
    "    r\"/home/notebook/shared-seabee-ns9879k/ntnu\",\n",
    "]\n",
    "\n",
    "# Directory for temporary files\n",
    "temp_dir = r\"/home/notebook/cogs\""
   ]
  },
  {
   "cell_type": "code",
   "execution_count": 7,
   "id": "671c7d5b-d8f8-429b-9cd8-afd9f46b8ce0",
   "metadata": {},
   "outputs": [
    {
     "name": "stdout",
     "output_type": "stream",
     "text": [
      "Processing started: 2024-09-06 11:12:09.565433\n"
     ]
    }
   ],
   "source": [
    "# Run info\n",
    "run_date = dt.datetime.today()\n",
    "print(f\"Processing started: {run_date}\")"
   ]
  },
  {
   "cell_type": "code",
   "execution_count": 8,
   "id": "77ca6de5-e204-43fd-998c-53a8e68876f4",
   "metadata": {},
   "outputs": [],
   "source": [
    "# Get all potential mission folders for NodeODM\n",
    "# (i.e. folders containing a 'config.seabee.yaml' and an 'capture' subdirectory, but NOT a 'processed' directory)\n",
    "mission_list = [\n",
    "    f.parent\n",
    "    for base_dir in base_dirs\n",
    "    for f in Path(base_dir).rglob(\"config.seabee.yaml\")\n",
    "    if sb.ortho.check_subdir_exists(f.parent, \"capture\")\n",
    "    and not sb.ortho.check_subdir_exists(f.parent, \"processed\")\n",
    "]"
   ]
  },
  {
   "cell_type": "code",
   "execution_count": 9,
   "id": "914cbf91-d613-4f3d-9c2a-ab404424f2be",
   "metadata": {},
   "outputs": [
    {
     "data": {
      "text/plain": [
       "[PosixPath('/home/notebook/shared-seabee-ns9879k/ntnu/2022/2022-09-01-Runde/runde_2022090114225_ntnu_hyperspectral_74m')]"
      ]
     },
     "execution_count": 9,
     "metadata": {},
     "output_type": "execute_result"
    }
   ],
   "source": [
    "mission_list"
   ]
  },
  {
   "cell_type": "code",
   "execution_count": 10,
   "id": "aec010b3-a209-4291-b465-cb4f295b6e85",
   "metadata": {},
   "outputs": [],
   "source": [
    "# Establish the ancillary data paths, copy to local work space and \n",
    "from pathlib import Path\n",
    "import shutil\n",
    "\n",
    "geoid_path_minio = Path('/home/notebook/shared-seabee-ns9879k/ntnu/specim_processing_data/geoids/no_kv_HREF2018A_NN2000_EUREF89.tif')\n",
    "config_template_path_minio = Path('/home/notebook/shared-seabee-ns9879k/ntnu/specim_processing_data/configuration_specim.ini')\n",
    "lab_calibration_path_minio = Path('/home/notebook/shared-seabee-ns9879k/ntnu/specim_processing_data/Lab_Calibrations')\n",
    "\n",
    "# Local path geoid\n",
    "geoid_path = os.path.join(temp_dir, \"no_kv_HREF2018A_NN2000_EUREF89.tif\")\n",
    "try:\n",
    "    shutil.copyfile(geoid_path_minio, geoid_path)\n",
    "except FileExistsError:\n",
    "    pass\n",
    "\n",
    "# Local path for configuration file\n",
    "config_template_path = os.path.join(temp_dir, \"config_template_path_specim.ini\")\n",
    "try:\n",
    "    shutil.copyfile(config_template_path_minio, config_template_path)\n",
    "except FileExistsError:\n",
    "    pass\n",
    "\n",
    "# Local path for lab calibration\n",
    "lab_calibration_path = os.path.join(temp_dir, \"lab-calibration\")\n",
    "try:\n",
    "    shutil.copytree(lab_calibration_path_minio, lab_calibration_path)\n",
    "except FileExistsError:\n",
    "    pass"
   ]
  },
  {
   "cell_type": "code",
   "execution_count": 11,
   "id": "bf2cf748-2313-49e9-b535-9f1b56abc48e",
   "metadata": {},
   "outputs": [
    {
     "name": "stdout",
     "output_type": "stream",
     "text": [
      "\n",
      "################\n",
      "Processing: runde_2022090114225_ntnu_hyperspectral_74m\n",
      "Copying file\n",
      "DEM folder does not exist so Geoid is used as terrain instead\n",
      "Coregistration is not done, as there was no reference orthomosaic\n"
     ]
    },
    {
     "name": "stderr",
     "output_type": "stream",
     "text": [
      "/opt/conda/lib/python3.10/site-packages/spectral/io/envi.py:175: UserWarning: Parameters with non-lowercase names encountered and converted to lowercase. To retain source file parameter name capitalization, set spectral.settings.envi_support_nonlowercase_params to True.\n",
      "  warnings.warn(msg)\n",
      "Computing 2D Triangulation: 100%|██████████[00:00<00:00]\n"
     ]
    },
    {
     "name": "stdout",
     "output_type": "stream",
     "text": [
      "\n",
      "################ Georeferencing with a Brake: ################\n",
      "runde_2022090114225_ntnu_hyperspectral_74m_transectnr_0_chunknr_0.h5\n",
      "Georeferencing file 1/8, progress is 0.0 %\n",
      "All rays were successfully intersected with trimesh\n",
      "Mesh translation is [2948713.57667742  291573.47080665 5629184.21874757]\n",
      "runde_2022090114225_ntnu_hyperspectral_74m_transectnr_1_chunknr_0.h5\n",
      "Georeferencing file 2/8, progress is 12.5 %\n",
      "All rays were successfully intersected with trimesh\n",
      "Mesh translation is [2948713.57667742  291573.47080665 5629184.21874757]\n",
      "runde_2022090114225_ntnu_hyperspectral_74m_transectnr_2_chunknr_0.h5\n",
      "Georeferencing file 3/8, progress is 25.0 %\n",
      "All rays were successfully intersected with trimesh\n",
      "Mesh translation is [2948713.57667742  291573.47080665 5629184.21874757]\n",
      "runde_2022090114225_ntnu_hyperspectral_74m_transectnr_3_chunknr_0.h5\n",
      "Georeferencing file 4/8, progress is 37.5 %\n",
      "All rays were successfully intersected with trimesh\n",
      "Mesh translation is [2948713.57667742  291573.47080665 5629184.21874757]\n",
      "runde_2022090114225_ntnu_hyperspectral_74m_transectnr_4_chunknr_0.h5\n",
      "Georeferencing file 5/8, progress is 50.0 %\n",
      "All rays were successfully intersected with trimesh\n",
      "Mesh translation is [2948713.57667742  291573.47080665 5629184.21874757]\n",
      "runde_2022090114225_ntnu_hyperspectral_74m_transectnr_5_chunknr_0.h5\n",
      "Georeferencing file 6/8, progress is 62.5 %\n",
      "All rays were successfully intersected with trimesh\n",
      "Mesh translation is [2948713.57667742  291573.47080665 5629184.21874757]\n",
      "runde_2022090114225_ntnu_hyperspectral_74m_transectnr_6_chunknr_0.h5\n",
      "Georeferencing file 7/8, progress is 75.0 %\n",
      "Trimesh failed to find intersections for 1419264 rays\n",
      "Ray tracing for these rays is retried in pyvista\n",
      "Skipping transect chuck because of lacking intersections: runde_2022090114225_ntnu_hyperspectral_74m_transectnr_6_chunknr_0.h5\n",
      "runde_2022090114225_ntnu_hyperspectral_74m_transectnr_7_chunknr_0.h5\n",
      "Georeferencing file 7/8, progress is 75.0 %\n",
      "Trimesh failed to find intersections for 1481728 rays\n",
      "Ray tracing for these rays is retried in pyvista\n",
      "Skipping transect chuck because of lacking intersections: runde_2022090114225_ntnu_hyperspectral_74m_transectnr_7_chunknr_0.h5\n",
      "\n",
      "################ Orthorectifying: ################\n",
      "Orthorectifying file 1/8, progress is 0.0 %\n",
      "Orthorectifying file 2/8, progress is 12.5 %\n",
      "Orthorectifying file 3/8, progress is 25.0 %\n",
      "Orthorectifying file 4/8, progress is 37.5 %\n",
      "Orthorectifying file 5/8, progress is 50.0 %\n",
      "Orthorectifying file 6/8, progress is 62.5 %\n",
      "Orthorectifying file 7/8, progress is 75.0 %\n",
      "Because chunk failed ray tracing, it is not orthorectified\n",
      "Orthorectifying file 7/8, progress is 75.0 %\n",
      "Because chunk failed ray tracing, it is not orthorectified\n"
     ]
    }
   ],
   "source": [
    "%load_ext autoreload\n",
    "%autoreload 2\n",
    "\n",
    "import shutil\n",
    "\n",
    "import process_hyperspectral\n",
    "\n",
    "# Convenient for development, effectively avoiding kernel restart\n",
    "import importlib\n",
    "importlib.reload(process_hyperspectral)\n",
    "\n",
    "# Process missions in the list\n",
    "for specim_mission_folder_minio in mission_list:\n",
    "\n",
    "    mission_name = specim_mission_folder_minio.name\n",
    "    print(f\"\\n################\\nProcessing: {mission_name}\")\n",
    "\n",
    "    specim_mission_folder = os.path.join(temp_dir, specim_mission_folder_minio.name)\n",
    "\n",
    "    # Copy to local fs if not there already\n",
    "    try:\n",
    "        print('Copying file')\n",
    "        shutil.copytree(specim_mission_folder_minio, specim_mission_folder)\n",
    "    except FileExistsError:\n",
    "        pass\n",
    "\n",
    "    # The config file is read\n",
    "    config_yaml = os.path.join(specim_mission_folder, \"config.seabee.yaml\")\n",
    "\n",
    "    # Specim processing to get georeferenced radiance data\n",
    "    # Setting fast_mode to true can be smart for development purposes as it creates a coarse image\n",
    "    process_hyperspectral.main(str(config_yaml), \n",
    "                        str(specim_mission_folder), \n",
    "                        geoid_path, \n",
    "                        config_template_path, \n",
    "                        lab_calibration_path,\n",
    "                        fast_mode = False)\n",
    "\n"
   ]
  },
  {
   "cell_type": "markdown",
   "id": "f67a109a-5452-453d-88c0-ff978ac77039",
   "metadata": {
    "tags": []
   },
   "source": [
    "## 3. Convert radiance data into reflectance by division with simulated spectrum from Py6S"
   ]
  },
  {
   "cell_type": "code",
   "execution_count": 17,
   "id": "ba22e880-f2f0-43f1-be4c-7a571636004d",
   "metadata": {},
   "outputs": [
    {
     "name": "stdout",
     "output_type": "stream",
     "text": [
      "/home/notebook/cogs/runde_2022090114225_ntnu_hyperspectral_74m\n",
      "2022-09-01 12:27:25\n",
      "2022-09-01\n",
      "5.657378112617663, 62.392742604072794, 0.07437044209753306\n"
     ]
    },
    {
     "name": "stderr",
     "output_type": "stream",
     "text": [
      "100%|██████████| 1420/1420 [03:56<00:00,  6.01it/s]\n"
     ]
    },
    {
     "name": "stdout",
     "output_type": "stream",
     "text": [
      "2022-09-01 12:30:02\n",
      "2022-09-01\n",
      "5.654815846304763, 62.39312721035097, 0.07500328768056067\n"
     ]
    },
    {
     "name": "stderr",
     "output_type": "stream",
     "text": [
      "100%|██████████| 1420/1420 [03:56<00:00,  6.00it/s]\n"
     ]
    },
    {
     "name": "stdout",
     "output_type": "stream",
     "text": [
      "2022-09-01 12:24:47\n",
      "2022-09-01\n",
      "5.658855392396938, 62.392865505817824, 0.07520167062116188\n"
     ]
    },
    {
     "name": "stderr",
     "output_type": "stream",
     "text": [
      "100%|██████████| 1420/1420 [03:55<00:00,  6.04it/s]\n"
     ]
    },
    {
     "name": "stdout",
     "output_type": "stream",
     "text": [
      "2022-09-01 12:35:23\n",
      "2022-09-01\n",
      "5.654535849701914, 62.39192392176267, 0.07367851347932818\n"
     ]
    },
    {
     "name": "stderr",
     "output_type": "stream",
     "text": [
      "100%|██████████| 1420/1420 [03:55<00:00,  6.02it/s]\n"
     ]
    },
    {
     "name": "stdout",
     "output_type": "stream",
     "text": [
      "2022-09-01 12:32:46\n",
      "2022-09-01\n",
      "5.6570636594042325, 62.391510489484034, 0.07367331815978945\n"
     ]
    },
    {
     "name": "stderr",
     "output_type": "stream",
     "text": [
      "100%|██████████| 1420/1420 [03:57<00:00,  5.99it/s]\n"
     ]
    },
    {
     "name": "stdout",
     "output_type": "stream",
     "text": [
      "2022-09-01 12:22:45\n",
      "2022-09-01\n",
      "5.656197852432262, 62.394376632549886, 0.0794675945517747\n"
     ]
    },
    {
     "name": "stderr",
     "output_type": "stream",
     "text": [
      "100%|██████████| 1420/1420 [03:56<00:00,  6.01it/s]\n"
     ]
    }
   ],
   "source": [
    "# Raster and ancillary (\n",
    "import rasterio\n",
    "from rasterio.plot import show\n",
    "import spectral as sp\n",
    "import shutil\n",
    "\n",
    "import glob\n",
    "\n",
    "# Uncomment if you are doing module development\n",
    "\"\"\"\n",
    "module_path = os.path.join('/home/notebook/', 'gitprojects/rad4sea/')\n",
    "if module_path not in sys.path:\n",
    "    sys.path.append(module_path)\n",
    "\"\"\"\n",
    "\n",
    "import rad4sea\n",
    "import rad2refl\n",
    "\n",
    "import importlib\n",
    "importlib.reload(rad4sea)\n",
    "importlib.reload(rad2refl)\n",
    "\n",
    "# The radiance multiplier for the specim afx10 relative to unit of W/(m^2*sr*nm)\n",
    "radiance_multiplier_specim = (1 / 1000) #(mW/cm^2*sr*um)*1000.0000 ->(mW/cm^2*sr*um)\n",
    "radiance_multiplier_specim *= (1e-3 / 1e-4) #(mW/cm^2*sr*um) -> (W/m^2*sr*um)\n",
    "radiance_multiplier_specim *= (1 / 1e3) # (W/m^2*sr*um) -> (W/m^2*sr*nm)\n",
    "\n",
    "\n",
    "\n",
    "for specim_mission_folder_minio in mission_list:\n",
    "\n",
    "    # Select a particular transect datacube:\n",
    "    specim_mission_folder = os.path.join(temp_dir, specim_mission_folder_minio.name)\n",
    "\n",
    "    print(specim_mission_folder)\n",
    "\n",
    "    # Where the cube and anc data are\n",
    "    \n",
    "    if os.path.exists( os.path.join(specim_mission_folder, \"processed/Output/GIS/\") ):\n",
    "        cube_folder = os.path.join(specim_mission_folder, \"processed/Output/GIS/HSIDatacubes/\")\n",
    "        anc_folder = os.path.join(specim_mission_folder, \"processed/Output/GIS/AncillaryData/\")\n",
    "    else:\n",
    "        # If already processed and reflectance processing is to be conducted with overwriting\n",
    "        cube_folder = os.path.join(specim_mission_folder, \"processed/cubes\")\n",
    "        anc_folder = os.path.join(specim_mission_folder, \"processed/ancillary\")\n",
    "        \n",
    "    # Make copies of radiance data for manipulation\n",
    "    for filename in os.listdir(cube_folder):\n",
    "        if filename.lower().endswith(\".img\") or filename.lower().endswith(\".hdr\"):  # Check for lowercase extension\n",
    "            base, ext = os.path.splitext(filename)  # Separate base name and extension\n",
    "\n",
    "            if base.split('_')[-1] == 'reflectance':\n",
    "                pass\n",
    "            else:\n",
    "                new_filename = f\"{base}_reflectance{ext}\"  # Construct new filename with suffix\n",
    "                source_file = os.path.join(cube_folder, filename)\n",
    "                destination_file = os.path.join(cube_folder, new_filename)\n",
    "                # Copy the file\n",
    "                \n",
    "                shutil.copyfile(source_file, destination_file)\n",
    "\n",
    "    # We only modulate the copy of the data (with _reflectance suffix)\n",
    "    cube_hdr_list = glob.glob(cube_folder + '/*_reflectance.hdr')\n",
    "\n",
    "    # Simulates downwelling irradiance and computes remote sensing reflectance \n",
    "    rad2refl.main(anc_folder = anc_folder, cube_list_refl = cube_hdr_list, cube_folder = cube_folder, radiance_multiplier=radiance_multiplier_specim)\n",
    "\n"
   ]
  },
  {
   "cell_type": "code",
   "execution_count": 18,
   "id": "7d43a47a-6db1-4deb-b8ab-70343b98636e",
   "metadata": {},
   "outputs": [
    {
     "data": {
      "text/plain": [
       "[PosixPath('/home/notebook/shared-seabee-ns9879k/ntnu/2022/2022-09-01-Runde/runde_2022090114225_ntnu_hyperspectral_74m')]"
      ]
     },
     "execution_count": 18,
     "metadata": {},
     "output_type": "execute_result"
    }
   ],
   "source": [
    "mission_list\n"
   ]
  },
  {
   "cell_type": "code",
   "execution_count": 19,
   "id": "910b94b1-6a05-4316-afd4-b8a9692b61da",
   "metadata": {},
   "outputs": [],
   "source": [
    "\"\"\"A simple demonstration of the data for a transect showing radiance, reflectance and an RGB composite\"\"\"\n",
    "\n",
    "# Try to visualize \n",
    "try:\n",
    "    specim_mission_folder_minio = mission_list[0]\n",
    "    specim_mission_folder = os.path.join(temp_dir, specim_mission_folder_minio.name)\n",
    "    cube_folder = os.path.join(specim_mission_folder, \"processed/Output/GIS/HSIDatacubes/\")\n",
    "    anc_folder = os.path.join(specim_mission_folder, \"processed/Output/GIS/AncillaryData/\")\n",
    "\n",
    "    cube_hdr_list = glob.glob(cube_folder + '/*_reflectance.hdr')\n",
    "    import matplotlib.pyplot as plt\n",
    "\n",
    "    # Example plotting of radiance data\n",
    "    refl_image_obj = sp.io.envi.open(cube_hdr_list[0])\n",
    "\n",
    "\n",
    "    band_im_refl = refl_image_obj[:, :, 100]\n",
    "    nodata = float(refl_image_obj.metadata['data ignore value'])\n",
    "    wl = np.array(refl_image_obj.metadata[\"wavelengths\"]).astype(np.float64)\n",
    "\n",
    "    valids = (band_im_refl != nodata).squeeze()\n",
    "\n",
    "    n_rows, n_cols, _ = band_im_refl.shape\n",
    "\n",
    "    row_indices = np.repeat(np.arange(n_rows).reshape((-1, 1)), n_cols, axis = 1)\n",
    "    col_indices = np.repeat(np.arange(n_cols).reshape((1, -1)), n_rows, axis = 0)\n",
    "    #print(row_indices.shape)\n",
    "    row_valids = row_indices[valids]\n",
    "    col_valids = col_indices[valids]\n",
    "\n",
    "    n_valids = row_valids.size\n",
    "    spec_idx_example = int(n_valids/2) # Some random spectrum in the image. Index can be from 0 to n_valids\n",
    "\n",
    "\n",
    "    print(cube_hdr_list[0])\n",
    "    plt.plot(wl, refl_image_obj[row_valids[spec_idx_example], col_valids[spec_idx_example], :].flatten())\n",
    "    plt.ylabel('Remote sensing reflectance [1/sr]')\n",
    "    plt.xlabel('Nanometers [nm]')\n",
    "    plt.show()\n",
    "\n",
    "    rad_image_obj = sp.io.envi.open('_'.join(cube_hdr_list[0].split('_')[0:-1]) + '.hdr') \n",
    "    rad_specim_example = rad_image_obj[row_valids[spec_idx_example], col_valids[spec_idx_example], :].flatten()\n",
    "    plt.plot(wl, rad_specim_example*radiance_multiplier_specim)\n",
    "    plt.ylabel('Radiance [mW/(m$^2$ sr nm)]')\n",
    "    plt.xlabel('Nanometers [nm]')\n",
    "    plt.show()\n",
    "\n",
    "    pad = 10\n",
    "    rows_zoom = np.arange(row_valids[spec_idx_example]-pad, row_valids[spec_idx_example]+pad)\n",
    "    cols_zoom = np.arange(col_valids[spec_idx_example]-pad, col_valids[spec_idx_example]+pad)\n",
    "\n",
    "\n",
    "\n",
    "    RGB = refl_image_obj[:, :, [73, 50, 24]]\n",
    "\n",
    "    RGB.shape\n",
    "\n",
    "    # Emulates a gamma stretch to bring out contrast in dark areas\n",
    "    plt.imshow((RGB/RGB.max())**0.44, vmin = 0)\n",
    "    plt.scatter(row_valids[spec_idx_example], col_valids[spec_idx_example], label = 'Sample spectrum')\n",
    "    plt.legend()\n",
    "    plt.show()\n",
    "except:\n",
    "    pass    \n",
    "\n",
    "\n"
   ]
  },
  {
   "cell_type": "markdown",
   "id": "b5eae8f9-87d4-4185-b1e9-64cd87a89707",
   "metadata": {
    "tags": []
   },
   "source": [
    "## 4. Transfer to MinIO and Publish to GeoNode"
   ]
  },
  {
   "cell_type": "markdown",
   "id": "36b7fccb-dea0-4778-ae69-6efecb59c3e0",
   "metadata": {},
   "source": [
    "### 4.1 Convert RGB composites into one one mosaic (no fancy stretching or similar yet)\n"
   ]
  },
  {
   "cell_type": "code",
   "execution_count": 20,
   "id": "4952d782-3412-4121-83c5-91cca53e9f64",
   "metadata": {},
   "outputs": [],
   "source": [
    "from osgeo import gdal\n",
    "import rasterio as rio\n",
    "\n",
    "def merge_rasters(raster_file_list, output_file):\n",
    "    \"\"\"Merges the geotif files in a directory into one geoTIF\"\"\"\n",
    "    ds_lst = list()\n",
    "    for raster in raster_file_list:\n",
    "        ds = gdal.Warp('', raster, format='vrt')\n",
    "        ds_lst.append(ds)\n",
    "    dataset = gdal.BuildVRT('', ds_lst)\n",
    "    ds1 = gdal.Translate(output_file, dataset)\n",
    "    del ds1  \n",
    "    del dataset\n",
    "    # Add band info if not there yet\n",
    "    with rio.open(output_file, \"r+\") as src:\n",
    "        if any(val is None for val in src.descriptions):\n",
    "            src.descriptions = (\"red\", \"green\", \"blue\")\n",
    "    \n",
    "    return output_file"
   ]
  },
  {
   "cell_type": "code",
   "execution_count": 21,
   "id": "7a4d885c-f1a4-4d63-98a4-eb177b519ff3",
   "metadata": {},
   "outputs": [],
   "source": [
    "import numpy as np\n",
    "\n",
    "def gamma_transform(data, gamma=0.44, min_prc = 2, max_prc = 98):\n",
    "    \"\"\"Applies gamma transformation to data.\n",
    "\n",
    "    Args:\n",
    "        data: Input 3 band radiance data.\n",
    "        gamma: Gamma value for the transformation.\n",
    "\n",
    "    Returns:\n",
    "        Gamma-transformed 8-bit data array.\n",
    "    \"\"\"\n",
    "    \n",
    "    data_min_prc = np.percentile(data, min_prc)\n",
    "    \n",
    "    data_max_prc = np.percentile(data, max_prc)\n",
    "    \n",
    "    norm_data = (data-data.min())/(data.max()-data.min())\n",
    "    \n",
    "    # Mapping that enhances dark areas if gamma < 1\n",
    "    gamma_data = (norm_data**gamma) * 255\n",
    "    \n",
    "    # Stretch data in case there are some very bright areas in image\n",
    "    \n",
    "    data_min_prc = np.percentile(gamma_data, min_prc)\n",
    "    \n",
    "    data_max_prc = np.percentile(gamma_data, max_prc)\n",
    "    \n",
    "    \n",
    "    undersaturated = gamma_data <= data_min_prc\n",
    "    oversaturated = gamma_data >= data_max_prc\n",
    "    \n",
    "    \n",
    "    # Rest of data is stretched\n",
    "    gamma_data = np.ceil(( (gamma_data-data_min_prc)/(data_max_prc-data_min_prc) ) * 255 )\n",
    "    \n",
    "    \n",
    "    \n",
    "    gamma_data[undersaturated] = 1\n",
    "    gamma_data[oversaturated] = 255\n",
    "    \n",
    "    \n",
    "    # Cast to 8 bit\n",
    "    gamma_data = gamma_data.astype(np.uint8)\n",
    "    \n",
    "    return gamma_data\n",
    "\n",
    "def apply_gamma_transform(raster_file, gamma):\n",
    "    \"\"\"Transforms the RGB raster to enhance color\"\"\"\n",
    "    with rio.open(raster_file, \"r+\") as src:\n",
    "        profile = src.profile\n",
    "        count = src.count\n",
    "        \n",
    "        # Update profile for 8-bit unsigned integer data type\n",
    "        kwargs = profile\n",
    "        kwargs.update(\n",
    "            dtype=rasterio.uint8,\n",
    "            nodata=0)\n",
    "        \n",
    "\n",
    "        # Create a new dataset for writing\n",
    "        with rasterio.open(raster_file, 'w', **kwargs) as dst:\n",
    "            for i in range(1, count + 1):\n",
    "                # Read the band data\n",
    "                band_data = src.read(i)\n",
    "                \n",
    "                gamma_data = np.zeros(band_data.shape, dtype = np.uint8)\n",
    "                \n",
    "                # Where the data is\n",
    "                data_mask = band_data != src.nodata\n",
    "                \n",
    "                # Apply gamma transformation\n",
    "                gamma_data[data_mask] = gamma_transform(band_data[data_mask], gamma)\n",
    "                \n",
    "                print(dst.nodata)\n",
    "\n",
    "                # Write the gamma-transformed data back to the band\n",
    "                dst.write(gamma_data, i)\n",
    "                \n",
    "            if any(val is None for val in dst.descriptions):\n",
    "                dst.descriptions = (\"red\", \"green\", \"blue\")"
   ]
  },
  {
   "cell_type": "markdown",
   "id": "1733439f-cd01-4111-913c-8cab4da5c873",
   "metadata": {},
   "source": [
    "### 4.2 Copy processed data to specim_mission_folder_minio/processed"
   ]
  },
  {
   "cell_type": "code",
   "execution_count": 23,
   "id": "91e28ba4-940b-45e8-ab02-a0d116b332dd",
   "metadata": {},
   "outputs": [
    {
     "name": "stdout",
     "output_type": "stream",
     "text": [
      "0.0\n",
      "0.0\n",
      "0.0\n"
     ]
    }
   ],
   "source": [
    "import glob\n",
    "import rasterio\n",
    "\n",
    "for specim_mission_folder_minio in mission_list:\n",
    "    # Select a particular transect datacube:\n",
    "    specim_mission_folder = os.path.join(temp_dir, specim_mission_folder_minio.name)\n",
    "    \n",
    "    # Where the cube and anc data are\n",
    "    #cube_folder = os.path.join(specim_mission_folder, \"processed/Output/GIS/HSIDatacubes/\")\n",
    "    #anc_folder = os.path.join(specim_mission_folder, \"processed/Output/GIS/AncillaryData/\")\n",
    "    \n",
    "    # Processed Cubes MINIO\n",
    "    cubes_path_minio = os.path.join(specim_mission_folder_minio, 'processed/cubes')\n",
    "\n",
    "    # Processed ancillary cubes MINIO\n",
    "    anc_cube_path_minio = os.path.join(specim_mission_folder_minio, 'processed/ancillary')\n",
    "\n",
    "    # Processed composites MINIO are now stored under composites_path\n",
    "    # And should be moved to \n",
    "    composites_path_minio = os.path.join(specim_mission_folder_minio, 'processed/composites')\n",
    "    \n",
    "    # Where is the processed data\n",
    "    cube_folder = os.path.join(specim_mission_folder, \"processed/Output/GIS/HSIDatacubes/\")\n",
    "    anc_folder = os.path.join(specim_mission_folder, \"processed/Output/GIS/AncillaryData/\")\n",
    "    composites_path = os.path.join(specim_mission_folder, 'processed/Output/GIS/RGBComposites')\n",
    "    \n",
    "    # Processed composites are now stored under\n",
    "    \n",
    "    # And should be moved to \n",
    "    composites_path_minio = os.path.join(specim_mission_folder_minio, 'processed/composites')\n",
    "    \n",
    "    composite_list = glob.glob(composites_path + '/*.tif')\n",
    "    \n",
    "    # The combined version is to be deployed on GEONODE\n",
    "    combined_composite_filename = os.path.join(composites_path, \"combined.tif\")\n",
    "    \n",
    "    merge_rasters(composite_list, combined_composite_filename)\n",
    "    \n",
    "    apply_gamma_transform(combined_composite_filename, gamma = 0.44)\n",
    "    \n",
    "    # Then we transfer the results to MinIO\n",
    "    # Processed datacubes are now stored under\n",
    "    cubes_path = cube_folder\n",
    "    cubes_path_minio = os.path.join(specim_mission_folder_minio, 'processed/cubes')\n",
    "\n",
    "    # Processed ancillary cubes are now stored under\n",
    "    anc_cube_path = anc_folder\n",
    "    anc_cube_path_minio = os.path.join(specim_mission_folder_minio, 'processed/ancillary')\n",
    "\n",
    "    # Processed composites are now stored under composites_path\n",
    "    # And should be moved to \n",
    "    composites_path_minio = os.path.join(specim_mission_folder_minio, 'processed/composites')\n",
    "\n",
    "    # Move datacube, composites and ancillary data to persistant storage on Minio\n",
    "    # Cubes (radiance and reflectance)\n",
    "    \n",
    "    try:\n",
    "        sb.storage.copy_folder(src_fold = cubes_path, dst_fold = cubes_path_minio, client=minio_client, containing_folder = False, overwrite = False)\n",
    "    \n",
    "        # Composite data (One per transect and a combined for visualization)\n",
    "        sb.storage.copy_folder(src_fold = composites_path, dst_fold = composites_path_minio, client = minio_client, containing_folder = False, overwrite = False)\n",
    "        #sb.storage.copy_file(combined_composite_filename, os.path.join(composites_path_minio,'combined.tif'), client = minio_client, overwrite = True)\n",
    "    \n",
    "        # Ancillary data for further processing\n",
    "        sb.storage.copy_folder(src_fold = anc_cube_path, dst_fold = anc_cube_path_minio, client = minio_client, containing_folder = False, overwrite = False)\n",
    "    except:\n",
    "        processed_path = os.path.join(specim_mission_folder_minio, 'processed')\n",
    "        print(f'The folder {processed_path} already exists, no copying is done.')\n",
    " \n"
   ]
  },
  {
   "cell_type": "markdown",
   "id": "8108bd89-3d28-4037-9c1f-3c4a34d342b1",
   "metadata": {},
   "source": [
    "### 4.3 Publish data to Geonode/Geoserver"
   ]
  },
  {
   "cell_type": "code",
   "execution_count": 24,
   "id": "8dc404e8-73e8-4add-a9cd-de561912b1e5",
   "metadata": {},
   "outputs": [
    {
     "name": "stdout",
     "output_type": "stream",
     "text": [
      "The following missions are publishable to GeoNode:\n",
      "[PosixPath('/home/notebook/shared-seabee-ns9879k/ntnu/2022/2022-09-01-Runde/runde_2022090114225_ntnu_hyperspectral_74m')]\n"
     ]
    }
   ],
   "source": [
    "# Identify datasets for publishing. Folders must contain either an ODM or Pix4D\n",
    "# original orthophoto (not both) and must not contain a COG named f'{layer_name}.tif'.\n",
    "# Folders must also have 'config.seabee.yaml' files where 'publish' is True\n",
    "publish_list = [\n",
    "    f.parent\n",
    "    for base_dir in base_dirs\n",
    "    for f in Path(base_dir).rglob(\"config.seabee.yaml\")\n",
    "    if sb.ortho.check_subdir_exists(f.parent, \"capture\")\n",
    "    and sb.ortho.check_subdir_exists(f.parent, \"processed\")\n",
    "    and not sb.ortho.check_subdir_exists(f.parent, \"orthophoto\")\n",
    "    and sb.ortho.parse_config(f.parent)[\"publish\"]\n",
    "]\n",
    "\n",
    "print(\"The following missions are publishable to GeoNode:\")\n",
    "print(publish_list)"
   ]
  },
  {
   "cell_type": "code",
   "execution_count": 25,
   "id": "f109dd30-b52f-41e6-b955-420d61b2424d",
   "metadata": {},
   "outputs": [
    {
     "name": "stdout",
     "output_type": "stream",
     "text": [
      "\n",
      "################\n",
      "Processing: runde_2022090114225_ntnu_hyperspectral_74m\n",
      "Preparing orthophoto for publishing.\n",
      "8\n",
      "8\n",
      "Havard Snefjella Lovas\n",
      "Input file size is 709, 714\n",
      "0...10...20...30...40...50...60...70...80...90...100 - done.\n",
      "Uploading to GeoServer.\n",
      "Publishing to GeoNode.\n",
      "Updating metadata.\n",
      "runde_more-romsdal_202209011425_HSI_74m\n"
     ]
    }
   ],
   "source": [
    "import rasterio as rio\n",
    "import yaml\n",
    "import shutil\n",
    "import os\n",
    "# Publish publishables (equivalent to the same section in flights_runner.ipynb without the ODM/Pix4D stuff which does not apply here)\n",
    "for mission_fold in publish_list:\n",
    "    mission_name = mission_fold.name\n",
    "    \n",
    "\n",
    "    # Orthophoto is termed \"combined.tif\"\n",
    "    ortho_path = os.path.join(\n",
    "        mission_fold, \"processed/composites\", \"combined.tif\"\n",
    "    )\n",
    "    \n",
    "    config_yaml_minio = os.path.join(\n",
    "        mission_fold, \"config.seabee.yaml\"\n",
    "    )\n",
    "    \n",
    "    specim_mission_folder = os.path.join(temp_dir, mission_name)\n",
    "    \n",
    "    try:\n",
    "        h5_dir = os.path.join(specim_mission_folder, 'processed/Input/H5')\n",
    "        nfiles = len(os.listdir(h5_dir))\n",
    "    except:\n",
    "        \n",
    "        continue\n",
    "    \n",
    "    print(f\"\\n################\\nProcessing: {mission_name}\")\n",
    "    print(\"Preparing orthophoto for publishing.\")\n",
    "        \n",
    "        \n",
    "        \n",
    "        \n",
    "    \n",
    "    print(nfiles)\n",
    "    \n",
    "    # Prior to updating metadata we need to set the \"nfiles\" entry in config.seabee.yaml\n",
    "    \n",
    "    config_yaml = os.path.join(specim_mission_folder, \"config.seabee.yaml\")\n",
    "    \n",
    "    # Add entry nfiles\n",
    "    with open(config_yaml, 'r+') as file:  \n",
    "        config_data = yaml.safe_load(file)\n",
    "        config_data['nfiles'] = nfiles\n",
    "        config_data['organisation'] = 'NTNU'\n",
    "        \n",
    "        # After modifying the data, write it back to the file\n",
    "        yaml.safe_dump(config_data, file)\n",
    "        \n",
    "    with open(config_yaml, 'r') as file:  \n",
    "        config_data = yaml.safe_load(file)\n",
    "        print(config_data['nfiles'])\n",
    "        print(config_data['creator_name'])\n",
    "    \n",
    "    # Overwrite minio config version\n",
    "    sb.storage.copy_file(config_yaml, config_yaml_minio, client = minio_client, overwrite = True)\n",
    "    \n",
    "    \n",
    "    \n",
    "    # Standardise and save locally\n",
    "    layer_name = sb.ortho.get_layer_name(mission_fold)\n",
    "    temp_path = os.path.join(temp_dir, layer_name + \".tif\")\n",
    "    \n",
    "    try:\n",
    "        sb.geo.standardise_orthophoto(\n",
    "            ortho_path,\n",
    "            temp_path)\n",
    "    except CalledProcessError as e:\n",
    "        print(f\"Failed to standardise {ortho_path}.\")\n",
    "        print(e)\n",
    "        continue\n",
    "\n",
    "    # Copy to MinIO and delete local version\n",
    "    stan_path = os.path.join(mission_fold, \"orthophoto\", layer_name + \".tif\")\n",
    "    sb.storage.copy_file(temp_path, stan_path, minio_client, overwrite=True)\n",
    "    os.remove(temp_path)\n",
    "\n",
    "    print(\"Uploading to GeoServer.\")\n",
    "\n",
    "    sb.geo.upload_raster_to_geoserver(\n",
    "        stan_path,\n",
    "        SETTINGS.GEOSERVER_USER,\n",
    "        SETTINGS.GEOSERVER_PASSWORD,\n",
    "        workspace=\"geonode\",\n",
    "    )\n",
    "\n",
    "    print(\"Publishing to GeoNode.\")\n",
    "\n",
    "    sb.geo.publish_to_geonode(\n",
    "        layer_name,\n",
    "        SETTINGS.GEONODE_USER,\n",
    "        SETTINGS.GEONODE_PASSWORD,\n",
    "        workspace=\"geonode\",\n",
    "    )\n",
    "    \n",
    "    \n",
    "\n",
    "    print(\"Updating metadata.\")\n",
    "    date = sb.ortho.parse_mission_data(mission_fold, parse_date=True)[2]\n",
    "    abstract = sb.geo.get_html_abstract(str(mission_fold))\n",
    "    metadata = {\n",
    "        \"abstract\": abstract,\n",
    "        \"date\": date.isoformat(),\n",
    "        \"date_type\": \"creation\",\n",
    "        \"attribution\": \"SeaBee\",\n",
    "    }\n",
    "    sb.geo.update_geonode_metadata(\n",
    "        layer_name,\n",
    "        SETTINGS.GEONODE_USER,\n",
    "        SETTINGS.GEONODE_PASSWORD,\n",
    "        metadata,\n",
    "    )\n",
    "    print(layer_name)"
   ]
  },
  {
   "cell_type": "code",
   "execution_count": null,
   "id": "e9630ab4-c193-4448-be0b-5f6ee2f9d2a5",
   "metadata": {},
   "outputs": [],
   "source": [
    "sb.geo.infer_geotiff_metadata(ortho_path)"
   ]
  },
  {
   "cell_type": "markdown",
   "id": "de693c25-43e0-46b3-b69e-1dcb9ae04f65",
   "metadata": {},
   "source": [
    "### 4.4 Delete local data"
   ]
  },
  {
   "cell_type": "code",
   "execution_count": 26,
   "id": "4dadee52-52cc-4fc9-9f29-316c7b4afd72",
   "metadata": {},
   "outputs": [],
   "source": [
    "\"\"\"Delete the local data. This should only be done once everything is well in place\"\"\"\n",
    "for specim_mission_folder_minio in mission_list:\n",
    "    specim_mission_folder = os.path.join(temp_dir, specim_mission_folder_minio.name)\n",
    "    shutil.rmtree(specim_mission_folder)"
   ]
  },
  {
   "cell_type": "code",
   "execution_count": null,
   "id": "6d424f08-2622-4409-bbfa-859600c5752c",
   "metadata": {},
   "outputs": [],
   "source": []
  },
  {
   "cell_type": "code",
   "execution_count": null,
   "id": "4f553ed9-df96-41cd-9502-3c2e8a4080cb",
   "metadata": {},
   "outputs": [],
   "source": []
  }
 ],
 "metadata": {
  "kernelspec": {
   "display_name": "Python 3 (ipykernel)",
   "language": "python",
   "name": "python3"
  },
  "language_info": {
   "codemirror_mode": {
    "name": "ipython",
    "version": 3
   },
   "file_extension": ".py",
   "mimetype": "text/x-python",
   "name": "python",
   "nbconvert_exporter": "python",
   "pygments_lexer": "ipython3",
   "version": "3.10.6"
  },
  "vscode": {
   "interpreter": {
    "hash": "916dbcbb3f70747c44a77c7bcd40155683ae19c65e1c03b4aa3499c5328201f1"
   }
  }
 },
 "nbformat": 4,
 "nbformat_minor": 5
}
