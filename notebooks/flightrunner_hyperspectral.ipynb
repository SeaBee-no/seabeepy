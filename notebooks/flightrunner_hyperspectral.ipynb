{
 "cells": [
  {
   "cell_type": "code",
   "execution_count": 1,
   "id": "0af93a87-9797-40fe-8a5f-b32002207169",
   "metadata": {},
   "outputs": [
    {
     "name": "stdout",
     "output_type": "stream",
     "text": [
      "Jupyter environment detected. Enabling Open3D WebVisualizer.\n",
      "[Open3D INFO] WebRTC GUI backend enabled.\n",
      "[Open3D INFO] WebRTCWindowSystem: HTTP handshake server disabled.\n"
     ]
    }
   ],
   "source": [
    "# Standard python library\n",
    "import configparser\n",
    "import sys\n",
    "import os\n",
    "import argparse\n",
    "from collections import namedtuple\n",
    "\n",
    "# Local resources\n",
    "from gref4hsi.scripts import georeference\n",
    "from gref4hsi.scripts import orthorectification\n",
    "from gref4hsi.utils import parsing_utils, specim_parsing_utils\n",
    "from gref4hsi.scripts import visualize\n",
    "from gref4hsi.utils.config_utils import prepend_data_dir_to_relative_paths\n",
    "from gref4hsi.utils.config_utils import customize_config\n",
    "\n",
    "# Third party\n",
    "import numpy as np"
   ]
  },
  {
   "cell_type": "code",
   "execution_count": 2,
   "id": "07bb1fea-0c10-4e2a-9431-22b74b638ddb",
   "metadata": {},
   "outputs": [],
   "source": [
    "# From seabeepy/notebooks/flight_runner\n",
    "import datetime as dt\n",
    "import os\n",
    "from pathlib import Path\n",
    "\n",
    "from config import SETTINGS\n",
    "from pyodm import Node\n",
    "from subprocess import CalledProcessError\n",
    "\n",
    "import seabeepy as sb\n"
   ]
  },
  {
   "cell_type": "code",
   "execution_count": 3,
   "id": "c9f66eef-7fbd-4efd-9cbe-91007d1c6917",
   "metadata": {
    "tags": []
   },
   "outputs": [],
   "source": [
    "\n",
    "\n",
    "# Login to MinIO\n",
    "minio_client = sb.storage.minio_login(\n",
    "    user=SETTINGS.MINIO_ACCESS_ID, password=SETTINGS.MINIO_SECRET_KEY\n",
    ")\n",
    "\n"
   ]
  },
  {
   "cell_type": "code",
   "execution_count": 4,
   "id": "9fe9281e-4706-4e06-b944-dfd7c783d93d",
   "metadata": {},
   "outputs": [],
   "source": [
    "# Parent directories containing flight folders to process\n",
    "base_dirs = [\n",
    "    r\"/home/notebook/shared-seabee-ns9879k/ntnu\",\n",
    "]\n",
    "\n",
    "# Directory for temporary files\n",
    "temp_dir = r\"/home/notebook/cogs\""
   ]
  },
  {
   "cell_type": "code",
   "execution_count": 5,
   "id": "671c7d5b-d8f8-429b-9cd8-afd9f46b8ce0",
   "metadata": {},
   "outputs": [
    {
     "name": "stdout",
     "output_type": "stream",
     "text": [
      "Processing started: 2024-03-13 14:45:48.447570\n"
     ]
    }
   ],
   "source": [
    "# Run info\n",
    "run_date = dt.datetime.today()\n",
    "print(f\"Processing started: {run_date}\")"
   ]
  },
  {
   "cell_type": "code",
   "execution_count": 6,
   "id": "77ca6de5-e204-43fd-998c-53a8e68876f4",
   "metadata": {},
   "outputs": [],
   "source": [
    "# Get all potential mission folders for NodeODM\n",
    "# (i.e. folders containing a 'config.seabee.yaml' and an 'capture' subdirectory, but NOT an 'orthophoto' directory)\n",
    "mission_list = [\n",
    "    f.parent\n",
    "    for base_dir in base_dirs\n",
    "    for f in Path(base_dir).rglob(\"config.seabee.yaml\")\n",
    "    if sb.ortho.check_subdir_exists(f.parent, \"capture\")\n",
    "    and not sb.ortho.check_subdir_exists(f.parent, \"processed\")\n",
    "]"
   ]
  },
  {
   "cell_type": "code",
   "execution_count": 7,
   "id": "914cbf91-d613-4f3d-9c2a-ab404424f2be",
   "metadata": {},
   "outputs": [
    {
     "data": {
      "text/plain": [
       "[PosixPath('/home/notebook/shared-seabee-ns9879k/ntnu/2024/slettvik_hopavaagen_202402191311_ntnu_hyperspectral_74m'),\n",
       " PosixPath('/home/notebook/shared-seabee-ns9879k/ntnu/2024/slettvik_hopavaagen_202402191253_ntnu_hyperspectral_74m')]"
      ]
     },
     "execution_count": 7,
     "metadata": {},
     "output_type": "execute_result"
    }
   ],
   "source": [
    "mission_list"
   ]
  },
  {
   "cell_type": "code",
   "execution_count": 8,
   "id": "aec010b3-a209-4291-b465-cb4f295b6e85",
   "metadata": {},
   "outputs": [],
   "source": [
    "# Establish the ancillary data paths, copy to local work space and \n",
    "from pathlib import Path\n",
    "import shutil\n",
    "\n",
    "geoid_path_minio = Path('/home/notebook/shared-seabee-ns9879k/ntnu/specim_processing_data/geoids/no_kv_HREF2018A_NN2000_EUREF89.tif')\n",
    "config_template_path_minio = Path('/home/notebook/shared-seabee-ns9879k/ntnu/specim_processing_data/configuration_specim.ini')\n",
    "lab_calibration_path_minio = Path('/home/notebook/shared-seabee-ns9879k/ntnu/specim_processing_data/Lab_Calibrations')\n",
    "\n",
    "geoid_path = os.path.join(temp_dir, \"no_kv_HREF2018A_NN2000_EUREF89.tif\")\n",
    "try:\n",
    "    shutil.copyfile(geoid_path_minio, geoid_path)\n",
    "except FileExistsError:\n",
    "    pass\n",
    "\n",
    "config_template_path = os.path.join(temp_dir, \"config_template_path_specim.ini\")\n",
    "try:\n",
    "    shutil.copyfile(config_template_path_minio, config_template_path)\n",
    "except FileExistsError:\n",
    "    pass\n",
    "\n",
    "lab_calibration_path = os.path.join(temp_dir, \"lab-calibration\")\n",
    "try:\n",
    "    shutil.copytree(lab_calibration_path_minio, lab_calibration_path)\n",
    "except FileExistsError:\n",
    "    pass"
   ]
  },
  {
   "cell_type": "code",
   "execution_count": 9,
   "id": "9420927f-8d05-454f-a5a5-d6e6188bfbc6",
   "metadata": {},
   "outputs": [
    {
     "data": {
      "text/plain": [
       "'/home/notebook/cogs/slettvik_hopavaagen_202402191311_ntnu_hyperspectral_74m'"
      ]
     },
     "execution_count": 9,
     "metadata": {},
     "output_type": "execute_result"
    }
   ],
   "source": [
    "\n",
    "\n",
    "specim_mission_folder_minio = mission_list[0]\n",
    "\n",
    "\n",
    "specim_mission_folder = os.path.join(temp_dir, specim_mission_folder_minio.name)\n",
    "\n",
    "specim_mission_folder\n"
   ]
  },
  {
   "cell_type": "code",
   "execution_count": 10,
   "id": "c90368c8-8fea-4ca9-bab2-ad9ecd1bed56",
   "metadata": {},
   "outputs": [
    {
     "data": {
      "text/plain": [
       "'import yaml\\nimport specim_process\\nimport time\\n\\n# First locate mission and copy to local \\nspecim_mission_folder_minio = mission_list[0]\\nspecim_mission_folder = os.path.join(temp_dir, specim_mission_folder_minio.name)\\ntry:\\n    shutil.copytree(specim_mission_folder_minio, specim_mission_folder)\\nexcept FileExistsError:\\n    pass\\n\\n# The config file is read\\nconfig_yaml = os.path.join(specim_mission_folder, \"config.seabee.yaml\")\\n\\n# Start the specim processing\\nspecim_process.main(str(config_yaml), \\n                    str(specim_mission_folder), \\n                    geoid_path, \\n                    config_template_path, \\n                    lab_calibration_path,\\n                    fast_mode = True)'"
      ]
     },
     "execution_count": 10,
     "metadata": {},
     "output_type": "execute_result"
    }
   ],
   "source": [
    "# Establish the ancillary data paths\n",
    "\"\"\"import yaml\n",
    "import specim_process\n",
    "import time\n",
    "\n",
    "# First locate mission and copy to local \n",
    "specim_mission_folder_minio = mission_list[0]\n",
    "specim_mission_folder = os.path.join(temp_dir, specim_mission_folder_minio.name)\n",
    "try:\n",
    "    shutil.copytree(specim_mission_folder_minio, specim_mission_folder)\n",
    "except FileExistsError:\n",
    "    pass\n",
    "\n",
    "# The config file is read\n",
    "config_yaml = os.path.join(specim_mission_folder, \"config.seabee.yaml\")\n",
    "\n",
    "# Start the specim processing\n",
    "specim_process.main(str(config_yaml), \n",
    "                    str(specim_mission_folder), \n",
    "                    geoid_path, \n",
    "                    config_template_path, \n",
    "                    lab_calibration_path,\n",
    "                    fast_mode = True)\"\"\"\n"
   ]
  },
  {
   "cell_type": "code",
   "execution_count": 11,
   "id": "8caf7e21-0db6-4a84-9169-a95ba522f034",
   "metadata": {},
   "outputs": [],
   "source": [
    "# We need to write a processed folder to the mission with a composites and datacubes.\n",
    "\n",
    "\n"
   ]
  },
  {
   "cell_type": "code",
   "execution_count": 12,
   "id": "bf2cf748-2313-49e9-b535-9f1b56abc48e",
   "metadata": {},
   "outputs": [
    {
     "name": "stdout",
     "output_type": "stream",
     "text": [
      "\n",
      "################\n",
      "Processing: slettvik_hopavaagen_202402191311_ntnu_hyperspectral_74m\n",
      "DEM folder does not exist so Geoid is used as terrain instead\n"
     ]
    },
    {
     "name": "stderr",
     "output_type": "stream",
     "text": [
      "/opt/conda/lib/python3.10/site-packages/spectral/io/envi.py:175: UserWarning: Parameters with non-lowercase names encountered and converted to lowercase. To retain source file parameter name capitalization, set spectral.settings.envi_support_nonlowercase_params to True.\n",
      "  warnings.warn(msg)\n"
     ]
    },
    {
     "ename": "EnviDataFileNotFoundError",
     "evalue": "Unable to determine the ENVI data file name for the given header file. You can specify the data file by passing its name as the optional `image` argument to envi.open.",
     "output_type": "error",
     "traceback": [
      "\u001b[0;31m---------------------------------------------------------------------------\u001b[0m",
      "\u001b[0;31mEnviDataFileNotFoundError\u001b[0m                 Traceback (most recent call last)",
      "Cell \u001b[0;32mIn [12], line 18\u001b[0m\n\u001b[1;32m     15\u001b[0m config_yaml \u001b[38;5;241m=\u001b[39m os\u001b[38;5;241m.\u001b[39mpath\u001b[38;5;241m.\u001b[39mjoin(specim_mission_folder, \u001b[38;5;124m\"\u001b[39m\u001b[38;5;124mconfig.seabee.yaml\u001b[39m\u001b[38;5;124m\"\u001b[39m)\n\u001b[1;32m     17\u001b[0m \u001b[38;5;66;03m# Start the specim processing\u001b[39;00m\n\u001b[0;32m---> 18\u001b[0m \u001b[43mspecim_process\u001b[49m\u001b[38;5;241;43m.\u001b[39;49m\u001b[43mmain\u001b[49m\u001b[43m(\u001b[49m\u001b[38;5;28;43mstr\u001b[39;49m\u001b[43m(\u001b[49m\u001b[43mconfig_yaml\u001b[49m\u001b[43m)\u001b[49m\u001b[43m,\u001b[49m\u001b[43m \u001b[49m\n\u001b[1;32m     19\u001b[0m \u001b[43m                    \u001b[49m\u001b[38;5;28;43mstr\u001b[39;49m\u001b[43m(\u001b[49m\u001b[43mspecim_mission_folder\u001b[49m\u001b[43m)\u001b[49m\u001b[43m,\u001b[49m\u001b[43m \u001b[49m\n\u001b[1;32m     20\u001b[0m \u001b[43m                    \u001b[49m\u001b[43mgeoid_path\u001b[49m\u001b[43m,\u001b[49m\u001b[43m \u001b[49m\n\u001b[1;32m     21\u001b[0m \u001b[43m                    \u001b[49m\u001b[43mconfig_template_path\u001b[49m\u001b[43m,\u001b[49m\u001b[43m \u001b[49m\n\u001b[1;32m     22\u001b[0m \u001b[43m                    \u001b[49m\u001b[43mlab_calibration_path\u001b[49m\u001b[43m,\u001b[49m\n\u001b[1;32m     23\u001b[0m \u001b[43m                    \u001b[49m\u001b[43mfast_mode\u001b[49m\u001b[43m \u001b[49m\u001b[38;5;241;43m=\u001b[39;49m\u001b[43m \u001b[49m\u001b[38;5;28;43;01mTrue\u001b[39;49;00m\u001b[43m)\u001b[49m\n\u001b[1;32m     25\u001b[0m \u001b[38;5;66;03m# Processed datacubes are now stored under\u001b[39;00m\n\u001b[1;32m     26\u001b[0m cubes_path \u001b[38;5;241m=\u001b[39m os\u001b[38;5;241m.\u001b[39mpath\u001b[38;5;241m.\u001b[39mjoin(temp_dir, \u001b[38;5;124m'\u001b[39m\u001b[38;5;124mmission-data/processed/Output/GIS/HSIDatacubes\u001b[39m\u001b[38;5;124m'\u001b[39m)\n",
      "File \u001b[0;32m~/gitprojects/gref4hsi/notebooks/specim_process.py:149\u001b[0m, in \u001b[0;36mmain\u001b[0;34m(config_yaml, specim_mission_folder, geoid_path, config_template_path, lab_calibration_path, fast_mode)\u001b[0m\n\u001b[1;32m    143\u001b[0m config\u001b[38;5;241m.\u001b[39mread(config_file_mission)\n\u001b[1;32m    145\u001b[0m \u001b[38;5;66;03m# This function parses raw specim data including (spectral, radiometric, geometric) calibrations and nav data\u001b[39;00m\n\u001b[1;32m    146\u001b[0m \u001b[38;5;66;03m# into an h5 file. The nav data is written to \"raw/nav/\" subfolders, whereas hyperspectral data and calibration data are\u001b[39;00m\n\u001b[1;32m    147\u001b[0m \u001b[38;5;66;03m# written to \"processed/hyperspectral/\" and \"processed/calibration/\" subfolders.\u001b[39;00m\n\u001b[1;32m    148\u001b[0m \u001b[38;5;66;03m# Lastly you need a camera calibration file describing boresight rotations, lever arms focal length and distortion for the pushbroom scanner\u001b[39;00m\n\u001b[0;32m--> 149\u001b[0m \u001b[43mspecim_parsing_utils\u001b[49m\u001b[38;5;241;43m.\u001b[39;49m\u001b[43mmain\u001b[49m\u001b[43m(\u001b[49m\u001b[43mconfig\u001b[49m\u001b[38;5;241;43m=\u001b[39;49m\u001b[43mconfig\u001b[49m\u001b[43m,\u001b[49m\n\u001b[1;32m    150\u001b[0m \u001b[43m                          \u001b[49m\u001b[43mconfig_specim\u001b[49m\u001b[38;5;241;43m=\u001b[39;49m\u001b[43mconfig_specim_preprocess\u001b[49m\u001b[43m)\u001b[49m\n\u001b[1;32m    153\u001b[0m \u001b[38;5;66;03m# Interpolates and reformats the pose (of the vehicle body) to \"processed/nav/\" folder.\u001b[39;00m\n\u001b[1;32m    154\u001b[0m config \u001b[38;5;241m=\u001b[39m parsing_utils\u001b[38;5;241m.\u001b[39mexport_pose(config_file_mission)\n",
      "File \u001b[0;32m/opt/conda/lib/python3.10/site-packages/gref4hsi/utils/specim_parsing_utils.py:318\u001b[0m, in \u001b[0;36mmain\u001b[0;34m(config, config_specim)\u001b[0m\n\u001b[1;32m    315\u001b[0m envi_hdr_file_path \u001b[38;5;241m=\u001b[39m glob\u001b[38;5;241m.\u001b[39mglob(search_path_envi)[\u001b[38;5;241m0\u001b[39m]\n\u001b[1;32m    317\u001b[0m \u001b[38;5;66;03m# Read out data\u001b[39;00m\n\u001b[0;32m--> 318\u001b[0m spectral_image_obj \u001b[38;5;241m=\u001b[39m \u001b[43menvi\u001b[49m\u001b[38;5;241;43m.\u001b[39;49m\u001b[43mopen\u001b[49m\u001b[43m(\u001b[49m\u001b[43menvi_hdr_file_path\u001b[49m\u001b[43m)\u001b[49m\n\u001b[1;32m    320\u001b[0m \u001b[38;5;66;03m# Read all meta data from header file (currently hard coded, but could be avoided I guess)\u001b[39;00m\n\u001b[1;32m    321\u001b[0m \u001b[38;5;28;01mclass\u001b[39;00m \u001b[38;5;21;01mMetadata\u001b[39;00m:\n",
      "File \u001b[0;32m/opt/conda/lib/python3.10/site-packages/spectral/io/envi.py:315\u001b[0m, in \u001b[0;36mopen\u001b[0;34m(file, image)\u001b[0m\n\u001b[1;32m    311\u001b[0m     \u001b[38;5;28;01mif\u001b[39;00m \u001b[38;5;129;01mnot\u001b[39;00m image:\n\u001b[1;32m    312\u001b[0m         msg \u001b[38;5;241m=\u001b[39m \u001b[38;5;124m'\u001b[39m\u001b[38;5;124mUnable to determine the ENVI data file name for the \u001b[39m\u001b[38;5;124m'\u001b[39m \\\n\u001b[1;32m    313\u001b[0m           \u001b[38;5;124m'\u001b[39m\u001b[38;5;124mgiven header file. You can specify the data file by passing \u001b[39m\u001b[38;5;124m'\u001b[39m \\\n\u001b[1;32m    314\u001b[0m           \u001b[38;5;124m'\u001b[39m\u001b[38;5;124mits name as the optional `image` argument to envi.open.\u001b[39m\u001b[38;5;124m'\u001b[39m\n\u001b[0;32m--> 315\u001b[0m         \u001b[38;5;28;01mraise\u001b[39;00m EnviDataFileNotFoundError(msg)\n\u001b[1;32m    316\u001b[0m \u001b[38;5;28;01melse\u001b[39;00m:\n\u001b[1;32m    317\u001b[0m     image \u001b[38;5;241m=\u001b[39m find_file_path(image)\n",
      "\u001b[0;31mEnviDataFileNotFoundError\u001b[0m: Unable to determine the ENVI data file name for the given header file. You can specify the data file by passing its name as the optional `image` argument to envi.open."
     ]
    }
   ],
   "source": [
    "import specim_process\n",
    "\n",
    "# Process missions in the list\n",
    "for specim_mission_folder_minio in mission_list:\n",
    "    mission_name = specim_mission_folder_minio.name\n",
    "    print(f\"\\n################\\nProcessing: {mission_name}\")\n",
    "    \n",
    "    specim_mission_folder = os.path.join(temp_dir, specim_mission_folder_minio.name)\n",
    "    try:\n",
    "        shutil.copytree(specim_mission_folder_minio, specim_mission_folder)\n",
    "    except FileExistsError:\n",
    "        pass\n",
    "\n",
    "    # The config file is read\n",
    "    config_yaml = os.path.join(specim_mission_folder, \"config.seabee.yaml\")\n",
    "\n",
    "    # Start the specim processing\n",
    "    specim_process.main(str(config_yaml), \n",
    "                        str(specim_mission_folder), \n",
    "                        geoid_path, \n",
    "                        config_template_path, \n",
    "                        lab_calibration_path,\n",
    "                        fast_mode = True)\n",
    "    \n",
    "    # Processed datacubes are now stored under\n",
    "    cubes_path = os.path.join(temp_dir, 'mission-data/processed/Output/GIS/HSIDatacubes')\n",
    "    cubes_path_minio = os.path.join(specim_mission_folder_minio, 'processed/cubes')\n",
    "\n",
    "    # Processed composites are now stored under\n",
    "    composites_path = os.path.join(temp_dir, 'mission-data/processed/Output/GIS/RGBComposites')\n",
    "    # And should be moved to \n",
    "    composites_path_minio = os.path.join(specim_mission_folder_minio, 'processed/composites')\n",
    "\n",
    "    # Move data to persistant storage at Minio\n",
    "    sb.storage.copy_folder(src_fold = cubes_path, dst_fold = cubes_path_minio, client=minio_client, containing_folder = False)\n",
    "    sb.storage.copy_folder(src_fold = composites_path, dst_fold = composites_path_minio, client = minio_client, containing_folder = False)\n",
    "\n",
    "    # Delete the local data to make room for next mission content\n",
    "    shutil.rmtree(specim_mission_folder)\n",
    "    "
   ]
  },
  {
   "cell_type": "code",
   "execution_count": null,
   "id": "fbf538cb-a883-45ac-b225-c8fe22656b45",
   "metadata": {},
   "outputs": [],
   "source": []
  }
 ],
 "metadata": {
  "kernelspec": {
   "display_name": "Python 3 (ipykernel)",
   "language": "python",
   "name": "python3"
  },
  "language_info": {
   "codemirror_mode": {
    "name": "ipython",
    "version": 3
   },
   "file_extension": ".py",
   "mimetype": "text/x-python",
   "name": "python",
   "nbconvert_exporter": "python",
   "pygments_lexer": "ipython3",
   "version": "3.10.6"
  }
 },
 "nbformat": 4,
 "nbformat_minor": 5
}
