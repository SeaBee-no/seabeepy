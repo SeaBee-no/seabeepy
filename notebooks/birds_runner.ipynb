{
 "cells": [
  {
   "cell_type": "code",
   "execution_count": null,
   "metadata": {},
   "outputs": [],
   "source": [
    "import geopandas as gpd\n",
    "import yaml\n",
    "import subprocess"
   ]
  },
  {
   "cell_type": "markdown",
   "metadata": {},
   "source": [
    "## Create configurations"
   ]
  },
  {
   "cell_type": "code",
   "execution_count": null,
   "metadata": {},
   "outputs": [],
   "source": [
    "%%bash\n",
    "mkdir ./config"
   ]
  },
  {
   "cell_type": "code",
   "execution_count": null,
   "metadata": {},
   "outputs": [],
   "source": [
    "root_path = \"/home/notebook/shared-seabee-ns9879k\"\n",
    "model = \"detection/2022_nina_birds_20230817\"\n",
    "workdir = \"./nrdata\""
   ]
  },
  {
   "cell_type": "markdown",
   "metadata": {},
   "source": [
    "`hub.yaml` configures the program and paths for the hub. We don't have a gpu on the hub and data is mounted so we can skip minio."
   ]
  },
  {
   "cell_type": "code",
   "execution_count": null,
   "metadata": {},
   "outputs": [],
   "source": [
    "device = \"cpu\"\n",
    "with open(\"./config/hub.yaml\", \"w\") as f:\n",
    "    yaml.dump(\n",
    "        {\n",
    "            \"DPATH_WORK\": f\"{workdir}/work\",\n",
    "            \"DPATH_MODELS\": f\"{root_path}/models\",\n",
    "            \"DPATH_RESULTS\": f\"{workdir}/results\",\n",
    "            \"DPATH_PRETRAINED\": f\"{workdir}/pretrained\",\n",
    "            \"MINIO\": {\"USE\": False},\n",
    "            \"TEST\": {\"DEVICE\": device},\n",
    "        },\n",
    "        f,\n",
    "    )"
   ]
  },
  {
   "cell_type": "code",
   "execution_count": null,
   "metadata": {},
   "outputs": [],
   "source": [
    "def dump_image_detection_config(orthophoto_file: str, root_path: str, model: str):\n",
    "    \"\"\"`image_detection.yaml` configures the nr program for training or detection on various images\"\"\"\n",
    "\n",
    "    with open(\"./config/image_detection.yaml\", \"w\") as f:\n",
    "        yaml.dump(\n",
    "            {\n",
    "                \"mode\": \"production\",\n",
    "                \"task\": \"detection\",\n",
    "                \"score_threshold\": 0.1,\n",
    "                \"model\": {\"id\": model},\n",
    "                \"dataset\": {\n",
    "                    \"root\": root_path,\n",
    "                    \"annotations\": {\n",
    "                        \"crs\": \"epsg:4326\",\n",
    "                        \"column_main_class\": \"species\",\n",
    "                        \"columns_subtasks\": [\"activity\", \"sex\", \"age\"],\n",
    "                    },\n",
    "                    \"test_filenames\": [orthophoto_file],\n",
    "                },\n",
    "            },\n",
    "            f,\n",
    "        )\n",
    "\n",
    "\n",
    "def run_detection(mission_name: str):\n",
    "    \"\"\"Run the detection process elements\n",
    "\n",
    "    A detection run consist of:\n",
    "        1. preprocess the images\n",
    "        2. the main detection run\n",
    "        3. post process generating the gpkg data product\n",
    "\n",
    "    \"\"\"\n",
    "    subprocess.run(\n",
    "        [\n",
    "            \"nrseabee_det_preproc\",\n",
    "            \"-c\",\n",
    "            \"config/hub.yaml\",\n",
    "            \"-o\",\n",
    "            \"config/nrseabee_det_preproc.yaml\",\n",
    "            \"config/image_detection.yaml\",\n",
    "        ],\n",
    "        capture_output=True,\n",
    "    )\n",
    "    # start the detection run, (this can take some time)\n",
    "    subprocess.run(\n",
    "        [\n",
    "            \"nrseabee_det_test\",\n",
    "            \"-c\",\n",
    "            \"config/hub.yaml\",\n",
    "            \"-o\",\n",
    "            \"config/nrseabee_det_test.yaml\",\n",
    "            \"config/nrseabee_det_preproc.yaml\",\n",
    "        ],\n",
    "        capture_output=True,\n",
    "    )\n",
    "    # generate the geopackage with detections\n",
    "    subprocess.run(\n",
    "        [\n",
    "            \"nrseabee_det_postproc\",\n",
    "            \"-c\",\n",
    "            \"config/hub.yaml\",\n",
    "            \"-o\",\n",
    "            f\"config/{mission_name}_postproc.yaml\",\n",
    "            \"config/nrseabee_det_test.yaml\",\n",
    "        ],\n",
    "        capture_output=True,\n",
    "    )"
   ]
  },
  {
   "cell_type": "code",
   "execution_count": null,
   "metadata": {},
   "outputs": [],
   "source": [
    "mission_name = \"oslofjorden_lyseren-zoom_202306271117\"\n",
    "orthophoto_file = f\"seabirds/2023/{mission_name}/orthophoto/{mission_name}.tif\"\n",
    "\n",
    "mission_list = [mission_name]"
   ]
  },
  {
   "cell_type": "markdown",
   "metadata": {},
   "source": [
    "## Run the bird detection\n",
    "\n",
    "1. "
   ]
  },
  {
   "cell_type": "code",
   "execution_count": null,
   "metadata": {},
   "outputs": [],
   "source": [
    "for mission_name in mission_list:\n",
    "    run_detection(mission_name)"
   ]
  }
 ],
 "metadata": {
  "kernelspec": {
   "display_name": "Python 3 (ipykernel)",
   "language": "python",
   "name": "python3"
  },
  "language_info": {
   "codemirror_mode": {
    "name": "ipython",
    "version": 3
   },
   "file_extension": ".py",
   "mimetype": "text/x-python",
   "name": "python",
   "nbconvert_exporter": "python",
   "pygments_lexer": "ipython3",
   "version": "3.11.8"
  }
 },
 "nbformat": 4,
 "nbformat_minor": 4
}
