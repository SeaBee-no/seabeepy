{
 "cells": [
  {
   "cell_type": "code",
   "execution_count": 1,
   "id": "cb6cbb13-98b1-4d2a-82b6-f7ebab9d4d8c",
   "metadata": {},
   "outputs": [],
   "source": [
    "import datetime as dt\n",
    "import os\n",
    "\n",
    "from config import SETTINGS\n",
    "\n",
    "import seabeepy as sb"
   ]
  },
  {
   "cell_type": "markdown",
   "id": "80bab970-7f2d-4bf5-8b66-1e6b07deb703",
   "metadata": {},
   "source": [
    "# Publish ODM mosaics from flight folders\n",
    "\n",
    " * Assumes the raw images have already been processed with NodeODM i.e. that `./orthophoto/odm_orthophoto.original.tif` already exists in the mission folder.\n",
    " \n",
    " * The folder/data structure must follow the guidelines [here](https://seabee-no.github.io/documentation/data-upload.html#sec-data-structure)."
   ]
  },
  {
   "cell_type": "code",
   "execution_count": 2,
   "id": "e4bf3810-afe1-4bbb-a228-7d3c32543487",
   "metadata": {},
   "outputs": [],
   "source": [
    "# List of mission folders to process. The trailing slash at the end of each path is required!\n",
    "mission_fold_list = [\n",
    "    r\"/home/notebook/shared-seabee-ns9879k/seabirds/2023/Karmoy_Kavholmen_20230513/\",\n",
    "]\n",
    "\n",
    "temp_dir = r\"/home/notebook/cogs/\""
   ]
  },
  {
   "cell_type": "code",
   "execution_count": 3,
   "id": "8ebf9958-27f6-48e1-97f1-6c842e8de634",
   "metadata": {},
   "outputs": [],
   "source": [
    "def parse_mission_data(mission_name):\n",
    "    \"\"\"Extract region, area and date from folder name.\n",
    "\n",
    "    Args\n",
    "        mission_name: Str. Name of mission folder\n",
    "\n",
    "    Returns\n",
    "        Tuple or Bool. (region, area, date) if name can be parsed, else False.\n",
    "    \"\"\"\n",
    "    try:\n",
    "        region, area, date = mission_name.split(\"_\")\n",
    "    except ValueError:\n",
    "        print(\n",
    "            f\"Skipping. Could not parse mission name '{mission_name}' (expected 'region_area_date')\"\n",
    "        )\n",
    "\n",
    "        return False\n",
    "\n",
    "    try:\n",
    "        date = dt.datetime.strptime(date, \"%Y%m%d\")\n",
    "    except ValueError:\n",
    "        try:\n",
    "            date = dt.datetime.strptime(date, \"%Y%m%d%H%M\")\n",
    "        except ValueError:\n",
    "            print(\n",
    "                f\"Skipping. Could not parse date '{date}' (expected 'YYYYMMDD' or 'YYYYMMDDhhmm')\"\n",
    "            )\n",
    "\n",
    "            return False\n",
    "\n",
    "    print(f\"Data collected at {area} ({region}) on {date}.\")\n",
    "\n",
    "    return (region, area, date)"
   ]
  },
  {
   "cell_type": "code",
   "execution_count": 4,
   "id": "a5d298fb-34ef-4b61-9ed9-c47c5711dd01",
   "metadata": {},
   "outputs": [],
   "source": [
    "# Login to MinIO\n",
    "minio_client = sb.storage.minio_login(\n",
    "    user=SETTINGS.MINIO_ACCESS_ID, password=SETTINGS.MINIO_SECRET_KEY\n",
    ")"
   ]
  },
  {
   "cell_type": "code",
   "execution_count": 5,
   "id": "7e147d81-302c-425c-b949-1ba052ce3aba",
   "metadata": {},
   "outputs": [
    {
     "name": "stdout",
     "output_type": "stream",
     "text": [
      "Processing: Karmoy_Kavholmen_20230513\n",
      "Data collected at Kavholmen (Karmoy) on 2023-05-13 00:00:00.\n",
      "  Preparing orthophoto for publishing.\n",
      "Input file size is 24445, 28860\n",
      "0...10...20...30...40...50...60...70...80...90...100 - done.\n",
      "  Uploading to GeoServer.\n",
      "  Publishing to GeoNode.\n",
      "  Updating metadata.\n",
      "  Finished.\n"
     ]
    }
   ],
   "source": [
    "for mission_fold in mission_fold_list:\n",
    "    mission = os.path.basename(os.path.dirname(mission_fold))\n",
    "    print(\"Processing:\", mission)\n",
    "    mission_data = parse_mission_data(mission)\n",
    "\n",
    "    if mission_data:\n",
    "        region, area, date = mission_data\n",
    "\n",
    "        print(\"Preparing orthophoto for publishing.\")\n",
    "        ortho_path = os.path.join(\n",
    "            mission_fold, \"orthophoto\", \"odm_orthophoto.original.tif\"\n",
    "        )\n",
    "        temp_path = os.path.join(temp_dir, mission + \".tif\")\n",
    "        sb.geo.standardise_orthophoto(\n",
    "            ortho_path,\n",
    "            temp_path,\n",
    "            red_band=1,\n",
    "            green_band=2,\n",
    "            blue_band=3,\n",
    "            nodata=255,\n",
    "        )\n",
    "        stan_path = os.path.join(mission_fold, \"orthophoto\", mission + \".tif\")\n",
    "        sb.storage.copy_file(temp_path, stan_path, minio_client, overwrite=False)\n",
    "        os.remove(temp_path)\n",
    "\n",
    "        print(\"Uploading to GeoServer.\")\n",
    "        layer_name = sb.geo.upload_raster_to_geoserver(\n",
    "            stan_path,\n",
    "            SETTINGS.GEOSERVER_USER,\n",
    "            SETTINGS.GEOSERVER_PASSWORD,\n",
    "            workspace=\"geonode\",\n",
    "        )\n",
    "\n",
    "        print(\"Publishing to GeoNode.\")\n",
    "        sb.geo.publish_to_geonode(\n",
    "            layer_name,\n",
    "            SETTINGS.GEONODE_USER,\n",
    "            SETTINGS.GEONODE_PASSWORD,\n",
    "            workspace=\"geonode\",\n",
    "        )\n",
    "\n",
    "        print(\"Updating metadata.\")\n",
    "        metadata = {\n",
    "            \"abstract\": f\"RGB mosaic collected by NINA at {area} ({region}) on {date}.\",\n",
    "            \"date\": date.isoformat(),\n",
    "            \"date_type\": \"creation\",\n",
    "            \"attribution\": \"SeaBee\",\n",
    "        }\n",
    "        sb.geo.update_geonode_metadata(\n",
    "            layer_name,\n",
    "            SETTINGS.GEONODE_USER,\n",
    "            SETTINGS.GEONODE_PASSWORD,\n",
    "            metadata,\n",
    "        )\n",
    "\n",
    "        print(f\"Finished.\\n\")"
   ]
  }
 ],
 "metadata": {
  "kernelspec": {
   "display_name": "Python 3 (ipykernel)",
   "language": "python",
   "name": "python3"
  },
  "language_info": {
   "codemirror_mode": {
    "name": "ipython",
    "version": 3
   },
   "file_extension": ".py",
   "mimetype": "text/x-python",
   "name": "python",
   "nbconvert_exporter": "python",
   "pygments_lexer": "ipython3",
   "version": "3.10.6"
  }
 },
 "nbformat": 4,
 "nbformat_minor": 5
}
